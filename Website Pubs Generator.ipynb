{
 "cells": [
  {
   "cell_type": "code",
   "execution_count": 1,
   "id": "86ff70a2",
   "metadata": {},
   "outputs": [],
   "source": [
    "import json\n",
    "import openpyxl\n",
    "import re\n",
    "import pandas as pd\n",
    "from datetime import datetime"
   ]
  },
  {
   "cell_type": "code",
   "execution_count": 2,
   "id": "9c36bc61",
   "metadata": {},
   "outputs": [],
   "source": [
    "def build_html(row):\n",
    "    return f'''<div class=\"accordion-item\"><h3 class=\"accordion-header\"><button class=\"accordion-button collapsed\" type=\"button\" data-bs-toggle=\"collapse\" data-bs-target=\"#faq-content-{row['index']}\">{row['Publication Name']}</button></h3><div id=\"faq-content-{row['index']}\" class=\"accordion-collapse collapse\" data-bs-parent=\"#faqlist\"><div class=\"accordion-body\"><p>Author: <strong>{row['Author']}</strong></p><a href=\"{row['Link']}\" target=\"_blank\" class=\"btn-get-started\">Access publication</a></div></div> </div><!-- # Faq item-->'''\n"
   ]
  },
  {
   "cell_type": "code",
   "execution_count": 3,
   "id": "d1fed45d",
   "metadata": {},
   "outputs": [],
   "source": [
    "xls = pd.ExcelFile('Speakers.xlsx')\n",
    "df = pd.read_excel(xls, 'Code - Automation')\n",
    "df = df.reset_index()    "
   ]
  },
  {
   "cell_type": "code",
   "execution_count": 4,
   "id": "33c90582",
   "metadata": {},
   "outputs": [
    {
     "name": "stdout",
     "output_type": "stream",
     "text": [
      "<div class=\"accordion-item\"><h3 class=\"accordion-header\"><button class=\"accordion-button collapsed\" type=\"button\" data-bs-toggle=\"collapse\" data-bs-target=\"#faq-content-0\">Accountability and the Juxtaposition of Civil Society and Policing in a Period of Changing Norms: Using Independent Police Advisors, </button></h3><div id=\"faq-content-0\" class=\"accordion-collapse collapse\" data-bs-parent=\"#faqlist\"><div class=\"accordion-body\"><p>Author: <strong>Candyce Kelshall</strong></p><a href=\"https://journals.lib.sfu.ca/index.php/jicw/article/view/476\" target=\"_blank\" class=\"btn-get-started\">Access publication</a></div></div> </div><!-- # Faq item-->\n"
     ]
    }
   ],
   "source": [
    "for index, row in df.iterrows():\n",
    "    print(build_html(row))\n",
    "    break"
   ]
  },
  {
   "cell_type": "code",
   "execution_count": 32,
   "id": "3af539bc",
   "metadata": {},
   "outputs": [],
   "source": [
    "#Police tags\n",
    "organized_crime = df[df['Tag (ONE ONLY)'] == 'Organized Crime']\n",
    "leadership = df[df['Tag (ONE ONLY)'] == 'Leadership']\n",
    "\n",
    "#no returns\n",
    "command = df[df['Tag (ONE ONLY)'] == 'Command']\n",
    "emerging_police_tech =  df[df['Tag (ONE ONLY)'] == 'Emerging Police Technologies ']\n",
    "gangs =  df[df['Tag (ONE ONLY)'] == 'Gangs']\n",
    "\n",
    "decision_mk_models =  df[df['Tag (ONE ONLY)'] == 'Decision Making Models']\n",
    "operational_policing =  df[df['Tag (ONE ONLY)'] == 'Operational Policing']\n",
    "soft_violence = df[df['Tag (ONE ONLY)'] == 'Soft Violence']\n",
    "century_policing =  df[df['Tag (ONE ONLY)'] == '21st Century Policing']\n",
    "\n",
    "police = [organized_crime,  leadership,command, emerging_police_tech, gangs, decision_mk_models, operational_policing,soft_violence, century_policing]"
   ]
  },
  {
   "cell_type": "code",
   "execution_count": 68,
   "id": "8754b3b1",
   "metadata": {
    "collapsed": true
   },
   "outputs": [
    {
     "name": "stdout",
     "output_type": "stream",
     "text": [
      "<div class=\"accordion-item\"><h3 class=\"accordion-header\"><button class=\"accordion-button collapsed\" type=\"button\" data-bs-toggle=\"collapse\" data-bs-target=\"#faq-content-148\">Illicit Drugs & the Impact of Canadian Organized Crime Groups</button></h3><div id=\"faq-content-148\" class=\"accordion-collapse collapse\" data-bs-parent=\"#faqlist\"><div class=\"accordion-body\"><p>Author: <strong>Chief Constable Mike Serr</strong></p><a href=\"https://journals.lib.sfu.ca/index.php/jicw/article/view/1190\" target=\"_blank\" class=\"btn-get-started\">Access publication</a></div></div> </div><!-- # Faq item-->\n",
      "<div class=\"accordion-item\"><h3 class=\"accordion-header\"><button class=\"accordion-button collapsed\" type=\"button\" data-bs-toggle=\"collapse\" data-bs-target=\"#faq-content-202\">The Conflation of Organized Crime and Terrorism in Venezuela</button></h3><div id=\"faq-content-202\" class=\"accordion-collapse collapse\" data-bs-parent=\"#faqlist\"><div class=\"accordion-body\"><p>Author: <strong>Victoria Dittmar</strong></p><a href=\"https://journals.lib.sfu.ca/index.php/jicw/article/view/1187\" target=\"_blank\" class=\"btn-get-started\">Access publication</a></div></div> </div><!-- # Faq item-->\n",
      "<div class=\"accordion-item\"><h3 class=\"accordion-header\"><button class=\"accordion-button collapsed\" type=\"button\" data-bs-toggle=\"collapse\" data-bs-target=\"#faq-content-207\">Organized Crime Groups in Latin America and TREX-Hybridity</button></h3><div id=\"faq-content-207\" class=\"accordion-collapse collapse\" data-bs-parent=\"#faqlist\"><div class=\"accordion-body\"><p>Author: <strong>Victoria Dittmar</strong></p><a href=\"https://journals.lib.sfu.ca/index.php/jicw/article/view/2799\" target=\"_blank\" class=\"btn-get-started\">Access publication</a></div></div> </div><!-- # Faq item-->\n"
     ]
    }
   ],
   "source": [
    "\n",
    "for index, row in organized_crime.iterrows():\n",
    "    print(build_html(row))"
   ]
  },
  {
   "cell_type": "code",
   "execution_count": 69,
   "id": "87255c67",
   "metadata": {
    "collapsed": true
   },
   "outputs": [
    {
     "name": "stdout",
     "output_type": "stream",
     "text": [
      "<div class=\"accordion-item\"><h3 class=\"accordion-header\"><button class=\"accordion-button collapsed\" type=\"button\" data-bs-toggle=\"collapse\" data-bs-target=\"#faq-content-86\">Leadership, Intelligence Management, and Complex Crises</button></h3><div id=\"faq-content-86\" class=\"accordion-collapse collapse\" data-bs-parent=\"#faqlist\"><div class=\"accordion-body\"><p>Author: <strong>Rear Admiral Richard Kelshall</strong></p><a href=\"https://journals.lib.sfu.ca/index.php/jicw/article/view/4207\" target=\"_blank\" class=\"btn-get-started\">Access publication</a></div></div> </div><!-- # Faq item-->\n",
      "<div class=\"accordion-item\"><h3 class=\"accordion-header\"><button class=\"accordion-button collapsed\" type=\"button\" data-bs-toggle=\"collapse\" data-bs-target=\"#faq-content-97\">Authenticity, Adversity and Accountability in the Context of Uniformed Leadership</button></h3><div id=\"faq-content-97\" class=\"accordion-collapse collapse\" data-bs-parent=\"#faqlist\"><div class=\"accordion-body\"><p>Author: <strong>Commander Jonathan Kouwenberg</strong></p><a href=\"https://journals.lib.sfu.ca/index.php/jicw/article/view/4159\" target=\"_blank\" class=\"btn-get-started\">Access publication</a></div></div> </div><!-- # Faq item-->\n",
      "<div class=\"accordion-item\"><h3 class=\"accordion-header\"><button class=\"accordion-button collapsed\" type=\"button\" data-bs-toggle=\"collapse\" data-bs-target=\"#faq-content-99\">Leading in a Data Centric Society</button></h3><div id=\"faq-content-99\" class=\"accordion-collapse collapse\" data-bs-parent=\"#faqlist\"><div class=\"accordion-body\"><p>Author: <strong>Lieutenant Colonel Vincent Virk</strong></p><a href=\"https://journals.lib.sfu.ca/index.php/jicw/article/view/2529\" target=\"_blank\" class=\"btn-get-started\">Access publication</a></div></div> </div><!-- # Faq item-->\n",
      "<div class=\"accordion-item\"><h3 class=\"accordion-header\"><button class=\"accordion-button collapsed\" type=\"button\" data-bs-toggle=\"collapse\" data-bs-target=\"#faq-content-101\">Effective Leadership in Times of Uncertainty\n",
      "</button></h3><div id=\"faq-content-101\" class=\"accordion-collapse collapse\" data-bs-parent=\"#faqlist\"><div class=\"accordion-body\"><p>Author: <strong>Lieutenant Colonel Vincent Virk</strong></p><a href=\"https://journals.lib.sfu.ca/index.php/jicw/article/view/4196\" target=\"_blank\" class=\"btn-get-started\">Access publication</a></div></div> </div><!-- # Faq item-->\n"
     ]
    }
   ],
   "source": [
    "\n",
    "for index, row in leadership.iterrows():\n",
    "    print(build_html(row))"
   ]
  },
  {
   "cell_type": "code",
   "execution_count": 70,
   "id": "409cf5df",
   "metadata": {
    "collapsed": true
   },
   "outputs": [
    {
     "name": "stdout",
     "output_type": "stream",
     "text": [
      "<div class=\"accordion-item\"><h3 class=\"accordion-header\"><button class=\"accordion-button collapsed\" type=\"button\" data-bs-toggle=\"collapse\" data-bs-target=\"#faq-content-87\">Leadership, Intelligence Management, and Complex Crises</button></h3><div id=\"faq-content-87\" class=\"accordion-collapse collapse\" data-bs-parent=\"#faqlist\"><div class=\"accordion-body\"><p>Author: <strong>Rear Admiral Richard Kelshall</strong></p><a href=\"https://journals.lib.sfu.ca/index.php/jicw/article/view/4207\" target=\"_blank\" class=\"btn-get-started\">Access publication</a></div></div> </div><!-- # Faq item-->\n",
      "<div class=\"accordion-item\"><h3 class=\"accordion-header\"><button class=\"accordion-button collapsed\" type=\"button\" data-bs-toggle=\"collapse\" data-bs-target=\"#faq-content-89\">Canadian Armed Forces Assistance to Law Enforcement and Civil Authorities</button></h3><div id=\"faq-content-89\" class=\"accordion-collapse collapse\" data-bs-parent=\"#faqlist\"><div class=\"accordion-body\"><p>Author: <strong>Lieutenant Commander Heidi Straarup</strong></p><a href=\"https://journals.lib.sfu.ca/index.php/jicw/article/view/5409\" target=\"_blank\" class=\"btn-get-started\">Access publication</a></div></div> </div><!-- # Faq item-->\n",
      "<div class=\"accordion-item\"><h3 class=\"accordion-header\"><button class=\"accordion-button collapsed\" type=\"button\" data-bs-toggle=\"collapse\" data-bs-target=\"#faq-content-98\">Authenticity, Adversity and Accountability in the Context of Uniformed Leadership</button></h3><div id=\"faq-content-98\" class=\"accordion-collapse collapse\" data-bs-parent=\"#faqlist\"><div class=\"accordion-body\"><p>Author: <strong>Commander Jonathan Kouwenberg</strong></p><a href=\"https://journals.lib.sfu.ca/index.php/jicw/article/view/4159\" target=\"_blank\" class=\"btn-get-started\">Access publication</a></div></div> </div><!-- # Faq item-->\n",
      "<div class=\"accordion-item\"><h3 class=\"accordion-header\"><button class=\"accordion-button collapsed\" type=\"button\" data-bs-toggle=\"collapse\" data-bs-target=\"#faq-content-103\">Interagency Collaboration and National Security</button></h3><div id=\"faq-content-103\" class=\"accordion-collapse collapse\" data-bs-parent=\"#faqlist\"><div class=\"accordion-body\"><p>Author: <strong>Brigadier-General Archilus Phillips</strong></p><a href=\"https://journals.lib.sfu.ca/index.php/jicw/article/view/2817\" target=\"_blank\" class=\"btn-get-started\">Access publication</a></div></div> </div><!-- # Faq item-->\n"
     ]
    }
   ],
   "source": [
    "\n",
    "for index, row in command.iterrows():\n",
    "    print(build_html(row))"
   ]
  },
  {
   "cell_type": "code",
   "execution_count": 33,
   "id": "3aac654c",
   "metadata": {},
   "outputs": [
    {
     "name": "stdout",
     "output_type": "stream",
     "text": [
      "<div class=\"accordion-item\"><h3 class=\"accordion-header\"><button class=\"accordion-button collapsed\" type=\"button\" data-bs-toggle=\"collapse\" data-bs-target=\"#faq-content-119\">How policing has changed since COVID-19\n",
      "</button></h3><div id=\"faq-content-119\" class=\"accordion-collapse collapse\" data-bs-parent=\"#faqlist\"><div class=\"accordion-body\"><p>Author: <strong>Superintendent Asif Rashid </strong></p><a href=\"https://journals.lib.sfu.ca/index.php/jicw/article/view/2753\" target=\"_blank\" class=\"btn-get-started\">Access publication</a></div></div> </div><!-- # Faq item-->\n",
      "<div class=\"accordion-item\"><h3 class=\"accordion-header\"><button class=\"accordion-button collapsed\" type=\"button\" data-bs-toggle=\"collapse\" data-bs-target=\"#faq-content-124\">Repairing the Relationship between Law Enforcement and the Public\n",
      "</button></h3><div id=\"faq-content-124\" class=\"accordion-collapse collapse\" data-bs-parent=\"#faqlist\"><div class=\"accordion-body\"><p>Author: <strong>Commisioner Brenda Lucki</strong></p><a href=\"https://journals.lib.sfu.ca/index.php/jicw/article/view/4184\" target=\"_blank\" class=\"btn-get-started\">Access publication</a></div></div> </div><!-- # Faq item-->\n",
      "<div class=\"accordion-item\"><h3 class=\"accordion-header\"><button class=\"accordion-button collapsed\" type=\"button\" data-bs-toggle=\"collapse\" data-bs-target=\"#faq-content-130\">DATA & INFRASTRUCTURE SECURITY: THE RISK OF AI ENABLED CYBER ATTACKS AND QUANTUM HACKING</button></h3><div id=\"faq-content-130\" class=\"accordion-collapse collapse\" data-bs-parent=\"#faqlist\"><div class=\"accordion-body\"><p>Author: <strong>Dr. Ryan Prox</strong></p><a href=\"https://journals.lib.sfu.ca/index.php/jicw/article/view/5179\" target=\"_blank\" class=\"btn-get-started\">Access publication</a></div></div> </div><!-- # Faq item-->\n",
      "<div class=\"accordion-item\"><h3 class=\"accordion-header\"><button class=\"accordion-button collapsed\" type=\"button\" data-bs-toggle=\"collapse\" data-bs-target=\"#faq-content-135\">Algorithmic Technology: Fueling AI in an Ethical & Transparent Way\n",
      "</button></h3><div id=\"faq-content-135\" class=\"accordion-collapse collapse\" data-bs-parent=\"#faqlist\"><div class=\"accordion-body\"><p>Author: <strong>Dr. Ryan Prox</strong></p><a href=\"https://journals.lib.sfu.ca/index.php/jicw/article/view/5056\" target=\"_blank\" class=\"btn-get-started\">Access publication</a></div></div> </div><!-- # Faq item-->\n",
      "<div class=\"accordion-item\"><h3 class=\"accordion-header\"><button class=\"accordion-button collapsed\" type=\"button\" data-bs-toggle=\"collapse\" data-bs-target=\"#faq-content-142\">Artificial Intelligence and Police Decision Making Processes\n",
      "</button></h3><div id=\"faq-content-142\" class=\"accordion-collapse collapse\" data-bs-parent=\"#faqlist\"><div class=\"accordion-body\"><p>Author: <strong>Chief Constable Adam Palmer</strong></p><a href=\"https://journals.lib.sfu.ca/index.php/jicw/article/view/2575\" target=\"_blank\" class=\"btn-get-started\">Access publication</a></div></div> </div><!-- # Faq item-->\n",
      "<div class=\"accordion-item\"><h3 class=\"accordion-header\"><button class=\"accordion-button collapsed\" type=\"button\" data-bs-toggle=\"collapse\" data-bs-target=\"#faq-content-146\">Policing in the 21st Century\n",
      "</button></h3><div id=\"faq-content-146\" class=\"accordion-collapse collapse\" data-bs-parent=\"#faqlist\"><div class=\"accordion-body\"><p>Author: <strong>Assistant Commissioner Dwayne McDonald</strong></p><a href=\"https://journals.lib.sfu.ca/index.php/jicw/article/view/27699\" target=\"_blank\" class=\"btn-get-started\">Access publication</a></div></div> </div><!-- # Faq item-->\n"
     ]
    }
   ],
   "source": [
    "\n",
    "for index, row in emerging_police_tech.iterrows():\n",
    "    print(build_html(row))"
   ]
  },
  {
   "cell_type": "code",
   "execution_count": 72,
   "id": "8a715290",
   "metadata": {},
   "outputs": [],
   "source": [
    "\n",
    "for index, row in gangs.iterrows():\n",
    "    print(build_html(row))"
   ]
  },
  {
   "cell_type": "code",
   "execution_count": 73,
   "id": "eef3ad71",
   "metadata": {
    "collapsed": true
   },
   "outputs": [
    {
     "name": "stdout",
     "output_type": "stream",
     "text": [
      "<div class=\"accordion-item\"><h3 class=\"accordion-header\"><button class=\"accordion-button collapsed\" type=\"button\" data-bs-toggle=\"collapse\" data-bs-target=\"#faq-content-19\">How Spies Think: Ten Lessons in Intelligence</button></h3><div id=\"faq-content-19\" class=\"accordion-collapse collapse\" data-bs-parent=\"#faqlist\"><div class=\"accordion-body\"><p>Author: <strong>Sir David Omand</strong></p><a href=\" https://journals.lib.sfu.ca/index.php/jicw/article/view/4201 \" target=\"_blank\" class=\"btn-get-started\">Access publication</a></div></div> </div><!-- # Faq item-->\n",
      "<div class=\"accordion-item\"><h3 class=\"accordion-header\"><button class=\"accordion-button collapsed\" type=\"button\" data-bs-toggle=\"collapse\" data-bs-target=\"#faq-content-143\">Artificial Intelligence and Police Decision Making Processes\n",
      "</button></h3><div id=\"faq-content-143\" class=\"accordion-collapse collapse\" data-bs-parent=\"#faqlist\"><div class=\"accordion-body\"><p>Author: <strong>Chief Constable Adam Palmer</strong></p><a href=\"https://journals.lib.sfu.ca/index.php/jicw/article/view/2575\" target=\"_blank\" class=\"btn-get-started\">Access publication</a></div></div> </div><!-- # Faq item-->\n"
     ]
    }
   ],
   "source": [
    "\n",
    "for index, row in decision_mk_models.iterrows():\n",
    "    print(build_html(row))"
   ]
  },
  {
   "cell_type": "code",
   "execution_count": 74,
   "id": "e67586f2",
   "metadata": {
    "collapsed": true
   },
   "outputs": [
    {
     "name": "stdout",
     "output_type": "stream",
     "text": [
      "<div class=\"accordion-item\"><h3 class=\"accordion-header\"><button class=\"accordion-button collapsed\" type=\"button\" data-bs-toggle=\"collapse\" data-bs-target=\"#faq-content-30\">Asymmetric Attack: A Quantum of Warning</button></h3><div id=\"faq-content-30\" class=\"accordion-collapse collapse\" data-bs-parent=\"#faqlist\"><div class=\"accordion-body\"><p>Author: <strong>Alexander Butterfield</strong></p><a href=\"https://journals.lib.sfu.ca/index.php/jicw/article/view/41533\" target=\"_blank\" class=\"btn-get-started\">Access publication</a></div></div> </div><!-- # Faq item-->\n",
      "<div class=\"accordion-item\"><h3 class=\"accordion-header\"><button class=\"accordion-button collapsed\" type=\"button\" data-bs-toggle=\"collapse\" data-bs-target=\"#faq-content-67\">ETHICS AND EXCELLENCE IN UNDERCOVER OPERATIONS: A HUMAN SOURCE PERSPECTIVE </button></h3><div id=\"faq-content-67\" class=\"accordion-collapse collapse\" data-bs-parent=\"#faqlist\"><div class=\"accordion-body\"><p>Author: <strong>Mubin Shaikh </strong></p><a href=\"https://journals.lib.sfu.ca/index.php/jicw/article/view/5207\" target=\"_blank\" class=\"btn-get-started\">Access publication</a></div></div> </div><!-- # Faq item-->\n",
      "<div class=\"accordion-item\"><h3 class=\"accordion-header\"><button class=\"accordion-button collapsed\" type=\"button\" data-bs-toggle=\"collapse\" data-bs-target=\"#faq-content-110\">Policing During COVID-19: Perspectives from MET Police, UK</button></h3><div id=\"faq-content-110\" class=\"accordion-collapse collapse\" data-bs-parent=\"#faqlist\"><div class=\"accordion-body\"><p>Author: <strong>Deputy Assistant Commissioner Lucy D'Orsi</strong></p><a href=\"https://journals.lib.sfu.ca/index.php/jicw/article/view/2778\" target=\"_blank\" class=\"btn-get-started\">Access publication</a></div></div> </div><!-- # Faq item-->\n",
      "<div class=\"accordion-item\"><h3 class=\"accordion-header\"><button class=\"accordion-button collapsed\" type=\"button\" data-bs-toggle=\"collapse\" data-bs-target=\"#faq-content-113\">Online Neighbourhood Patrol: How to Best Understand the Changing Online Social Contract</button></h3><div id=\"faq-content-113\" class=\"accordion-collapse collapse\" data-bs-parent=\"#faqlist\"><div class=\"accordion-body\"><p>Author: <strong>Kathy McDonald M.O.M. </strong></p><a href=\"https://journals.lib.sfu.ca/index.php/jicw/article/view/4198\" target=\"_blank\" class=\"btn-get-started\">Access publication</a></div></div> </div><!-- # Faq item-->\n",
      "<div class=\"accordion-item\"><h3 class=\"accordion-header\"><button class=\"accordion-button collapsed\" type=\"button\" data-bs-toggle=\"collapse\" data-bs-target=\"#faq-content-115\">Cyber investigation: A new frontier for police\n",
      "</button></h3><div id=\"faq-content-115\" class=\"accordion-collapse collapse\" data-bs-parent=\"#faqlist\"><div class=\"accordion-body\"><p>Author: <strong>Kathy McDonald M.O.M. </strong></p><a href=\"https://journals.lib.sfu.ca/index.php/jicw/article/view/2754\" target=\"_blank\" class=\"btn-get-started\">Access publication</a></div></div> </div><!-- # Faq item-->\n",
      "<div class=\"accordion-item\"><h3 class=\"accordion-header\"><button class=\"accordion-button collapsed\" type=\"button\" data-bs-toggle=\"collapse\" data-bs-target=\"#faq-content-118\">How policing has changed since COVID-19\n",
      "</button></h3><div id=\"faq-content-118\" class=\"accordion-collapse collapse\" data-bs-parent=\"#faqlist\"><div class=\"accordion-body\"><p>Author: <strong>Superintendent Asif Rashid </strong></p><a href=\"https://journals.lib.sfu.ca/index.php/jicw/article/view/2753\" target=\"_blank\" class=\"btn-get-started\">Access publication</a></div></div> </div><!-- # Faq item-->\n",
      "<div class=\"accordion-item\"><h3 class=\"accordion-header\"><button class=\"accordion-button collapsed\" type=\"button\" data-bs-toggle=\"collapse\" data-bs-target=\"#faq-content-121\">Don’t Ever Think You’ve Cracked It!</button></h3><div id=\"faq-content-121\" class=\"accordion-collapse collapse\" data-bs-parent=\"#faqlist\"><div class=\"accordion-body\"><p>Author: <strong>Ian Hopkins\n",
      "</strong></p><a href=\"https://journals.lib.sfu.ca/index.php/jicw/article/view/4187\" target=\"_blank\" class=\"btn-get-started\">Access publication</a></div></div> </div><!-- # Faq item-->\n",
      "<div class=\"accordion-item\"><h3 class=\"accordion-header\"><button class=\"accordion-button collapsed\" type=\"button\" data-bs-toggle=\"collapse\" data-bs-target=\"#faq-content-134\">Algorithmic Technology: Fueling AI in an Ethical & Transparent Way\n",
      "</button></h3><div id=\"faq-content-134\" class=\"accordion-collapse collapse\" data-bs-parent=\"#faqlist\"><div class=\"accordion-body\"><p>Author: <strong>Dr. Ryan Prox</strong></p><a href=\"https://journals.lib.sfu.ca/index.php/jicw/article/view/5056\" target=\"_blank\" class=\"btn-get-started\">Access publication</a></div></div> </div><!-- # Faq item-->\n",
      "<div class=\"accordion-item\"><h3 class=\"accordion-header\"><button class=\"accordion-button collapsed\" type=\"button\" data-bs-toggle=\"collapse\" data-bs-target=\"#faq-content-136\">POLICING PUBLIC PROTESTS</button></h3><div id=\"faq-content-136\" class=\"accordion-collapse collapse\" data-bs-parent=\"#faqlist\"><div class=\"accordion-body\"><p>Author: <strong>Former Superintendent Colum Price </strong></p><a href=\"https://journals.lib.sfu.ca/index.php/jicw/article/view/5203\" target=\"_blank\" class=\"btn-get-started\">Access publication</a></div></div> </div><!-- # Faq item-->\n",
      "<div class=\"accordion-item\"><h3 class=\"accordion-header\"><button class=\"accordion-button collapsed\" type=\"button\" data-bs-toggle=\"collapse\" data-bs-target=\"#faq-content-138\">POLICING DURING CRISES AND IN AN ERA OF NEW CHALLENGES</button></h3><div id=\"faq-content-138\" class=\"accordion-collapse collapse\" data-bs-parent=\"#faqlist\"><div class=\"accordion-body\"><p>Author: <strong>Chief Constable Del Manak </strong></p><a href=\"https://journals.lib.sfu.ca/index.php/jicw/article/view/5205\" target=\"_blank\" class=\"btn-get-started\">Access publication</a></div></div> </div><!-- # Faq item-->\n",
      "<div class=\"accordion-item\"><h3 class=\"accordion-header\"><button class=\"accordion-button collapsed\" type=\"button\" data-bs-toggle=\"collapse\" data-bs-target=\"#faq-content-141\">Artificial Intelligence and Police Decision Making Processes\n",
      "</button></h3><div id=\"faq-content-141\" class=\"accordion-collapse collapse\" data-bs-parent=\"#faqlist\"><div class=\"accordion-body\"><p>Author: <strong>Chief Constable Adam Palmer</strong></p><a href=\"https://journals.lib.sfu.ca/index.php/jicw/article/view/2575\" target=\"_blank\" class=\"btn-get-started\">Access publication</a></div></div> </div><!-- # Faq item-->\n",
      "<div class=\"accordion-item\"><h3 class=\"accordion-header\"><button class=\"accordion-button collapsed\" type=\"button\" data-bs-toggle=\"collapse\" data-bs-target=\"#faq-content-144\">Policing in the 21st Century\n",
      "</button></h3><div id=\"faq-content-144\" class=\"accordion-collapse collapse\" data-bs-parent=\"#faqlist\"><div class=\"accordion-body\"><p>Author: <strong>Assistant Commissioner Dwayne McDonald</strong></p><a href=\"https://journals.lib.sfu.ca/index.php/jicw/article/view/27699\" target=\"_blank\" class=\"btn-get-started\">Access publication</a></div></div> </div><!-- # Faq item-->\n",
      "<div class=\"accordion-item\"><h3 class=\"accordion-header\"><button class=\"accordion-button collapsed\" type=\"button\" data-bs-toggle=\"collapse\" data-bs-target=\"#faq-content-179\">RESPONDING TO CRISES: STRATEGIES FOR LAW ENFORCEMENT WHEN ASSISTING CITIZENS IN CRISIS\n",
      "</button></h3><div id=\"faq-content-179\" class=\"accordion-collapse collapse\" data-bs-parent=\"#faqlist\"><div class=\"accordion-body\"><p>Author: <strong>Dr. Dara Rampersad</strong></p><a href=\"https://journals.lib.sfu.ca/index.php/jicw/article/view/5197\" target=\"_blank\" class=\"btn-get-started\">Access publication</a></div></div> </div><!-- # Faq item-->\n",
      "<div class=\"accordion-item\"><h3 class=\"accordion-header\"><button class=\"accordion-button collapsed\" type=\"button\" data-bs-toggle=\"collapse\" data-bs-target=\"#faq-content-180\">LESSONS LEARNED AS A NEW POLICE FORCE\n",
      "</button></h3><div id=\"faq-content-180\" class=\"accordion-collapse collapse\" data-bs-parent=\"#faqlist\"><div class=\"accordion-body\"><p>Author: <strong>Deputy Chief Constable Jennifer Hyland</strong></p><a href=\"https://journals.lib.sfu.ca/index.php/jicw/article/view/5206\" target=\"_blank\" class=\"btn-get-started\">Access publication</a></div></div> </div><!-- # Faq item-->\n",
      "<div class=\"accordion-item\"><h3 class=\"accordion-header\"><button class=\"accordion-button collapsed\" type=\"button\" data-bs-toggle=\"collapse\" data-bs-target=\"#faq-content-183\">Building a Police Service in Challenging and Changing Times</button></h3><div id=\"faq-content-183\" class=\"accordion-collapse collapse\" data-bs-parent=\"#faqlist\"><div class=\"accordion-body\"><p>Author: <strong>Deputy Chief Constable Jennifer Hyland</strong></p><a href=\"https://journals.lib.sfu.ca/index.php/jicw/article/view/4190\" target=\"_blank\" class=\"btn-get-started\">Access publication</a></div></div> </div><!-- # Faq item-->\n",
      "<div class=\"accordion-item\"><h3 class=\"accordion-header\"><button class=\"accordion-button collapsed\" type=\"button\" data-bs-toggle=\"collapse\" data-bs-target=\"#faq-content-185\">STRATEGIC CONSIDERATIONS FOR MANAGING PROTESTS: A NEW ERA\n",
      "</button></h3><div id=\"faq-content-185\" class=\"accordion-collapse collapse\" data-bs-parent=\"#faqlist\"><div class=\"accordion-body\"><p>Author: <strong>Chief Superintendent John Brewer</strong></p><a href=\"https://journals.lib.sfu.ca/index.php/jicw/article/view/5204\" target=\"_blank\" class=\"btn-get-started\">Access publication</a></div></div> </div><!-- # Faq item-->\n",
      "<div class=\"accordion-item\"><h3 class=\"accordion-header\"><button class=\"accordion-button collapsed\" type=\"button\" data-bs-toggle=\"collapse\" data-bs-target=\"#faq-content-322\">Engaging The Public In Homicide Investigations</button></h3><div id=\"faq-content-322\" class=\"accordion-collapse collapse\" data-bs-parent=\"#faqlist\"><div class=\"accordion-body\"><p>Author: <strong>Sgt Frank Jang</strong></p><a href=\"https://soundcloud.com/casisvancouver/episode-13-engaging-the-public-in-homicide-investigations\" target=\"_blank\" class=\"btn-get-started\">Access publication</a></div></div> </div><!-- # Faq item-->\n"
     ]
    }
   ],
   "source": [
    "\n",
    "for index, row in operational_policing.iterrows():\n",
    "    print(build_html(row))"
   ]
  },
  {
   "cell_type": "code",
   "execution_count": 75,
   "id": "4c6aeefe",
   "metadata": {
    "collapsed": true
   },
   "outputs": [
    {
     "name": "stdout",
     "output_type": "stream",
     "text": [
      "<div class=\"accordion-item\"><h3 class=\"accordion-header\"><button class=\"accordion-button collapsed\" type=\"button\" data-bs-toggle=\"collapse\" data-bs-target=\"#faq-content-2\">Violent Transnational Social Movements and their Impact on Contemporary Social Conflict</button></h3><div id=\"faq-content-2\" class=\"accordion-collapse collapse\" data-bs-parent=\"#faqlist\"><div class=\"accordion-body\"><p>Author: <strong>Candyce Kelshall</strong></p><a href=\"https://journals.lib.sfu.ca/index.php/jicw/article/view/840\" target=\"_blank\" class=\"btn-get-started\">Access publication</a></div></div> </div><!-- # Faq item-->\n",
      "<div class=\"accordion-item\"><h3 class=\"accordion-header\"><button class=\"accordion-button collapsed\" type=\"button\" data-bs-toggle=\"collapse\" data-bs-target=\"#faq-content-7\">Soft Violence, Social Radicalisation, and Violent Transnational Social Movements (VTSMs)</button></h3><div id=\"faq-content-7\" class=\"accordion-collapse collapse\" data-bs-parent=\"#faqlist\"><div class=\"accordion-body\"><p>Author: <strong>Candyce Kelshall</strong></p><a href=\"https://journals.lib.sfu.ca/index.php/jicw/article/view/2800\" target=\"_blank\" class=\"btn-get-started\">Access publication</a></div></div> </div><!-- # Faq item-->\n",
      "<div class=\"accordion-item\"><h3 class=\"accordion-header\"><button class=\"accordion-button collapsed\" type=\"button\" data-bs-toggle=\"collapse\" data-bs-target=\"#faq-content-11\">Concept of Soft Violence in Critical Security Studies</button></h3><div id=\"faq-content-11\" class=\"accordion-collapse collapse\" data-bs-parent=\"#faqlist\"><div class=\"accordion-body\"><p>Author: <strong>Candyce Kelshall</strong></p><a href=\"https://journals.lib.sfu.ca/index.php/jicw/article/view/3755\" target=\"_blank\" class=\"btn-get-started\">Access publication</a></div></div> </div><!-- # Faq item-->\n",
      "<div class=\"accordion-item\"><h3 class=\"accordion-header\"><button class=\"accordion-button collapsed\" type=\"button\" data-bs-toggle=\"collapse\" data-bs-target=\"#faq-content-151\">Dehumanization, Hate Speech, and Violence in Right-Wing Extremist Environments\n",
      "</button></h3><div id=\"faq-content-151\" class=\"accordion-collapse collapse\" data-bs-parent=\"#faqlist\"><div class=\"accordion-body\"><p>Author: <strong>Dr. Lisa Kaati</strong></p><a href=\"https://journals.lib.sfu.ca/index.php/jicw/article/view/4160\" target=\"_blank\" class=\"btn-get-started\">Access publication</a></div></div> </div><!-- # Faq item-->\n",
      "<div class=\"accordion-item\"><h3 class=\"accordion-header\"><button class=\"accordion-button collapsed\" type=\"button\" data-bs-toggle=\"collapse\" data-bs-target=\"#faq-content-217\">Kekistanis and the Meme War on Social Media</button></h3><div id=\"faq-content-217\" class=\"accordion-collapse collapse\" data-bs-parent=\"#faqlist\"><div class=\"accordion-body\"><p>Author: <strong>Dr. Ahmed Al-Rawi</strong></p><a href=\"https://journals.lib.sfu.ca/index.php/jicw/article/view/2360\" target=\"_blank\" class=\"btn-get-started\">Access publication</a></div></div> </div><!-- # Faq item-->\n",
      "<div class=\"accordion-item\"><h3 class=\"accordion-header\"><button class=\"accordion-button collapsed\" type=\"button\" data-bs-toggle=\"collapse\" data-bs-target=\"#faq-content-220\">Radicalization in the Age of Social Media: Mass Identity Manipulations (MIMs)</button></h3><div id=\"faq-content-220\" class=\"accordion-collapse collapse\" data-bs-parent=\"#faqlist\"><div class=\"accordion-body\"><p>Author: <strong>Dr. Sophia Moskalenko</strong></p><a href=\"https://journals.lib.sfu.ca/index.php/jicw/article/view/2539 \" target=\"_blank\" class=\"btn-get-started\">Access publication</a></div></div> </div><!-- # Faq item-->\n",
      "<div class=\"accordion-item\"><h3 class=\"accordion-header\"><button class=\"accordion-button collapsed\" type=\"button\" data-bs-toggle=\"collapse\" data-bs-target=\"#faq-content-239\">Concept of Soft Violence in Critical Security Studies</button></h3><div id=\"faq-content-239\" class=\"accordion-collapse collapse\" data-bs-parent=\"#faqlist\"><div class=\"accordion-body\"><p>Author: <strong>Natalie Archutowski</strong></p><a href=\"https://journals.lib.sfu.ca/index.php/jicw/article/view/3755\" target=\"_blank\" class=\"btn-get-started\">Access publication</a></div></div> </div><!-- # Faq item-->\n",
      "<div class=\"accordion-item\"><h3 class=\"accordion-header\"><button class=\"accordion-button collapsed\" type=\"button\" data-bs-toggle=\"collapse\" data-bs-target=\"#faq-content-247\">Memes, viruses, and violence: A nation guide to managing contagious threats</button></h3><div id=\"faq-content-247\" class=\"accordion-collapse collapse\" data-bs-parent=\"#faqlist\"><div class=\"accordion-body\"><p>Author: <strong>Dr. Joel Finkelstein</strong></p><a href=\"https://journals.lib.sfu.ca/index.php/jicw/article/view/4250\" target=\"_blank\" class=\"btn-get-started\">Access publication</a></div></div> </div><!-- # Faq item-->\n"
     ]
    }
   ],
   "source": [
    "\n",
    "for index, row in soft_violence.iterrows():\n",
    "    print(build_html(row))"
   ]
  },
  {
   "cell_type": "code",
   "execution_count": 76,
   "id": "029e3a26",
   "metadata": {
    "collapsed": true
   },
   "outputs": [
    {
     "name": "stdout",
     "output_type": "stream",
     "text": [
      "<div class=\"accordion-item\"><h3 class=\"accordion-header\"><button class=\"accordion-button collapsed\" type=\"button\" data-bs-toggle=\"collapse\" data-bs-target=\"#faq-content-1\">Accountability and the Juxtaposition of Civil Society and Policing in a Period of Changing Norms: Using Independent Police Advisors, </button></h3><div id=\"faq-content-1\" class=\"accordion-collapse collapse\" data-bs-parent=\"#faqlist\"><div class=\"accordion-body\"><p>Author: <strong>Candyce Kelshall</strong></p><a href=\"https://journals.lib.sfu.ca/index.php/jicw/article/view/476\" target=\"_blank\" class=\"btn-get-started\">Access publication</a></div></div> </div><!-- # Faq item-->\n",
      "<div class=\"accordion-item\"><h3 class=\"accordion-header\"><button class=\"accordion-button collapsed\" type=\"button\" data-bs-toggle=\"collapse\" data-bs-target=\"#faq-content-111\">Policing During COVID-19: Perspectives from MET Police, UK</button></h3><div id=\"faq-content-111\" class=\"accordion-collapse collapse\" data-bs-parent=\"#faqlist\"><div class=\"accordion-body\"><p>Author: <strong>Deputy Assistant Commissioner Lucy D'Orsi</strong></p><a href=\"https://journals.lib.sfu.ca/index.php/jicw/article/view/2778\" target=\"_blank\" class=\"btn-get-started\">Access publication</a></div></div> </div><!-- # Faq item-->\n",
      "<div class=\"accordion-item\"><h3 class=\"accordion-header\"><button class=\"accordion-button collapsed\" type=\"button\" data-bs-toggle=\"collapse\" data-bs-target=\"#faq-content-114\">Online Neighbourhood Patrol: How to Best Understand the Changing Online Social Contract</button></h3><div id=\"faq-content-114\" class=\"accordion-collapse collapse\" data-bs-parent=\"#faqlist\"><div class=\"accordion-body\"><p>Author: <strong>Kathy McDonald M.O.M. </strong></p><a href=\"https://journals.lib.sfu.ca/index.php/jicw/article/view/4198\" target=\"_blank\" class=\"btn-get-started\">Access publication</a></div></div> </div><!-- # Faq item-->\n",
      "<div class=\"accordion-item\"><h3 class=\"accordion-header\"><button class=\"accordion-button collapsed\" type=\"button\" data-bs-toggle=\"collapse\" data-bs-target=\"#faq-content-116\">Cyber investigation: A new frontier for police\n",
      "</button></h3><div id=\"faq-content-116\" class=\"accordion-collapse collapse\" data-bs-parent=\"#faqlist\"><div class=\"accordion-body\"><p>Author: <strong>Kathy McDonald M.O.M. </strong></p><a href=\"https://journals.lib.sfu.ca/index.php/jicw/article/view/2754\" target=\"_blank\" class=\"btn-get-started\">Access publication</a></div></div> </div><!-- # Faq item-->\n",
      "<div class=\"accordion-item\"><h3 class=\"accordion-header\"><button class=\"accordion-button collapsed\" type=\"button\" data-bs-toggle=\"collapse\" data-bs-target=\"#faq-content-120\">How policing has changed since COVID-19\n",
      "</button></h3><div id=\"faq-content-120\" class=\"accordion-collapse collapse\" data-bs-parent=\"#faqlist\"><div class=\"accordion-body\"><p>Author: <strong>Superintendent Asif Rashid </strong></p><a href=\"https://journals.lib.sfu.ca/index.php/jicw/article/view/2753\" target=\"_blank\" class=\"btn-get-started\">Access publication</a></div></div> </div><!-- # Faq item-->\n",
      "<div class=\"accordion-item\"><h3 class=\"accordion-header\"><button class=\"accordion-button collapsed\" type=\"button\" data-bs-toggle=\"collapse\" data-bs-target=\"#faq-content-129\">DATA & INFRASTRUCTURE SECURITY: THE RISK OF AI ENABLED CYBER ATTACKS AND QUANTUM HACKING</button></h3><div id=\"faq-content-129\" class=\"accordion-collapse collapse\" data-bs-parent=\"#faqlist\"><div class=\"accordion-body\"><p>Author: <strong>Dr. Ryan Prox</strong></p><a href=\"https://journals.lib.sfu.ca/index.php/jicw/article/view/5179\" target=\"_blank\" class=\"btn-get-started\">Access publication</a></div></div> </div><!-- # Faq item-->\n",
      "<div class=\"accordion-item\"><h3 class=\"accordion-header\"><button class=\"accordion-button collapsed\" type=\"button\" data-bs-toggle=\"collapse\" data-bs-target=\"#faq-content-139\">POLICING DURING CRISES AND IN AN ERA OF NEW CHALLENGES</button></h3><div id=\"faq-content-139\" class=\"accordion-collapse collapse\" data-bs-parent=\"#faqlist\"><div class=\"accordion-body\"><p>Author: <strong>Chief Constable Del Manak </strong></p><a href=\"https://journals.lib.sfu.ca/index.php/jicw/article/view/5205\" target=\"_blank\" class=\"btn-get-started\">Access publication</a></div></div> </div><!-- # Faq item-->\n",
      "<div class=\"accordion-item\"><h3 class=\"accordion-header\"><button class=\"accordion-button collapsed\" type=\"button\" data-bs-toggle=\"collapse\" data-bs-target=\"#faq-content-147\">Policing in the 21st Century\n",
      "</button></h3><div id=\"faq-content-147\" class=\"accordion-collapse collapse\" data-bs-parent=\"#faqlist\"><div class=\"accordion-body\"><p>Author: <strong>Assistant Commissioner Dwayne McDonald</strong></p><a href=\"https://journals.lib.sfu.ca/index.php/jicw/article/view/27699\" target=\"_blank\" class=\"btn-get-started\">Access publication</a></div></div> </div><!-- # Faq item-->\n",
      "<div class=\"accordion-item\"><h3 class=\"accordion-header\"><button class=\"accordion-button collapsed\" type=\"button\" data-bs-toggle=\"collapse\" data-bs-target=\"#faq-content-181\">LESSONS LEARNED AS A NEW POLICE FORCE\n",
      "</button></h3><div id=\"faq-content-181\" class=\"accordion-collapse collapse\" data-bs-parent=\"#faqlist\"><div class=\"accordion-body\"><p>Author: <strong>Deputy Chief Constable Jennifer Hyland</strong></p><a href=\"https://journals.lib.sfu.ca/index.php/jicw/article/view/5206\" target=\"_blank\" class=\"btn-get-started\">Access publication</a></div></div> </div><!-- # Faq item-->\n",
      "<div class=\"accordion-item\"><h3 class=\"accordion-header\"><button class=\"accordion-button collapsed\" type=\"button\" data-bs-toggle=\"collapse\" data-bs-target=\"#faq-content-182\">Building a Police Service in Challenging and Changing Times</button></h3><div id=\"faq-content-182\" class=\"accordion-collapse collapse\" data-bs-parent=\"#faqlist\"><div class=\"accordion-body\"><p>Author: <strong>Deputy Chief Constable Jennifer Hyland</strong></p><a href=\"https://journals.lib.sfu.ca/index.php/jicw/article/view/4190\" target=\"_blank\" class=\"btn-get-started\">Access publication</a></div></div> </div><!-- # Faq item-->\n",
      "<div class=\"accordion-item\"><h3 class=\"accordion-header\"><button class=\"accordion-button collapsed\" type=\"button\" data-bs-toggle=\"collapse\" data-bs-target=\"#faq-content-184\">STRATEGIC CONSIDERATIONS FOR MANAGING PROTESTS: A NEW ERA\n",
      "</button></h3><div id=\"faq-content-184\" class=\"accordion-collapse collapse\" data-bs-parent=\"#faqlist\"><div class=\"accordion-body\"><p>Author: <strong>Chief Superintendent John Brewer</strong></p><a href=\"https://journals.lib.sfu.ca/index.php/jicw/article/view/5204\" target=\"_blank\" class=\"btn-get-started\">Access publication</a></div></div> </div><!-- # Faq item-->\n",
      "<div class=\"accordion-item\"><h3 class=\"accordion-header\"><button class=\"accordion-button collapsed\" type=\"button\" data-bs-toggle=\"collapse\" data-bs-target=\"#faq-content-187\">The Implications of Misinformation for Public Order Policing</button></h3><div id=\"faq-content-187\" class=\"accordion-collapse collapse\" data-bs-parent=\"#faqlist\"><div class=\"accordion-body\"><p>Author: <strong>Laura Huey</strong></p><a href=\"https://journals.lib.sfu.ca/index.php/jicw/article/view/5071\" target=\"_blank\" class=\"btn-get-started\">Access publication</a></div></div> </div><!-- # Faq item-->\n",
      "<div class=\"accordion-item\"><h3 class=\"accordion-header\"><button class=\"accordion-button collapsed\" type=\"button\" data-bs-toggle=\"collapse\" data-bs-target=\"#faq-content-270\">Improving Law Enforcement and Indigenous Relations</button></h3><div id=\"faq-content-270\" class=\"accordion-collapse collapse\" data-bs-parent=\"#faqlist\"><div class=\"accordion-body\"><p>Author: <strong>Professor Kent Roach</strong></p><a href=\"https://journals.lib.sfu.ca/index.php/jicw/article/view/2841 \" target=\"_blank\" class=\"btn-get-started\">Access publication</a></div></div> </div><!-- # Faq item-->\n",
      "<div class=\"accordion-item\"><h3 class=\"accordion-header\"><button class=\"accordion-button collapsed\" type=\"button\" data-bs-toggle=\"collapse\" data-bs-target=\"#faq-content-323\">Engaging The Public In Homicide Investigations</button></h3><div id=\"faq-content-323\" class=\"accordion-collapse collapse\" data-bs-parent=\"#faqlist\"><div class=\"accordion-body\"><p>Author: <strong>Sgt Frank Jang</strong></p><a href=\"https://soundcloud.com/casisvancouver/episode-13-engaging-the-public-in-homicide-investigations\" target=\"_blank\" class=\"btn-get-started\">Access publication</a></div></div> </div><!-- # Faq item-->\n"
     ]
    }
   ],
   "source": [
    "\n",
    "for index, row in century_policing.iterrows():\n",
    "    print(build_html(row))"
   ]
  },
  {
   "cell_type": "code",
   "execution_count": 34,
   "id": "5405ff4b",
   "metadata": {},
   "outputs": [],
   "source": [
    "#Intelligence tags\n",
    "sat = df[df['Tag (ONE ONLY)'] == 'SATs']\n",
    "ethics = df[df['Tag (ONE ONLY)'] == 'Ethics']\n",
    "accountability = df[df['Tag (ONE ONLY)'] == 'Accountability']\n",
    "trade_craft = df[df['Tag (ONE ONLY)'] == 'Trade Craft'] \n",
    "osint = df[df['Tag (ONE ONLY)'] == 'OSINT']\n",
    "intelligence_practice = df[df['Tag (ONE ONLY)'] == 'Intelligence Practice'] \n",
    "five_eyes = df[df['Tag (ONE ONLY)'] == 'Five Eyes Com']\n",
    "extremism = df[df['Tag (ONE ONLY)'] == 'Extremism']\n",
    "terrorism = df[df['Tag (ONE ONLY)'] == 'Terrorism']\n",
    "radicalization = df[df['Tag (ONE ONLY)'] == 'Radicalization']\n",
    "cyber = df[df['Tag (ONE ONLY)'] == 'Cyber Threats']\n",
    "\n",
    "intelligence = [sat,ethics,accountability,trade_craft,osint,intelligence_practice,five_eyes,extremism,terrorism, radicalization, cyber]\n"
   ]
  },
  {
   "cell_type": "code",
   "execution_count": 77,
   "id": "1221173a",
   "metadata": {
    "collapsed": true
   },
   "outputs": [
    {
     "name": "stdout",
     "output_type": "stream",
     "text": [
      "<div class=\"accordion-item\"><h3 class=\"accordion-header\"><button class=\"accordion-button collapsed\" type=\"button\" data-bs-toggle=\"collapse\" data-bs-target=\"#faq-content-51\">Path to Violence</button></h3><div id=\"faq-content-51\" class=\"accordion-collapse collapse\" data-bs-parent=\"#faqlist\"><div class=\"accordion-body\"><p>Author: <strong>John Pyrik</strong></p><a href=\"https://journals.lib.sfu.ca/index.php/jicw/article/view/1189\" target=\"_blank\" class=\"btn-get-started\">Access publication</a></div></div> </div><!-- # Faq item-->\n",
      "<div class=\"accordion-item\"><h3 class=\"accordion-header\"><button class=\"accordion-button collapsed\" type=\"button\" data-bs-toggle=\"collapse\" data-bs-target=\"#faq-content-83\">STRENGTHENING ANALYSIS AND CRITICAL THINKING IN TIMES OF GEOPOLITICAL UNCERTAINTY</button></h3><div id=\"faq-content-83\" class=\"accordion-collapse collapse\" data-bs-parent=\"#faqlist\"><div class=\"accordion-body\"><p>Author: <strong>Randolph H. Pherson\n",
      "</strong></p><a href=\"https://journals.lib.sfu.ca/index.php/jicw/article/view/5184\" target=\"_blank\" class=\"btn-get-started\">Access publication</a></div></div> </div><!-- # Faq item-->\n",
      "<div class=\"accordion-item\"><h3 class=\"accordion-header\"><button class=\"accordion-button collapsed\" type=\"button\" data-bs-toggle=\"collapse\" data-bs-target=\"#faq-content-165\">MAD* Beyond Defence : *Methodology for Assessing Disruptions</button></h3><div id=\"faq-content-165\" class=\"accordion-collapse collapse\" data-bs-parent=\"#faqlist\"><div class=\"accordion-body\"><p>Author: <strong>Dr. Gitanjali Adlakha-Hutcheon</strong></p><a href=\"https://journals.lib.sfu.ca/index.php/jicw/article/view/5046\" target=\"_blank\" class=\"btn-get-started\">Access publication</a></div></div> </div><!-- # Faq item-->\n",
      "<div class=\"accordion-item\"><h3 class=\"accordion-header\"><button class=\"accordion-button collapsed\" type=\"button\" data-bs-toggle=\"collapse\" data-bs-target=\"#faq-content-205\">Organized Crime Groups in Latin America and TREX-Hybridity</button></h3><div id=\"faq-content-205\" class=\"accordion-collapse collapse\" data-bs-parent=\"#faqlist\"><div class=\"accordion-body\"><p>Author: <strong>Victoria Dittmar</strong></p><a href=\"https://journals.lib.sfu.ca/index.php/jicw/article/view/2799\" target=\"_blank\" class=\"btn-get-started\">Access publication</a></div></div> </div><!-- # Faq item-->\n"
     ]
    }
   ],
   "source": [
    "for index, row in sat.iterrows():\n",
    "    print(build_html(row))"
   ]
  },
  {
   "cell_type": "code",
   "execution_count": 78,
   "id": "8567e26b",
   "metadata": {
    "collapsed": true
   },
   "outputs": [
    {
     "name": "stdout",
     "output_type": "stream",
     "text": [
      "<div class=\"accordion-item\"><h3 class=\"accordion-header\"><button class=\"accordion-button collapsed\" type=\"button\" data-bs-toggle=\"collapse\" data-bs-target=\"#faq-content-21\">LEVERAGING DIVERSITY, EQUALITY, AND INCLUSION (DEI) IN MEETING MODERN INTELLIGENCE CHALLENGES</button></h3><div id=\"faq-content-21\" class=\"accordion-collapse collapse\" data-bs-parent=\"#faqlist\"><div class=\"accordion-body\"><p>Author: <strong>Michelle Tessier</strong></p><a href=\"https://journals.lib.sfu.ca/index.php/jicw/article/view/5180 \" target=\"_blank\" class=\"btn-get-started\">Access publication</a></div></div> </div><!-- # Faq item-->\n",
      "<div class=\"accordion-item\"><h3 class=\"accordion-header\"><button class=\"accordion-button collapsed\" type=\"button\" data-bs-toggle=\"collapse\" data-bs-target=\"#faq-content-37\">PANEL TWO CLOSING REMARKS </button></h3><div id=\"faq-content-37\" class=\"accordion-collapse collapse\" data-bs-parent=\"#faqlist\"><div class=\"accordion-body\"><p>Author: <strong>Charles Dumbrille</strong></p><a href=\"https://journals.lib.sfu.ca/index.php/jicw/article/view/5189 \" target=\"_blank\" class=\"btn-get-started\">Access publication</a></div></div> </div><!-- # Faq item-->\n",
      "<div class=\"accordion-item\"><h3 class=\"accordion-header\"><button class=\"accordion-button collapsed\" type=\"button\" data-bs-toggle=\"collapse\" data-bs-target=\"#faq-content-65\">ETHICS AND EXCELLENCE IN UNDERCOVER OPERATIONS: A HUMAN SOURCE PERSPECTIVE </button></h3><div id=\"faq-content-65\" class=\"accordion-collapse collapse\" data-bs-parent=\"#faqlist\"><div class=\"accordion-body\"><p>Author: <strong>Mubin Shaikh </strong></p><a href=\"https://journals.lib.sfu.ca/index.php/jicw/article/view/5207\" target=\"_blank\" class=\"btn-get-started\">Access publication</a></div></div> </div><!-- # Faq item-->\n",
      "<div class=\"accordion-item\"><h3 class=\"accordion-header\"><button class=\"accordion-button collapsed\" type=\"button\" data-bs-toggle=\"collapse\" data-bs-target=\"#faq-content-93\">MILITARY POLICE TRAUMA AND MENTAL HEALTH SUPPORT\n",
      "</button></h3><div id=\"faq-content-93\" class=\"accordion-collapse collapse\" data-bs-parent=\"#faqlist\"><div class=\"accordion-body\"><p>Author: <strong>Master Warrant Officer John Palmer</strong></p><a href=\"https://journals.lib.sfu.ca/index.php/jicw/article/view/5198\" target=\"_blank\" class=\"btn-get-started\">Access publication</a></div></div> </div><!-- # Faq item-->\n",
      "<div class=\"accordion-item\"><h3 class=\"accordion-header\"><button class=\"accordion-button collapsed\" type=\"button\" data-bs-toggle=\"collapse\" data-bs-target=\"#faq-content-94\">DIVERSITY DISCUSSION: INTENTIONALITY AND BLINDSPOTS</button></h3><div id=\"faq-content-94\" class=\"accordion-collapse collapse\" data-bs-parent=\"#faqlist\"><div class=\"accordion-body\"><p>Author: <strong>Dr. Mike Peters</strong></p><a href=\"https://journals.lib.sfu.ca/index.php/jicw/article/view/5185\" target=\"_blank\" class=\"btn-get-started\">Access publication</a></div></div> </div><!-- # Faq item-->\n",
      "<div class=\"accordion-item\"><h3 class=\"accordion-header\"><button class=\"accordion-button collapsed\" type=\"button\" data-bs-toggle=\"collapse\" data-bs-target=\"#faq-content-122\">Don’t Ever Think You’ve Cracked It!</button></h3><div id=\"faq-content-122\" class=\"accordion-collapse collapse\" data-bs-parent=\"#faqlist\"><div class=\"accordion-body\"><p>Author: <strong>Ian Hopkins\n",
      "</strong></p><a href=\"https://journals.lib.sfu.ca/index.php/jicw/article/view/4187\" target=\"_blank\" class=\"btn-get-started\">Access publication</a></div></div> </div><!-- # Faq item-->\n",
      "<div class=\"accordion-item\"><h3 class=\"accordion-header\"><button class=\"accordion-button collapsed\" type=\"button\" data-bs-toggle=\"collapse\" data-bs-target=\"#faq-content-123\">Police Ethics\n",
      "</button></h3><div id=\"faq-content-123\" class=\"accordion-collapse collapse\" data-bs-parent=\"#faqlist\"><div class=\"accordion-body\"><p>Author: <strong>Chief Constable Dr. Richard Lewis </strong></p><a href=\"https://journals.lib.sfu.ca/index.php/jicw/article/view/4165\" target=\"_blank\" class=\"btn-get-started\">Access publication</a></div></div> </div><!-- # Faq item-->\n",
      "<div class=\"accordion-item\"><h3 class=\"accordion-header\"><button class=\"accordion-button collapsed\" type=\"button\" data-bs-toggle=\"collapse\" data-bs-target=\"#faq-content-126\">Repairing the Relationship between Law Enforcement and the Public\n",
      "</button></h3><div id=\"faq-content-126\" class=\"accordion-collapse collapse\" data-bs-parent=\"#faqlist\"><div class=\"accordion-body\"><p>Author: <strong>Commisioner Brenda Lucki</strong></p><a href=\"https://journals.lib.sfu.ca/index.php/jicw/article/view/4184\" target=\"_blank\" class=\"btn-get-started\">Access publication</a></div></div> </div><!-- # Faq item-->\n",
      "<div class=\"accordion-item\"><h3 class=\"accordion-header\"><button class=\"accordion-button collapsed\" type=\"button\" data-bs-toggle=\"collapse\" data-bs-target=\"#faq-content-132\">Algorithmic Technology: Fueling AI in an Ethical & Transparent Way\n",
      "</button></h3><div id=\"faq-content-132\" class=\"accordion-collapse collapse\" data-bs-parent=\"#faqlist\"><div class=\"accordion-body\"><p>Author: <strong>Dr. Ryan Prox</strong></p><a href=\"https://journals.lib.sfu.ca/index.php/jicw/article/view/5056\" target=\"_blank\" class=\"btn-get-started\">Access publication</a></div></div> </div><!-- # Faq item-->\n"
     ]
    }
   ],
   "source": [
    "for index, row in ethics.iterrows():\n",
    "    print(build_html(row))"
   ]
  },
  {
   "cell_type": "code",
   "execution_count": 79,
   "id": "f7815c9d",
   "metadata": {
    "collapsed": true
   },
   "outputs": [
    {
     "name": "stdout",
     "output_type": "stream",
     "text": [
      "<div class=\"accordion-item\"><h3 class=\"accordion-header\"><button class=\"accordion-button collapsed\" type=\"button\" data-bs-toggle=\"collapse\" data-bs-target=\"#faq-content-0\">Accountability and the Juxtaposition of Civil Society and Policing in a Period of Changing Norms: Using Independent Police Advisors, </button></h3><div id=\"faq-content-0\" class=\"accordion-collapse collapse\" data-bs-parent=\"#faqlist\"><div class=\"accordion-body\"><p>Author: <strong>Candyce Kelshall</strong></p><a href=\"https://journals.lib.sfu.ca/index.php/jicw/article/view/476\" target=\"_blank\" class=\"btn-get-started\">Access publication</a></div></div> </div><!-- # Faq item-->\n",
      "<div class=\"accordion-item\"><h3 class=\"accordion-header\"><button class=\"accordion-button collapsed\" type=\"button\" data-bs-toggle=\"collapse\" data-bs-target=\"#faq-content-33\">National Security and Parliamentary Review Four Years On: Is it Working?</button></h3><div id=\"faq-content-33\" class=\"accordion-collapse collapse\" data-bs-parent=\"#faqlist\"><div class=\"accordion-body\"><p>Author: <strong>Honourable David McGuinty</strong></p><a href=\"https://journals.lib.sfu.ca/index.php/jicw/article/view/3068\" target=\"_blank\" class=\"btn-get-started\">Access publication</a></div></div> </div><!-- # Faq item-->\n",
      "<div class=\"accordion-item\"><h3 class=\"accordion-header\"><button class=\"accordion-button collapsed\" type=\"button\" data-bs-toggle=\"collapse\" data-bs-target=\"#faq-content-95\">DIVERSITY DISCUSSION: INTENTIONALITY AND BLINDSPOTS</button></h3><div id=\"faq-content-95\" class=\"accordion-collapse collapse\" data-bs-parent=\"#faqlist\"><div class=\"accordion-body\"><p>Author: <strong>Dr. Mike Peters</strong></p><a href=\"https://journals.lib.sfu.ca/index.php/jicw/article/view/5185\" target=\"_blank\" class=\"btn-get-started\">Access publication</a></div></div> </div><!-- # Faq item-->\n",
      "<div class=\"accordion-item\"><h3 class=\"accordion-header\"><button class=\"accordion-button collapsed\" type=\"button\" data-bs-toggle=\"collapse\" data-bs-target=\"#faq-content-96\">Authenticity, Adversity and Accountability in the Context of Uniformed Leadership</button></h3><div id=\"faq-content-96\" class=\"accordion-collapse collapse\" data-bs-parent=\"#faqlist\"><div class=\"accordion-body\"><p>Author: <strong>Commander Jonathan Kouwenberg</strong></p><a href=\"https://journals.lib.sfu.ca/index.php/jicw/article/view/4159\" target=\"_blank\" class=\"btn-get-started\">Access publication</a></div></div> </div><!-- # Faq item-->\n",
      "<div class=\"accordion-item\"><h3 class=\"accordion-header\"><button class=\"accordion-button collapsed\" type=\"button\" data-bs-toggle=\"collapse\" data-bs-target=\"#faq-content-125\">Repairing the Relationship between Law Enforcement and the Public\n",
      "</button></h3><div id=\"faq-content-125\" class=\"accordion-collapse collapse\" data-bs-parent=\"#faqlist\"><div class=\"accordion-body\"><p>Author: <strong>Commisioner Brenda Lucki</strong></p><a href=\"https://journals.lib.sfu.ca/index.php/jicw/article/view/4184\" target=\"_blank\" class=\"btn-get-started\">Access publication</a></div></div> </div><!-- # Faq item-->\n",
      "<div class=\"accordion-item\"><h3 class=\"accordion-header\"><button class=\"accordion-button collapsed\" type=\"button\" data-bs-toggle=\"collapse\" data-bs-target=\"#faq-content-133\">Algorithmic Technology: Fueling AI in an Ethical & Transparent Way\n",
      "</button></h3><div id=\"faq-content-133\" class=\"accordion-collapse collapse\" data-bs-parent=\"#faqlist\"><div class=\"accordion-body\"><p>Author: <strong>Dr. Ryan Prox</strong></p><a href=\"https://journals.lib.sfu.ca/index.php/jicw/article/view/5056\" target=\"_blank\" class=\"btn-get-started\">Access publication</a></div></div> </div><!-- # Faq item-->\n"
     ]
    }
   ],
   "source": [
    "for index, row in accountability.iterrows():\n",
    "    print(build_html(row))"
   ]
  },
  {
   "cell_type": "code",
   "execution_count": 35,
   "id": "556e3990",
   "metadata": {},
   "outputs": [
    {
     "name": "stdout",
     "output_type": "stream",
     "text": [
      "<div class=\"accordion-item\"><h3 class=\"accordion-header\"><button class=\"accordion-button collapsed\" type=\"button\" data-bs-toggle=\"collapse\" data-bs-target=\"#faq-content-66\">ETHICS AND EXCELLENCE IN UNDERCOVER OPERATIONS: A HUMAN SOURCE PERSPECTIVE </button></h3><div id=\"faq-content-66\" class=\"accordion-collapse collapse\" data-bs-parent=\"#faqlist\"><div class=\"accordion-body\"><p>Author: <strong>Mubin Shaikh </strong></p><a href=\"https://journals.lib.sfu.ca/index.php/jicw/article/view/5207\" target=\"_blank\" class=\"btn-get-started\">Access publication</a></div></div> </div><!-- # Faq item-->\n",
      "<div class=\"accordion-item\"><h3 class=\"accordion-header\"><button class=\"accordion-button collapsed\" type=\"button\" data-bs-toggle=\"collapse\" data-bs-target=\"#faq-content-85\">The Tradecraft of Warning: Warning Intelligence in the 21st Century</button></h3><div id=\"faq-content-85\" class=\"accordion-collapse collapse\" data-bs-parent=\"#faqlist\"><div class=\"accordion-body\"><p>Author: <strong>Randolph H. Pherson\n",
      "</strong></p><a href=\"https://journals.lib.sfu.ca/index.php/jicw/article/view/4188\" target=\"_blank\" class=\"btn-get-started\">Access publication</a></div></div> </div><!-- # Faq item-->\n"
     ]
    }
   ],
   "source": [
    "for index, row in trade_craft.iterrows():\n",
    "    print(build_html(row))"
   ]
  },
  {
   "cell_type": "code",
   "execution_count": 81,
   "id": "0cd3dbf7",
   "metadata": {
    "collapsed": true
   },
   "outputs": [
    {
     "name": "stdout",
     "output_type": "stream",
     "text": [
      "<div class=\"accordion-item\"><h3 class=\"accordion-header\"><button class=\"accordion-button collapsed\" type=\"button\" data-bs-toggle=\"collapse\" data-bs-target=\"#faq-content-44\">Extremist Propaganda and the 'Politics of the Internet' </button></h3><div id=\"faq-content-44\" class=\"accordion-collapse collapse\" data-bs-parent=\"#faqlist\"><div class=\"accordion-body\"><p>Author: <strong>Dr. Julian Richards</strong></p><a href=\"https://journals.lib.sfu.ca/index.php/jicw/article/view/2798\" target=\"_blank\" class=\"btn-get-started\">Access publication</a></div></div> </div><!-- # Faq item-->\n",
      "<div class=\"accordion-item\"><h3 class=\"accordion-header\"><button class=\"accordion-button collapsed\" type=\"button\" data-bs-toggle=\"collapse\" data-bs-target=\"#faq-content-58\">Social Media as a Recruitment Tool by Extremist Groups</button></h3><div id=\"faq-content-58\" class=\"accordion-collapse collapse\" data-bs-parent=\"#faqlist\"><div class=\"accordion-body\"><p>Author: <strong>Mubin Shaikh </strong></p><a href=\"https://journals.lib.sfu.ca/index.php/jicw/article/view/2768\" target=\"_blank\" class=\"btn-get-started\">Access publication</a></div></div> </div><!-- # Faq item-->\n",
      "<div class=\"accordion-item\"><h3 class=\"accordion-header\"><button class=\"accordion-button collapsed\" type=\"button\" data-bs-toggle=\"collapse\" data-bs-target=\"#faq-content-71\">Radicalization Convoy: Concerns Of Domestic Extremism In Canada</button></h3><div id=\"faq-content-71\" class=\"accordion-collapse collapse\" data-bs-parent=\"#faqlist\"><div class=\"accordion-body\"><p>Author: <strong>Mubin Shaikh </strong></p><a href=\"https://journals.lib.sfu.ca/index.php/jicw/article/view/5404\" target=\"_blank\" class=\"btn-get-started\">Access publication</a></div></div> </div><!-- # Faq item-->\n"
     ]
    }
   ],
   "source": [
    "for index, row in osint.iterrows():\n",
    "    print(build_html(row))"
   ]
  },
  {
   "cell_type": "code",
   "execution_count": 82,
   "id": "197d88e0",
   "metadata": {
    "collapsed": true
   },
   "outputs": [
    {
     "name": "stdout",
     "output_type": "stream",
     "text": [
      "<div class=\"accordion-item\"><h3 class=\"accordion-header\"><button class=\"accordion-button collapsed\" type=\"button\" data-bs-toggle=\"collapse\" data-bs-target=\"#faq-content-62\">Security and Cyber Intelligence: Where is the Line?</button></h3><div id=\"faq-content-62\" class=\"accordion-collapse collapse\" data-bs-parent=\"#faqlist\"><div class=\"accordion-body\"><p>Author: <strong>Mubin Shaikh </strong></p><a href=\"https://journals.lib.sfu.ca/index.php/jicw/article/view/4339\" target=\"_blank\" class=\"btn-get-started\">Access publication</a></div></div> </div><!-- # Faq item-->\n",
      "<div class=\"accordion-item\"><h3 class=\"accordion-header\"><button class=\"accordion-button collapsed\" type=\"button\" data-bs-toggle=\"collapse\" data-bs-target=\"#faq-content-77\">Canada's Defence Intelligence ToolKit</button></h3><div id=\"faq-content-77\" class=\"accordion-collapse collapse\" data-bs-parent=\"#faqlist\"><div class=\"accordion-body\"><p>Author: <strong>Lane Aker</strong></p><a href=\"https://journals.lib.sfu.ca/index.php/jicw/article/view/5408\" target=\"_blank\" class=\"btn-get-started\">Access publication</a></div></div> </div><!-- # Faq item-->\n",
      "<div class=\"accordion-item\"><h3 class=\"accordion-header\"><button class=\"accordion-button collapsed\" type=\"button\" data-bs-toggle=\"collapse\" data-bs-target=\"#faq-content-81\">PROFESSIONALIZING AND STANDARDIZING INTELLIGENCE PRACTICE IN THE CONTEXT OF NATIONAL SECURITY</button></h3><div id=\"faq-content-81\" class=\"accordion-collapse collapse\" data-bs-parent=\"#faqlist\"><div class=\"accordion-body\"><p>Author: <strong>Roberto Mendoza\n",
      "</strong></p><a href=\"https://journals.lib.sfu.ca/index.php/jicw/article/view/5187\" target=\"_blank\" class=\"btn-get-started\">Access publication</a></div></div> </div><!-- # Faq item-->\n"
     ]
    }
   ],
   "source": [
    "for index, row in intelligence_practice.iterrows():\n",
    "    print(build_html(row))"
   ]
  },
  {
   "cell_type": "code",
   "execution_count": 83,
   "id": "9829e834",
   "metadata": {
    "collapsed": true
   },
   "outputs": [
    {
     "name": "stdout",
     "output_type": "stream",
     "text": [
      "<div class=\"accordion-item\"><h3 class=\"accordion-header\"><button class=\"accordion-button collapsed\" type=\"button\" data-bs-toggle=\"collapse\" data-bs-target=\"#faq-content-24\">Canada and the Five Eyes Partnership: Looking Ahead</button></h3><div id=\"faq-content-24\" class=\"accordion-collapse collapse\" data-bs-parent=\"#faqlist\"><div class=\"accordion-body\"><p>Author: <strong>Greg Fyffe</strong></p><a href=\"https://journals.lib.sfu.ca/index.php/jicw/article/view/862\" target=\"_blank\" class=\"btn-get-started\">Access publication</a></div></div> </div><!-- # Faq item-->\n"
     ]
    }
   ],
   "source": [
    "for index, row in five_eyes.iterrows():\n",
    "    print(build_html(row))"
   ]
  },
  {
   "cell_type": "code",
   "execution_count": 36,
   "id": "5670dadb",
   "metadata": {},
   "outputs": [
    {
     "name": "stdout",
     "output_type": "stream",
     "text": [
      "<div class=\"accordion-item\"><h3 class=\"accordion-header\"><button class=\"accordion-button collapsed\" type=\"button\" data-bs-toggle=\"collapse\" data-bs-target=\"#faq-content-39\">Extremism and Intelligence: A Threat Analysis</button></h3><div id=\"faq-content-39\" class=\"accordion-collapse collapse\" data-bs-parent=\"#faqlist\"><div class=\"accordion-body\"><p>Author: <strong>Dr. Julian Richards</strong></p><a href=\"https://journals.lib.sfu.ca/index.php/jicw/article/view/1186 \" target=\"_blank\" class=\"btn-get-started\">Access publication</a></div></div> </div><!-- # Faq item-->\n",
      "<div class=\"accordion-item\"><h3 class=\"accordion-header\"><button class=\"accordion-button collapsed\" type=\"button\" data-bs-toggle=\"collapse\" data-bs-target=\"#faq-content-41\">Extremist Propaganda and the 'Politics of the Internet' </button></h3><div id=\"faq-content-41\" class=\"accordion-collapse collapse\" data-bs-parent=\"#faqlist\"><div class=\"accordion-body\"><p>Author: <strong>Dr. Julian Richards</strong></p><a href=\"https://journals.lib.sfu.ca/index.php/jicw/article/view/2798\" target=\"_blank\" class=\"btn-get-started\">Access publication</a></div></div> </div><!-- # Faq item-->\n",
      "<div class=\"accordion-item\"><h3 class=\"accordion-header\"><button class=\"accordion-button collapsed\" type=\"button\" data-bs-toggle=\"collapse\" data-bs-target=\"#faq-content-50\">Path to Violence</button></h3><div id=\"faq-content-50\" class=\"accordion-collapse collapse\" data-bs-parent=\"#faqlist\"><div class=\"accordion-body\"><p>Author: <strong>John Pyrik</strong></p><a href=\"https://journals.lib.sfu.ca/index.php/jicw/article/view/1189\" target=\"_blank\" class=\"btn-get-started\">Access publication</a></div></div> </div><!-- # Faq item-->\n",
      "<div class=\"accordion-item\"><h3 class=\"accordion-header\"><button class=\"accordion-button collapsed\" type=\"button\" data-bs-toggle=\"collapse\" data-bs-target=\"#faq-content-57\">Social Media as a Recruitment Tool by Extremist Groups</button></h3><div id=\"faq-content-57\" class=\"accordion-collapse collapse\" data-bs-parent=\"#faqlist\"><div class=\"accordion-body\"><p>Author: <strong>Mubin Shaikh </strong></p><a href=\"https://journals.lib.sfu.ca/index.php/jicw/article/view/2768\" target=\"_blank\" class=\"btn-get-started\">Access publication</a></div></div> </div><!-- # Faq item-->\n",
      "<div class=\"accordion-item\"><h3 class=\"accordion-header\"><button class=\"accordion-button collapsed\" type=\"button\" data-bs-toggle=\"collapse\" data-bs-target=\"#faq-content-68\">Radicalization Convoy: Concerns Of Domestic Extremism In Canada</button></h3><div id=\"faq-content-68\" class=\"accordion-collapse collapse\" data-bs-parent=\"#faqlist\"><div class=\"accordion-body\"><p>Author: <strong>Mubin Shaikh </strong></p><a href=\"https://journals.lib.sfu.ca/index.php/jicw/article/view/5404\" target=\"_blank\" class=\"btn-get-started\">Access publication</a></div></div> </div><!-- # Faq item-->\n",
      "<div class=\"accordion-item\"><h3 class=\"accordion-header\"><button class=\"accordion-button collapsed\" type=\"button\" data-bs-toggle=\"collapse\" data-bs-target=\"#faq-content-150\">Dehumanization, Hate Speech, and Violence in Right-Wing Extremist Environments\n",
      "</button></h3><div id=\"faq-content-150\" class=\"accordion-collapse collapse\" data-bs-parent=\"#faqlist\"><div class=\"accordion-body\"><p>Author: <strong>Dr. Lisa Kaati</strong></p><a href=\"https://journals.lib.sfu.ca/index.php/jicw/article/view/4160\" target=\"_blank\" class=\"btn-get-started\">Access publication</a></div></div> </div><!-- # Faq item-->\n",
      "<div class=\"accordion-item\"><h3 class=\"accordion-header\"><button class=\"accordion-button collapsed\" type=\"button\" data-bs-toggle=\"collapse\" data-bs-target=\"#faq-content-152\">The Internationalisation of Far-Right Terror? History and Examples of International Far-Right Networks\n",
      "</button></h3><div id=\"faq-content-152\" class=\"accordion-collapse collapse\" data-bs-parent=\"#faqlist\"><div class=\"accordion-body\"><p>Author: <strong>Dr. Daniel Koehler</strong></p><a href=\"https://journals.lib.sfu.ca/index.php/jicw/article/view/4158\" target=\"_blank\" class=\"btn-get-started\">Access publication</a></div></div> </div><!-- # Faq item-->\n",
      "<div class=\"accordion-item\"><h3 class=\"accordion-header\"><button class=\"accordion-button collapsed\" type=\"button\" data-bs-toggle=\"collapse\" data-bs-target=\"#faq-content-176\">EXTREMIST RECRUITMENT AND EXTREMIST SENTIMENT NORMALIZATION</button></h3><div id=\"faq-content-176\" class=\"accordion-collapse collapse\" data-bs-parent=\"#faqlist\"><div class=\"accordion-body\"><p>Author: <strong>Dr. Cynthia Miller-Idriss</strong></p><a href=\"https://journals.lib.sfu.ca/index.php/jicw/article/view/5190\" target=\"_blank\" class=\"btn-get-started\">Access publication</a></div></div> </div><!-- # Faq item-->\n",
      "<div class=\"accordion-item\"><h3 class=\"accordion-header\"><button class=\"accordion-button collapsed\" type=\"button\" data-bs-toggle=\"collapse\" data-bs-target=\"#faq-content-186\">Assessing the Implications for Children in Violent Extremist Families</button></h3><div id=\"faq-content-186\" class=\"accordion-collapse collapse\" data-bs-parent=\"#faqlist\"><div class=\"accordion-body\"><p>Author: <strong>Joana Cook</strong></p><a href=\"https://journals.lib.sfu.ca/index.php/jicw/article/view/5060\" target=\"_blank\" class=\"btn-get-started\">Access publication</a></div></div> </div><!-- # Faq item-->\n",
      "<div class=\"accordion-item\"><h3 class=\"accordion-header\"><button class=\"accordion-button collapsed\" type=\"button\" data-bs-toggle=\"collapse\" data-bs-target=\"#faq-content-190\">Countering Violent Extremism: Perspectives from the Australian Context</button></h3><div id=\"faq-content-190\" class=\"accordion-collapse collapse\" data-bs-parent=\"#faqlist\"><div class=\"accordion-body\"><p>Author: <strong>Shandon Harris-Hogan</strong></p><a href=\"https://journals.lib.sfu.ca/index.php/jicw/article/view/2808\" target=\"_blank\" class=\"btn-get-started\">Access publication</a></div></div> </div><!-- # Faq item-->\n",
      "<div class=\"accordion-item\"><h3 class=\"accordion-header\"><button class=\"accordion-button collapsed\" type=\"button\" data-bs-toggle=\"collapse\" data-bs-target=\"#faq-content-195\">Hate Speech In Canada: A New Democratic Threat Requiring Policy Incentives</button></h3><div id=\"faq-content-195\" class=\"accordion-collapse collapse\" data-bs-parent=\"#faqlist\"><div class=\"accordion-body\"><p>Author: <strong>Dr. Heidi Tworek</strong></p><a href=\"https://journals.lib.sfu.ca/index.php/jicw/article/view/1065\" target=\"_blank\" class=\"btn-get-started\">Access publication</a></div></div> </div><!-- # Faq item-->\n",
      "<div class=\"accordion-item\"><h3 class=\"accordion-header\"><button class=\"accordion-button collapsed\" type=\"button\" data-bs-toggle=\"collapse\" data-bs-target=\"#faq-content-214\">Kekistanis and the Meme War on Social Media</button></h3><div id=\"faq-content-214\" class=\"accordion-collapse collapse\" data-bs-parent=\"#faqlist\"><div class=\"accordion-body\"><p>Author: <strong>Dr. Ahmed Al-Rawi</strong></p><a href=\"https://journals.lib.sfu.ca/index.php/jicw/article/view/2360\" target=\"_blank\" class=\"btn-get-started\">Access publication</a></div></div> </div><!-- # Faq item-->\n",
      "<div class=\"accordion-item\"><h3 class=\"accordion-header\"><button class=\"accordion-button collapsed\" type=\"button\" data-bs-toggle=\"collapse\" data-bs-target=\"#faq-content-241\">Predicting the Escalation to Violence of Online Hate Groups</button></h3><div id=\"faq-content-241\" class=\"accordion-collapse collapse\" data-bs-parent=\"#faqlist\"><div class=\"accordion-body\"><p>Author: <strong>Natalie Archutowski</strong></p><a href=\"https://journals.lib.sfu.ca/index.php/jicw/article/view/4191\" target=\"_blank\" class=\"btn-get-started\">Access publication</a></div></div> </div><!-- # Faq item-->\n",
      "<div class=\"accordion-item\"><h3 class=\"accordion-header\"><button class=\"accordion-button collapsed\" type=\"button\" data-bs-toggle=\"collapse\" data-bs-target=\"#faq-content-266\">Radicalization and Violent Extremism in the Era of COVID-19</button></h3><div id=\"faq-content-266\" class=\"accordion-collapse collapse\" data-bs-parent=\"#faqlist\"><div class=\"accordion-body\"><p>Author: <strong>Dr. Garth Davies</strong></p><a href=\"https://journals.lib.sfu.ca/index.php/jicw/article/view/2824 \" target=\"_blank\" class=\"btn-get-started\">Access publication</a></div></div> </div><!-- # Faq item-->\n",
      "<div class=\"accordion-item\"><h3 class=\"accordion-header\"><button class=\"accordion-button collapsed\" type=\"button\" data-bs-toggle=\"collapse\" data-bs-target=\"#faq-content-272\">Right Wing Extremism and Youth Recruitment</button></h3><div id=\"faq-content-272\" class=\"accordion-collapse collapse\" data-bs-parent=\"#faqlist\"><div class=\"accordion-body\"><p>Author: <strong>Dr. Barbara Perry</strong></p><a href=\"https://journals.lib.sfu.ca/index.php/jicw/article/view/2901\" target=\"_blank\" class=\"btn-get-started\">Access publication</a></div></div> </div><!-- # Faq item-->\n",
      "<div class=\"accordion-item\"><h3 class=\"accordion-header\"><button class=\"accordion-button collapsed\" type=\"button\" data-bs-toggle=\"collapse\" data-bs-target=\"#faq-content-283\">Memeology: Normalizing Hate Through Humour?</button></h3><div id=\"faq-content-283\" class=\"accordion-collapse collapse\" data-bs-parent=\"#faqlist\"><div class=\"accordion-body\"><p>Author: <strong>Dr. Viveca S. Greene</strong></p><a href=\"https://journals.lib.sfu.ca/index.php/jicw/article/view/2962\" target=\"_blank\" class=\"btn-get-started\">Access publication</a></div></div> </div><!-- # Faq item-->\n",
      "<div class=\"accordion-item\"><h3 class=\"accordion-header\"><button class=\"accordion-button collapsed\" type=\"button\" data-bs-toggle=\"collapse\" data-bs-target=\"#faq-content-285\">Memeology: Normalizing Hate Through Humour?</button></h3><div id=\"faq-content-285\" class=\"accordion-collapse collapse\" data-bs-parent=\"#faqlist\"><div class=\"accordion-body\"><p>Author: <strong>Makena Rasmussen</strong></p><a href=\"https://journals.lib.sfu.ca/index.php/jicw/article/view/2962\" target=\"_blank\" class=\"btn-get-started\">Access publication</a></div></div> </div><!-- # Faq item-->\n",
      "<div class=\"accordion-item\"><h3 class=\"accordion-header\"><button class=\"accordion-button collapsed\" type=\"button\" data-bs-toggle=\"collapse\" data-bs-target=\"#faq-content-287\">Memeology: Normalizing Hate Through Humour?</button></h3><div id=\"faq-content-287\" class=\"accordion-collapse collapse\" data-bs-parent=\"#faqlist\"><div class=\"accordion-body\"><p>Author: <strong>Dutch Clark</strong></p><a href=\"https://journals.lib.sfu.ca/index.php/jicw/article/view/2962\" target=\"_blank\" class=\"btn-get-started\">Access publication</a></div></div> </div><!-- # Faq item-->\n",
      "<div class=\"accordion-item\"><h3 class=\"accordion-header\"><button class=\"accordion-button collapsed\" type=\"button\" data-bs-toggle=\"collapse\" data-bs-target=\"#faq-content-329\">Right-wing Extremism and a Global Pandemic</button></h3><div id=\"faq-content-329\" class=\"accordion-collapse collapse\" data-bs-parent=\"#faqlist\"><div class=\"accordion-body\"><p>Author: <strong>Brad Galloway</strong></p><a href=\"https://soundcloud.com/casisvancouver/episode-5-right-wing-extremism-and-a-global-pandemic\" target=\"_blank\" class=\"btn-get-started\">Access publication</a></div></div> </div><!-- # Faq item-->\n",
      "<div class=\"accordion-item\"><h3 class=\"accordion-header\"><button class=\"accordion-button collapsed\" type=\"button\" data-bs-toggle=\"collapse\" data-bs-target=\"#faq-content-332\">Designating Extremists as Terrorists: Yay or Nay?</button></h3><div id=\"faq-content-332\" class=\"accordion-collapse collapse\" data-bs-parent=\"#faqlist\"><div class=\"accordion-body\"><p>Author: <strong>Brad Galloway</strong></p><a href=\"https://casisvancouver.ca/2021/05/12/special-episode-designating-extremists-as-terrorists-yay-or-nay/\" target=\"_blank\" class=\"btn-get-started\">Access publication</a></div></div> </div><!-- # Faq item-->\n"
     ]
    }
   ],
   "source": [
    "for index, row in extremism.iterrows():\n",
    "    print(build_html(row))"
   ]
  },
  {
   "cell_type": "code",
   "execution_count": 85,
   "id": "ed84bc5e",
   "metadata": {
    "collapsed": true
   },
   "outputs": [
    {
     "name": "stdout",
     "output_type": "stream",
     "text": [
      "<div class=\"accordion-item\"><h3 class=\"accordion-header\"><button class=\"accordion-button collapsed\" type=\"button\" data-bs-toggle=\"collapse\" data-bs-target=\"#faq-content-29\">Asymmetric Attack: A Quantum of Warning</button></h3><div id=\"faq-content-29\" class=\"accordion-collapse collapse\" data-bs-parent=\"#faqlist\"><div class=\"accordion-body\"><p>Author: <strong>Alexander Butterfield</strong></p><a href=\"https://journals.lib.sfu.ca/index.php/jicw/article/view/41533\" target=\"_blank\" class=\"btn-get-started\">Access publication</a></div></div> </div><!-- # Faq item-->\n",
      "<div class=\"accordion-item\"><h3 class=\"accordion-header\"><button class=\"accordion-button collapsed\" type=\"button\" data-bs-toggle=\"collapse\" data-bs-target=\"#faq-content-56\">2018 CASIS Vancouver Conference Reflections: Terrorism in Islamic Custom</button></h3><div id=\"faq-content-56\" class=\"accordion-collapse collapse\" data-bs-parent=\"#faqlist\"><div class=\"accordion-body\"><p>Author: <strong>Mubin Shaikh </strong></p><a href=\"https://journals.lib.sfu.ca/index.php/jicw/article/view/827\" target=\"_blank\" class=\"btn-get-started\">Access publication</a></div></div> </div><!-- # Faq item-->\n",
      "<div class=\"accordion-item\"><h3 class=\"accordion-header\"><button class=\"accordion-button collapsed\" type=\"button\" data-bs-toggle=\"collapse\" data-bs-target=\"#faq-content-153\">The Internationalisation of Far-Right Terror? History and Examples of International Far-Right Networks\n",
      "</button></h3><div id=\"faq-content-153\" class=\"accordion-collapse collapse\" data-bs-parent=\"#faqlist\"><div class=\"accordion-body\"><p>Author: <strong>Dr. Daniel Koehler</strong></p><a href=\"https://journals.lib.sfu.ca/index.php/jicw/article/view/4158\" target=\"_blank\" class=\"btn-get-started\">Access publication</a></div></div> </div><!-- # Faq item-->\n",
      "<div class=\"accordion-item\"><h3 class=\"accordion-header\"><button class=\"accordion-button collapsed\" type=\"button\" data-bs-toggle=\"collapse\" data-bs-target=\"#faq-content-174\">INTERSECTIONS OF MASS MEDIA, TERRORISM, AND POLICY RESPONSE: HOW MASS MEDIATED REPRESENTATIONS OF TERRORISM MAY INFLUENCE COUNTERTERRORIST POLICIES\n",
      "</button></h3><div id=\"faq-content-174\" class=\"accordion-collapse collapse\" data-bs-parent=\"#faqlist\"><div class=\"accordion-body\"><p>Author: <strong>Dr. Brigitte Nacos</strong></p><a href=\"https://journals.lib.sfu.ca/index.php/jicw/article/view/5182\" target=\"_blank\" class=\"btn-get-started\">Access publication</a></div></div> </div><!-- # Faq item-->\n",
      "<div class=\"accordion-item\"><h3 class=\"accordion-header\"><button class=\"accordion-button collapsed\" type=\"button\" data-bs-toggle=\"collapse\" data-bs-target=\"#faq-content-201\">The Conflation of Organized Crime and Terrorism in Venezuela</button></h3><div id=\"faq-content-201\" class=\"accordion-collapse collapse\" data-bs-parent=\"#faqlist\"><div class=\"accordion-body\"><p>Author: <strong>Victoria Dittmar</strong></p><a href=\"https://journals.lib.sfu.ca/index.php/jicw/article/view/1187\" target=\"_blank\" class=\"btn-get-started\">Access publication</a></div></div> </div><!-- # Faq item-->\n",
      "<div class=\"accordion-item\"><h3 class=\"accordion-header\"><button class=\"accordion-button collapsed\" type=\"button\" data-bs-toggle=\"collapse\" data-bs-target=\"#faq-content-304\">Understanding Terrorism Through the Fear of Death</button></h3><div id=\"faq-content-304\" class=\"accordion-collapse collapse\" data-bs-parent=\"#faqlist\"><div class=\"accordion-body\"><p>Author: <strong>Dr. Robert Farkash</strong></p><a href=\"https://journals.lib.sfu.ca/index.php/jicw/article/view/1066\" target=\"_blank\" class=\"btn-get-started\">Access publication</a></div></div> </div><!-- # Faq item-->\n",
      "<div class=\"accordion-item\"><h3 class=\"accordion-header\"><button class=\"accordion-button collapsed\" type=\"button\" data-bs-toggle=\"collapse\" data-bs-target=\"#faq-content-313\">The Role of the Dark Web in the Crime and Terrorism Nexus</button></h3><div id=\"faq-content-313\" class=\"accordion-collapse collapse\" data-bs-parent=\"#faqlist\"><div class=\"accordion-body\"><p>Author: <strong>Dr. Richard Frank</strong></p><a href=\"https://journals.lib.sfu.ca/index.php/jicw/article/view/959\" target=\"_blank\" class=\"btn-get-started\">Access publication</a></div></div> </div><!-- # Faq item-->\n",
      "<div class=\"accordion-item\"><h3 class=\"accordion-header\"><button class=\"accordion-button collapsed\" type=\"button\" data-bs-toggle=\"collapse\" data-bs-target=\"#faq-content-333\">Designating Extremists as Terrorists: Yay or Nay?</button></h3><div id=\"faq-content-333\" class=\"accordion-collapse collapse\" data-bs-parent=\"#faqlist\"><div class=\"accordion-body\"><p>Author: <strong>Brad Galloway</strong></p><a href=\"https://casisvancouver.ca/2021/05/12/special-episode-designating-extremists-as-terrorists-yay-or-nay/\" target=\"_blank\" class=\"btn-get-started\">Access publication</a></div></div> </div><!-- # Faq item-->\n"
     ]
    }
   ],
   "source": [
    "for index, row in terrorism.iterrows():\n",
    "    print(build_html(row))"
   ]
  },
  {
   "cell_type": "code",
   "execution_count": 86,
   "id": "1ac6a4ce",
   "metadata": {
    "collapsed": true
   },
   "outputs": [
    {
     "name": "stdout",
     "output_type": "stream",
     "text": [
      "<div class=\"accordion-item\"><h3 class=\"accordion-header\"><button class=\"accordion-button collapsed\" type=\"button\" data-bs-toggle=\"collapse\" data-bs-target=\"#faq-content-60\">Social Media as a Recruitment Tool by Extremist Groups</button></h3><div id=\"faq-content-60\" class=\"accordion-collapse collapse\" data-bs-parent=\"#faqlist\"><div class=\"accordion-body\"><p>Author: <strong>Mubin Shaikh </strong></p><a href=\"https://journals.lib.sfu.ca/index.php/jicw/article/view/2768\" target=\"_blank\" class=\"btn-get-started\">Access publication</a></div></div> </div><!-- # Faq item-->\n",
      "<div class=\"accordion-item\"><h3 class=\"accordion-header\"><button class=\"accordion-button collapsed\" type=\"button\" data-bs-toggle=\"collapse\" data-bs-target=\"#faq-content-69\">Radicalization Convoy: Concerns Of Domestic Extremism In Canada</button></h3><div id=\"faq-content-69\" class=\"accordion-collapse collapse\" data-bs-parent=\"#faqlist\"><div class=\"accordion-body\"><p>Author: <strong>Mubin Shaikh </strong></p><a href=\"https://journals.lib.sfu.ca/index.php/jicw/article/view/5404\" target=\"_blank\" class=\"btn-get-started\">Access publication</a></div></div> </div><!-- # Faq item-->\n",
      "<div class=\"accordion-item\"><h3 class=\"accordion-header\"><button class=\"accordion-button collapsed\" type=\"button\" data-bs-toggle=\"collapse\" data-bs-target=\"#faq-content-166\">Community Centred Approach to Rehabilitation and Reintegration of Returnees</button></h3><div id=\"faq-content-166\" class=\"accordion-collapse collapse\" data-bs-parent=\"#faqlist\"><div class=\"accordion-body\"><p>Author: <strong>Navaid Aziz</strong></p><a href=\"https://journals.lib.sfu.ca/index.php/jicw/article/view/5054\" target=\"_blank\" class=\"btn-get-started\">Access publication</a></div></div> </div><!-- # Faq item-->\n",
      "<div class=\"accordion-item\"><h3 class=\"accordion-header\"><button class=\"accordion-button collapsed\" type=\"button\" data-bs-toggle=\"collapse\" data-bs-target=\"#faq-content-218\">Radicalization in the Age of Social Media: Mass Identity Manipulations (MIMs)</button></h3><div id=\"faq-content-218\" class=\"accordion-collapse collapse\" data-bs-parent=\"#faqlist\"><div class=\"accordion-body\"><p>Author: <strong>Dr. Sophia Moskalenko</strong></p><a href=\"https://journals.lib.sfu.ca/index.php/jicw/article/view/2539 \" target=\"_blank\" class=\"btn-get-started\">Access publication</a></div></div> </div><!-- # Faq item-->\n",
      "<div class=\"accordion-item\"><h3 class=\"accordion-header\"><button class=\"accordion-button collapsed\" type=\"button\" data-bs-toggle=\"collapse\" data-bs-target=\"#faq-content-225\">Evolution of QAnon & Radicalization by Conspiracy Theories</button></h3><div id=\"faq-content-225\" class=\"accordion-collapse collapse\" data-bs-parent=\"#faqlist\"><div class=\"accordion-body\"><p>Author: <strong>Dr. Sophia Moskalenko</strong></p><a href=\"https://journals.lib.sfu.ca/index.php/jicw/article/view/3756\" target=\"_blank\" class=\"btn-get-started\">Access publication</a></div></div> </div><!-- # Faq item-->\n",
      "<div class=\"accordion-item\"><h3 class=\"accordion-header\"><button class=\"accordion-button collapsed\" type=\"button\" data-bs-toggle=\"collapse\" data-bs-target=\"#faq-content-227\">Incel Ideology, Radicalization and Mental Health: A Survey Study</button></h3><div id=\"faq-content-227\" class=\"accordion-collapse collapse\" data-bs-parent=\"#faqlist\"><div class=\"accordion-body\"><p>Author: <strong>Dr. Sophia Moskalenko</strong></p><a href=\"https://journals.lib.sfu.ca/index.php/jicw/article/view/3817\" target=\"_blank\" class=\"btn-get-started\">Access publication</a></div></div> </div><!-- # Faq item-->\n",
      "<div class=\"accordion-item\"><h3 class=\"accordion-header\"><button class=\"accordion-button collapsed\" type=\"button\" data-bs-toggle=\"collapse\" data-bs-target=\"#faq-content-229\">Deadly Disinformation: Viral Conspiracy Theories as a Radicalization Mechanism</button></h3><div id=\"faq-content-229\" class=\"accordion-collapse collapse\" data-bs-parent=\"#faqlist\"><div class=\"accordion-body\"><p>Author: <strong>Dr. Sophia Moskalenko</strong></p><a href=\"https://journals.lib.sfu.ca/index.php/jicw/article/view/5032\" target=\"_blank\" class=\"btn-get-started\">Access publication</a></div></div> </div><!-- # Faq item-->\n",
      "<div class=\"accordion-item\"><h3 class=\"accordion-header\"><button class=\"accordion-button collapsed\" type=\"button\" data-bs-toggle=\"collapse\" data-bs-target=\"#faq-content-230\">DEADLY DISINFORMATION: LGBTQ CONTAGION NARRATIVES AS RADICALIZING DISINFORMATION IN RUSSIAN PROPAGANDA</button></h3><div id=\"faq-content-230\" class=\"accordion-collapse collapse\" data-bs-parent=\"#faqlist\"><div class=\"accordion-body\"><p>Author: <strong>Dr. Sophia Moskalenko</strong></p><a href=\"https://journals.lib.sfu.ca/index.php/jicw/article/view/5171\" target=\"_blank\" class=\"btn-get-started\">Access publication</a></div></div> </div><!-- # Faq item-->\n",
      "<div class=\"accordion-item\"><h3 class=\"accordion-header\"><button class=\"accordion-button collapsed\" type=\"button\" data-bs-toggle=\"collapse\" data-bs-target=\"#faq-content-234\">Exploring the Radicalization Pipeline on YouTube</button></h3><div id=\"faq-content-234\" class=\"accordion-collapse collapse\" data-bs-parent=\"#faqlist\"><div class=\"accordion-body\"><p>Author: <strong>Amanda Champion</strong></p><a href=\"https://journals.lib.sfu.ca/index.php/jicw/article/view/3754\" target=\"_blank\" class=\"btn-get-started\">Access publication</a></div></div> </div><!-- # Faq item-->\n",
      "<div class=\"accordion-item\"><h3 class=\"accordion-header\"><button class=\"accordion-button collapsed\" type=\"button\" data-bs-toggle=\"collapse\" data-bs-target=\"#faq-content-235\">Memes and Media's Role in Radicalization</button></h3><div id=\"faq-content-235\" class=\"accordion-collapse collapse\" data-bs-parent=\"#faqlist\"><div class=\"accordion-body\"><p>Author: <strong>Tina Askanius</strong></p><a href=\"https://journals.lib.sfu.ca/index.php/jicw/article/view/3753\" target=\"_blank\" class=\"btn-get-started\">Access publication</a></div></div> </div><!-- # Faq item-->\n",
      "<div class=\"accordion-item\"><h3 class=\"accordion-header\"><button class=\"accordion-button collapsed\" type=\"button\" data-bs-toggle=\"collapse\" data-bs-target=\"#faq-content-265\">Radicalization and Violent Extremism in the Era of COVID-19</button></h3><div id=\"faq-content-265\" class=\"accordion-collapse collapse\" data-bs-parent=\"#faqlist\"><div class=\"accordion-body\"><p>Author: <strong>Dr. Garth Davies</strong></p><a href=\"https://journals.lib.sfu.ca/index.php/jicw/article/view/2824 \" target=\"_blank\" class=\"btn-get-started\">Access publication</a></div></div> </div><!-- # Faq item-->\n",
      "<div class=\"accordion-item\"><h3 class=\"accordion-header\"><button class=\"accordion-button collapsed\" type=\"button\" data-bs-toggle=\"collapse\" data-bs-target=\"#faq-content-330\">Right-wing Extremism and a Global Pandemic</button></h3><div id=\"faq-content-330\" class=\"accordion-collapse collapse\" data-bs-parent=\"#faqlist\"><div class=\"accordion-body\"><p>Author: <strong>Brad Galloway</strong></p><a href=\"https://soundcloud.com/casisvancouver/episode-5-right-wing-extremism-and-a-global-pandemic\" target=\"_blank\" class=\"btn-get-started\">Access publication</a></div></div> </div><!-- # Faq item-->\n"
     ]
    }
   ],
   "source": [
    "for index, row in radicalization.iterrows():\n",
    "    print(build_html(row))"
   ]
  },
  {
   "cell_type": "code",
   "execution_count": 87,
   "id": "ebda8c58",
   "metadata": {
    "collapsed": true
   },
   "outputs": [
    {
     "name": "stdout",
     "output_type": "stream",
     "text": [
      "<div class=\"accordion-item\"><h3 class=\"accordion-header\"><button class=\"accordion-button collapsed\" type=\"button\" data-bs-toggle=\"collapse\" data-bs-target=\"#faq-content-17\">DISRUPTION: HIDING IN PLAIN SIGHT</button></h3><div id=\"faq-content-17\" class=\"accordion-collapse collapse\" data-bs-parent=\"#faqlist\"><div class=\"accordion-body\"><p>Author: <strong>Candyce Kelshall</strong></p><a href=\"https://journals.lib.sfu.ca/index.php/jicw/article/view/5175\" target=\"_blank\" class=\"btn-get-started\">Access publication</a></div></div> </div><!-- # Faq item-->\n",
      "<div class=\"accordion-item\"><h3 class=\"accordion-header\"><button class=\"accordion-button collapsed\" type=\"button\" data-bs-toggle=\"collapse\" data-bs-target=\"#faq-content-26\">The Dark Age of Online Civil Society : (AKA: A war of 1)</button></h3><div id=\"faq-content-26\" class=\"accordion-collapse collapse\" data-bs-parent=\"#faqlist\"><div class=\"accordion-body\"><p>Author: <strong>Dr. Patrick Neal</strong></p><a href=\"https://journals.lib.sfu.ca/index.php/jicw/article/view/1184\" target=\"_blank\" class=\"btn-get-started\">Access publication</a></div></div> </div><!-- # Faq item-->\n",
      "<div class=\"accordion-item\"><h3 class=\"accordion-header\"><button class=\"accordion-button collapsed\" type=\"button\" data-bs-toggle=\"collapse\" data-bs-target=\"#faq-content-43\">Extremist Propaganda and the 'Politics of the Internet' </button></h3><div id=\"faq-content-43\" class=\"accordion-collapse collapse\" data-bs-parent=\"#faqlist\"><div class=\"accordion-body\"><p>Author: <strong>Dr. Julian Richards</strong></p><a href=\"https://journals.lib.sfu.ca/index.php/jicw/article/view/2798\" target=\"_blank\" class=\"btn-get-started\">Access publication</a></div></div> </div><!-- # Faq item-->\n",
      "<div class=\"accordion-item\"><h3 class=\"accordion-header\"><button class=\"accordion-button collapsed\" type=\"button\" data-bs-toggle=\"collapse\" data-bs-target=\"#faq-content-46\">OPENING REMARKS: CYBER RESILIENCE AND INTERNATIONAL PERSPECTIVES PANEL </button></h3><div id=\"faq-content-46\" class=\"accordion-collapse collapse\" data-bs-parent=\"#faqlist\"><div class=\"accordion-body\"><p>Author: <strong>Dr. Julian Richards</strong></p><a href=\"https://journals.lib.sfu.ca/index.php/jicw/article/view/5210\" target=\"_blank\" class=\"btn-get-started\">Access publication</a></div></div> </div><!-- # Faq item-->\n",
      "<div class=\"accordion-item\"><h3 class=\"accordion-header\"><button class=\"accordion-button collapsed\" type=\"button\" data-bs-toggle=\"collapse\" data-bs-target=\"#faq-content-61\">Social Media as a Recruitment Tool by Extremist Groups</button></h3><div id=\"faq-content-61\" class=\"accordion-collapse collapse\" data-bs-parent=\"#faqlist\"><div class=\"accordion-body\"><p>Author: <strong>Mubin Shaikh </strong></p><a href=\"https://journals.lib.sfu.ca/index.php/jicw/article/view/2768\" target=\"_blank\" class=\"btn-get-started\">Access publication</a></div></div> </div><!-- # Faq item-->\n",
      "<div class=\"accordion-item\"><h3 class=\"accordion-header\"><button class=\"accordion-button collapsed\" type=\"button\" data-bs-toggle=\"collapse\" data-bs-target=\"#faq-content-63\">Security and Cyber Intelligence: Where is the Line?</button></h3><div id=\"faq-content-63\" class=\"accordion-collapse collapse\" data-bs-parent=\"#faqlist\"><div class=\"accordion-body\"><p>Author: <strong>Mubin Shaikh </strong></p><a href=\"https://journals.lib.sfu.ca/index.php/jicw/article/view/4339\" target=\"_blank\" class=\"btn-get-started\">Access publication</a></div></div> </div><!-- # Faq item-->\n",
      "<div class=\"accordion-item\"><h3 class=\"accordion-header\"><button class=\"accordion-button collapsed\" type=\"button\" data-bs-toggle=\"collapse\" data-bs-target=\"#faq-content-117\">Cyber investigation: A new frontier for police\n",
      "</button></h3><div id=\"faq-content-117\" class=\"accordion-collapse collapse\" data-bs-parent=\"#faqlist\"><div class=\"accordion-body\"><p>Author: <strong>Kathy McDonald M.O.M. </strong></p><a href=\"https://journals.lib.sfu.ca/index.php/jicw/article/view/2754\" target=\"_blank\" class=\"btn-get-started\">Access publication</a></div></div> </div><!-- # Faq item-->\n",
      "<div class=\"accordion-item\"><h3 class=\"accordion-header\"><button class=\"accordion-button collapsed\" type=\"button\" data-bs-toggle=\"collapse\" data-bs-target=\"#faq-content-127\">DATA & INFRASTRUCTURE SECURITY: THE RISK OF AI ENABLED CYBER ATTACKS AND QUANTUM HACKING</button></h3><div id=\"faq-content-127\" class=\"accordion-collapse collapse\" data-bs-parent=\"#faqlist\"><div class=\"accordion-body\"><p>Author: <strong>Dr. Ryan Prox</strong></p><a href=\"https://journals.lib.sfu.ca/index.php/jicw/article/view/5179\" target=\"_blank\" class=\"btn-get-started\">Access publication</a></div></div> </div><!-- # Faq item-->\n",
      "<div class=\"accordion-item\"><h3 class=\"accordion-header\"><button class=\"accordion-button collapsed\" type=\"button\" data-bs-toggle=\"collapse\" data-bs-target=\"#faq-content-155\">CYBER SECURITY, DATA PROTECTION, AND PRIVACY IN A CONTESTED GEO-POLITICAL ENVIRONMENT\n",
      "</button></h3><div id=\"faq-content-155\" class=\"accordion-collapse collapse\" data-bs-parent=\"#faqlist\"><div class=\"accordion-body\"><p>Author: <strong>Aaron Shull\n",
      "</strong></p><a href=\"https://journals.lib.sfu.ca/index.php/jicw/article/view/5214\" target=\"_blank\" class=\"btn-get-started\">Access publication</a></div></div> </div><!-- # Faq item-->\n",
      "<div class=\"accordion-item\"><h3 class=\"accordion-header\"><button class=\"accordion-button collapsed\" type=\"button\" data-bs-toggle=\"collapse\" data-bs-target=\"#faq-content-243\">Predicting the Escalation to Violence of Online Hate Groups</button></h3><div id=\"faq-content-243\" class=\"accordion-collapse collapse\" data-bs-parent=\"#faqlist\"><div class=\"accordion-body\"><p>Author: <strong>Natalie Archutowski</strong></p><a href=\"https://journals.lib.sfu.ca/index.php/jicw/article/view/4191\" target=\"_blank\" class=\"btn-get-started\">Access publication</a></div></div> </div><!-- # Faq item-->\n",
      "<div class=\"accordion-item\"><h3 class=\"accordion-header\"><button class=\"accordion-button collapsed\" type=\"button\" data-bs-toggle=\"collapse\" data-bs-target=\"#faq-content-267\">Radicalization and Violent Extremism in the Era of COVID-19</button></h3><div id=\"faq-content-267\" class=\"accordion-collapse collapse\" data-bs-parent=\"#faqlist\"><div class=\"accordion-body\"><p>Author: <strong>Dr. Garth Davies</strong></p><a href=\"https://journals.lib.sfu.ca/index.php/jicw/article/view/2824 \" target=\"_blank\" class=\"btn-get-started\">Access publication</a></div></div> </div><!-- # Faq item-->\n",
      "<div class=\"accordion-item\"><h3 class=\"accordion-header\"><button class=\"accordion-button collapsed\" type=\"button\" data-bs-toggle=\"collapse\" data-bs-target=\"#faq-content-273\">Right Wing Extremism and Youth Recruitment</button></h3><div id=\"faq-content-273\" class=\"accordion-collapse collapse\" data-bs-parent=\"#faqlist\"><div class=\"accordion-body\"><p>Author: <strong>Dr. Barbara Perry</strong></p><a href=\"https://journals.lib.sfu.ca/index.php/jicw/article/view/2901\" target=\"_blank\" class=\"btn-get-started\">Access publication</a></div></div> </div><!-- # Faq item-->\n",
      "<div class=\"accordion-item\"><h3 class=\"accordion-header\"><button class=\"accordion-button collapsed\" type=\"button\" data-bs-toggle=\"collapse\" data-bs-target=\"#faq-content-281\">The Use of Memes and Satire by the Alt-right and Gen Z Activists – Exclusion vs Inclusion</button></h3><div id=\"faq-content-281\" class=\"accordion-collapse collapse\" data-bs-parent=\"#faqlist\"><div class=\"accordion-body\"><p>Author: <strong>Dr. Viveca S. Greene</strong></p><a href=\"https://journals.lib.sfu.ca/index.php/jicw/article/view/2818\" target=\"_blank\" class=\"btn-get-started\">Access publication</a></div></div> </div><!-- # Faq item-->\n",
      "<div class=\"accordion-item\"><h3 class=\"accordion-header\"><button class=\"accordion-button collapsed\" type=\"button\" data-bs-toggle=\"collapse\" data-bs-target=\"#faq-content-282\">Memeology: Normalizing Hate Through Humour?</button></h3><div id=\"faq-content-282\" class=\"accordion-collapse collapse\" data-bs-parent=\"#faqlist\"><div class=\"accordion-body\"><p>Author: <strong>Dr. Viveca S. Greene</strong></p><a href=\"https://journals.lib.sfu.ca/index.php/jicw/article/view/2962\" target=\"_blank\" class=\"btn-get-started\">Access publication</a></div></div> </div><!-- # Faq item-->\n",
      "<div class=\"accordion-item\"><h3 class=\"accordion-header\"><button class=\"accordion-button collapsed\" type=\"button\" data-bs-toggle=\"collapse\" data-bs-target=\"#faq-content-284\">Memeology: Normalizing Hate Through Humour?</button></h3><div id=\"faq-content-284\" class=\"accordion-collapse collapse\" data-bs-parent=\"#faqlist\"><div class=\"accordion-body\"><p>Author: <strong>Makena Rasmussen</strong></p><a href=\"https://journals.lib.sfu.ca/index.php/jicw/article/view/2962\" target=\"_blank\" class=\"btn-get-started\">Access publication</a></div></div> </div><!-- # Faq item-->\n",
      "<div class=\"accordion-item\"><h3 class=\"accordion-header\"><button class=\"accordion-button collapsed\" type=\"button\" data-bs-toggle=\"collapse\" data-bs-target=\"#faq-content-286\">Memeology: Normalizing Hate Through Humour?</button></h3><div id=\"faq-content-286\" class=\"accordion-collapse collapse\" data-bs-parent=\"#faqlist\"><div class=\"accordion-body\"><p>Author: <strong>Dutch Clark</strong></p><a href=\"https://journals.lib.sfu.ca/index.php/jicw/article/view/2962\" target=\"_blank\" class=\"btn-get-started\">Access publication</a></div></div> </div><!-- # Faq item-->\n",
      "<div class=\"accordion-item\"><h3 class=\"accordion-header\"><button class=\"accordion-button collapsed\" type=\"button\" data-bs-toggle=\"collapse\" data-bs-target=\"#faq-content-288\">The Weaponization of Deep Fakes: Threats and Responses</button></h3><div id=\"faq-content-288\" class=\"accordion-collapse collapse\" data-bs-parent=\"#faqlist\"><div class=\"accordion-body\"><p>Author: <strong>Dr. Hany Farid</strong></p><a href=\"https://journals.lib.sfu.ca/index.php/jicw/article/view/3720\" target=\"_blank\" class=\"btn-get-started\">Access publication</a></div></div> </div><!-- # Faq item-->\n",
      "<div class=\"accordion-item\"><h3 class=\"accordion-header\"><button class=\"accordion-button collapsed\" type=\"button\" data-bs-toggle=\"collapse\" data-bs-target=\"#faq-content-293\">Detecting and Combating Deep Fakes</button></h3><div id=\"faq-content-293\" class=\"accordion-collapse collapse\" data-bs-parent=\"#faqlist\"><div class=\"accordion-body\"><p>Author: <strong>Dr. Hany Farid</strong></p><a href=\"https://journals.lib.sfu.ca/index.php/jicw/article/view/2752 \" target=\"_blank\" class=\"btn-get-started\">Access publication</a></div></div> </div><!-- # Faq item-->\n",
      "<div class=\"accordion-item\"><h3 class=\"accordion-header\"><button class=\"accordion-button collapsed\" type=\"button\" data-bs-toggle=\"collapse\" data-bs-target=\"#faq-content-294\">Big Data Surveillance: Privacy and Trust Implications</button></h3><div id=\"faq-content-294\" class=\"accordion-collapse collapse\" data-bs-parent=\"#faqlist\"><div class=\"accordion-body\"><p>Author: <strong>Dr. Valerie Steeves</strong></p><a href=\"https://journals.lib.sfu.ca/index.php/jicw/article/view/3751\" target=\"_blank\" class=\"btn-get-started\">Access publication</a></div></div> </div><!-- # Faq item-->\n",
      "<div class=\"accordion-item\"><h3 class=\"accordion-header\"><button class=\"accordion-button collapsed\" type=\"button\" data-bs-toggle=\"collapse\" data-bs-target=\"#faq-content-314\">The Role of the Dark Web in the Crime and Terrorism Nexus</button></h3><div id=\"faq-content-314\" class=\"accordion-collapse collapse\" data-bs-parent=\"#faqlist\"><div class=\"accordion-body\"><p>Author: <strong>Dr. Richard Frank</strong></p><a href=\"https://journals.lib.sfu.ca/index.php/jicw/article/view/959\" target=\"_blank\" class=\"btn-get-started\">Access publication</a></div></div> </div><!-- # Faq item-->\n",
      "<div class=\"accordion-item\"><h3 class=\"accordion-header\"><button class=\"accordion-button collapsed\" type=\"button\" data-bs-toggle=\"collapse\" data-bs-target=\"#faq-content-315\">Cyber Security in an Information Warfare Age</button></h3><div id=\"faq-content-315\" class=\"accordion-collapse collapse\" data-bs-parent=\"#faqlist\"><div class=\"accordion-body\"><p>Author: <strong>Steven Pearce</strong></p><a href=\"https://journals.lib.sfu.ca/index.php/jicw/article/view/652\" target=\"_blank\" class=\"btn-get-started\">Access publication</a></div></div> </div><!-- # Faq item-->\n"
     ]
    }
   ],
   "source": [
    "for index, row in cyber.iterrows():\n",
    "    print(build_html(row))"
   ]
  },
  {
   "cell_type": "code",
   "execution_count": 66,
   "id": "2abbe54c",
   "metadata": {},
   "outputs": [],
   "source": [
    "#Military tags\n",
    "lead2 = df[df['Tag (ONE ONLY)'] == 'Leadership']\n",
    "collaboration = df[df['Tag (ONE ONLY)'] == 'Collaboration']\n",
    "joint_ops = df[df['Tag (ONE ONLY)'] == 'Joint Operations']\n",
    "nato = df[df['Tag (ONE ONLY)'] == 'NATO']\n",
    "military_intel = df[df['Tag (ONE ONLY)'] == 'Military Intelligence']\n",
    "intelligence_practice = df[df['Tag (ONE ONLY)'] == 'Intelligence Practice']\n",
    "overseas_ops = df[df['Tag (ONE ONLY)'] == 'Overseas Operations']\n",
    "military_ops = df[df['Tag (ONE ONLY)'] == 'Military Operations']\n",
    "fiveG= df[df['Tag (ONE ONLY)'] == '5G Warfare']\n",
    "\n",
    "military = [\n",
    "    lead2,\n",
    "    collaboration,\n",
    "    joint_ops,\n",
    "    nato,\n",
    "    military_intel,\n",
    "    intelligence_practice,\n",
    "    overseas_ops,\n",
    "    military_ops,\n",
    "    fiveG\n",
    "]"
   ]
  },
  {
   "cell_type": "code",
   "execution_count": 88,
   "id": "dc73a19c",
   "metadata": {
    "collapsed": true
   },
   "outputs": [
    {
     "name": "stdout",
     "output_type": "stream",
     "text": [
      "<div class=\"accordion-item\"><h3 class=\"accordion-header\"><button class=\"accordion-button collapsed\" type=\"button\" data-bs-toggle=\"collapse\" data-bs-target=\"#faq-content-86\">Leadership, Intelligence Management, and Complex Crises</button></h3><div id=\"faq-content-86\" class=\"accordion-collapse collapse\" data-bs-parent=\"#faqlist\"><div class=\"accordion-body\"><p>Author: <strong>Rear Admiral Richard Kelshall</strong></p><a href=\"https://journals.lib.sfu.ca/index.php/jicw/article/view/4207\" target=\"_blank\" class=\"btn-get-started\">Access publication</a></div></div> </div><!-- # Faq item-->\n",
      "<div class=\"accordion-item\"><h3 class=\"accordion-header\"><button class=\"accordion-button collapsed\" type=\"button\" data-bs-toggle=\"collapse\" data-bs-target=\"#faq-content-97\">Authenticity, Adversity and Accountability in the Context of Uniformed Leadership</button></h3><div id=\"faq-content-97\" class=\"accordion-collapse collapse\" data-bs-parent=\"#faqlist\"><div class=\"accordion-body\"><p>Author: <strong>Commander Jonathan Kouwenberg</strong></p><a href=\"https://journals.lib.sfu.ca/index.php/jicw/article/view/4159\" target=\"_blank\" class=\"btn-get-started\">Access publication</a></div></div> </div><!-- # Faq item-->\n",
      "<div class=\"accordion-item\"><h3 class=\"accordion-header\"><button class=\"accordion-button collapsed\" type=\"button\" data-bs-toggle=\"collapse\" data-bs-target=\"#faq-content-99\">Leading in a Data Centric Society</button></h3><div id=\"faq-content-99\" class=\"accordion-collapse collapse\" data-bs-parent=\"#faqlist\"><div class=\"accordion-body\"><p>Author: <strong>Lieutenant Colonel Vincent Virk</strong></p><a href=\"https://journals.lib.sfu.ca/index.php/jicw/article/view/2529\" target=\"_blank\" class=\"btn-get-started\">Access publication</a></div></div> </div><!-- # Faq item-->\n",
      "<div class=\"accordion-item\"><h3 class=\"accordion-header\"><button class=\"accordion-button collapsed\" type=\"button\" data-bs-toggle=\"collapse\" data-bs-target=\"#faq-content-101\">Effective Leadership in Times of Uncertainty\n",
      "</button></h3><div id=\"faq-content-101\" class=\"accordion-collapse collapse\" data-bs-parent=\"#faqlist\"><div class=\"accordion-body\"><p>Author: <strong>Lieutenant Colonel Vincent Virk</strong></p><a href=\"https://journals.lib.sfu.ca/index.php/jicw/article/view/4196\" target=\"_blank\" class=\"btn-get-started\">Access publication</a></div></div> </div><!-- # Faq item-->\n"
     ]
    }
   ],
   "source": [
    "for index, row in lead2.iterrows():\n",
    "    print(build_html(row))"
   ]
  },
  {
   "cell_type": "code",
   "execution_count": 89,
   "id": "3dbf19f2",
   "metadata": {
    "collapsed": true
   },
   "outputs": [
    {
     "name": "stdout",
     "output_type": "stream",
     "text": [
      "<div class=\"accordion-item\"><h3 class=\"accordion-header\"><button class=\"accordion-button collapsed\" type=\"button\" data-bs-toggle=\"collapse\" data-bs-target=\"#faq-content-23\">Canada and the Five Eyes Partnership: Looking Ahead</button></h3><div id=\"faq-content-23\" class=\"accordion-collapse collapse\" data-bs-parent=\"#faqlist\"><div class=\"accordion-body\"><p>Author: <strong>Greg Fyffe</strong></p><a href=\"https://journals.lib.sfu.ca/index.php/jicw/article/view/862\" target=\"_blank\" class=\"btn-get-started\">Access publication</a></div></div> </div><!-- # Faq item-->\n",
      "<div class=\"accordion-item\"><h3 class=\"accordion-header\"><button class=\"accordion-button collapsed\" type=\"button\" data-bs-toggle=\"collapse\" data-bs-target=\"#faq-content-82\">From Liberal to Liberal Global Order: Implications for Western Security</button></h3><div id=\"faq-content-82\" class=\"accordion-collapse collapse\" data-bs-parent=\"#faqlist\"><div class=\"accordion-body\"><p>Author: <strong>Antonio Sanchez Ortega\n",
      "</strong></p><a href=\"https://journals.lib.sfu.ca/index.php/jicw/article/view/4189\" target=\"_blank\" class=\"btn-get-started\">Access publication</a></div></div> </div><!-- # Faq item-->\n",
      "<div class=\"accordion-item\"><h3 class=\"accordion-header\"><button class=\"accordion-button collapsed\" type=\"button\" data-bs-toggle=\"collapse\" data-bs-target=\"#faq-content-90\">Canadian Armed Forces Assistance to Law Enforcement and Civil Authorities</button></h3><div id=\"faq-content-90\" class=\"accordion-collapse collapse\" data-bs-parent=\"#faqlist\"><div class=\"accordion-body\"><p>Author: <strong>Lieutenant Commander Heidi Straarup</strong></p><a href=\"https://journals.lib.sfu.ca/index.php/jicw/article/view/5409\" target=\"_blank\" class=\"btn-get-started\">Access publication</a></div></div> </div><!-- # Faq item-->\n",
      "<div class=\"accordion-item\"><h3 class=\"accordion-header\"><button class=\"accordion-button collapsed\" type=\"button\" data-bs-toggle=\"collapse\" data-bs-target=\"#faq-content-104\">Interagency Collaboration and National Security</button></h3><div id=\"faq-content-104\" class=\"accordion-collapse collapse\" data-bs-parent=\"#faqlist\"><div class=\"accordion-body\"><p>Author: <strong>Brigadier-General Archilus Phillips</strong></p><a href=\"https://journals.lib.sfu.ca/index.php/jicw/article/view/2817\" target=\"_blank\" class=\"btn-get-started\">Access publication</a></div></div> </div><!-- # Faq item-->\n",
      "<div class=\"accordion-item\"><h3 class=\"accordion-header\"><button class=\"accordion-button collapsed\" type=\"button\" data-bs-toggle=\"collapse\" data-bs-target=\"#faq-content-107\">NATO’S CONCEPT FOR THE DETERRENCE AND DEFENCE OF THE EURO-ATLANTIC AREA</button></h3><div id=\"faq-content-107\" class=\"accordion-collapse collapse\" data-bs-parent=\"#faqlist\"><div class=\"accordion-body\"><p>Author: <strong>Brigadier-General Jay Janzen</strong></p><a href=\"https://journals.lib.sfu.ca/index.php/jicw/article/view/5174\" target=\"_blank\" class=\"btn-get-started\">Access publication</a></div></div> </div><!-- # Faq item-->\n",
      "<div class=\"accordion-item\"><h3 class=\"accordion-header\"><button class=\"accordion-button collapsed\" type=\"button\" data-bs-toggle=\"collapse\" data-bs-target=\"#faq-content-140\">POLICING DURING CRISES AND IN AN ERA OF NEW CHALLENGES</button></h3><div id=\"faq-content-140\" class=\"accordion-collapse collapse\" data-bs-parent=\"#faqlist\"><div class=\"accordion-body\"><p>Author: <strong>Chief Constable Del Manak </strong></p><a href=\"https://journals.lib.sfu.ca/index.php/jicw/article/view/5205\" target=\"_blank\" class=\"btn-get-started\">Access publication</a></div></div> </div><!-- # Faq item-->\n",
      "<div class=\"accordion-item\"><h3 class=\"accordion-header\"><button class=\"accordion-button collapsed\" type=\"button\" data-bs-toggle=\"collapse\" data-bs-target=\"#faq-content-159\">Post-COVID World: Dealing with Future Health Crises and the Role of the National Intelligence Community\n",
      "</button></h3><div id=\"faq-content-159\" class=\"accordion-collapse collapse\" data-bs-parent=\"#faqlist\"><div class=\"accordion-body\"><p>Author: <strong>Dr. Patrick Walsh</strong></p><a href=\"https://journals.lib.sfu.ca/index.php/jicw/article/view/4199\" target=\"_blank\" class=\"btn-get-started\">Access publication</a></div></div> </div><!-- # Faq item-->\n",
      "<div class=\"accordion-item\"><h3 class=\"accordion-header\"><button class=\"accordion-button collapsed\" type=\"button\" data-bs-toggle=\"collapse\" data-bs-target=\"#faq-content-169\">WHY NATO HAS BECOME A FLASHPOINT WITH RUSSIA IN UKRAINE\n",
      "</button></h3><div id=\"faq-content-169\" class=\"accordion-collapse collapse\" data-bs-parent=\"#faqlist\"><div class=\"accordion-body\"><p>Author: <strong>Dr. Charles Kupchan</strong></p><a href=\"https://journals.lib.sfu.ca/index.php/jicw/article/view/5173\" target=\"_blank\" class=\"btn-get-started\">Access publication</a></div></div> </div><!-- # Faq item-->\n",
      "<div class=\"accordion-item\"><h3 class=\"accordion-header\"><button class=\"accordion-button collapsed\" type=\"button\" data-bs-toggle=\"collapse\" data-bs-target=\"#faq-content-193\">NATO and Canadian Responses to Russia since its Annexation of Crimea in 2014</button></h3><div id=\"faq-content-193\" class=\"accordion-collapse collapse\" data-bs-parent=\"#faqlist\"><div class=\"accordion-body\"><p>Author: <strong>Nicole Jackson</strong></p><a href=\"https://journals.lib.sfu.ca/index.php/jicw/article/view/468 \" target=\"_blank\" class=\"btn-get-started\">Access publication</a></div></div> </div><!-- # Faq item-->\n",
      "<div class=\"accordion-item\"><h3 class=\"accordion-header\"><button class=\"accordion-button collapsed\" type=\"button\" data-bs-toggle=\"collapse\" data-bs-target=\"#faq-content-252\">Canadian American Solutions to the Questions of Arctic Security</button></h3><div id=\"faq-content-252\" class=\"accordion-collapse collapse\" data-bs-parent=\"#faqlist\"><div class=\"accordion-body\"><p>Author: <strong>Dr. Robert Huebert</strong></p><a href=\"https://journals.lib.sfu.ca/index.php/jicw/article/view/4200\" target=\"_blank\" class=\"btn-get-started\">Access publication</a></div></div> </div><!-- # Faq item-->\n",
      "<div class=\"accordion-item\"><h3 class=\"accordion-header\"><button class=\"accordion-button collapsed\" type=\"button\" data-bs-toggle=\"collapse\" data-bs-target=\"#faq-content-271\">Improving Law Enforcement and Indigenous Relations</button></h3><div id=\"faq-content-271\" class=\"accordion-collapse collapse\" data-bs-parent=\"#faqlist\"><div class=\"accordion-body\"><p>Author: <strong>Professor Kent Roach</strong></p><a href=\"https://journals.lib.sfu.ca/index.php/jicw/article/view/2841 \" target=\"_blank\" class=\"btn-get-started\">Access publication</a></div></div> </div><!-- # Faq item-->\n",
      "<div class=\"accordion-item\"><h3 class=\"accordion-header\"><button class=\"accordion-button collapsed\" type=\"button\" data-bs-toggle=\"collapse\" data-bs-target=\"#faq-content-311\">Canadian Intelligence Operations Overseas</button></h3><div id=\"faq-content-311\" class=\"accordion-collapse collapse\" data-bs-parent=\"#faqlist\"><div class=\"accordion-body\"><p>Author: <strong>Captain Duane Kempton</strong></p><a href=\"https://journals.lib.sfu.ca/index.php/jicw/article/view/962\" target=\"_blank\" class=\"btn-get-started\">Access publication</a></div></div> </div><!-- # Faq item-->\n",
      "<div class=\"accordion-item\"><h3 class=\"accordion-header\"><button class=\"accordion-button collapsed\" type=\"button\" data-bs-toggle=\"collapse\" data-bs-target=\"#faq-content-325\">Security Cooperation: What Do We Know About Security\n",
      "Assistance?</button></h3><div id=\"faq-content-325\" class=\"accordion-collapse collapse\" data-bs-parent=\"#faqlist\"><div class=\"accordion-body\"><p>Author: <strong>Dr. Jonathan D. Caverley</strong></p><a href=\"https://drive.google.com/drive/folders/16dVzXfhZdgSnIYeCiZbgOVKc-DzYyLR5\" target=\"_blank\" class=\"btn-get-started\">Access publication</a></div></div> </div><!-- # Faq item-->\n"
     ]
    }
   ],
   "source": [
    "for index, row in collaboration.iterrows():\n",
    "    print(build_html(row))"
   ]
  },
  {
   "cell_type": "code",
   "execution_count": 90,
   "id": "d0385b1d",
   "metadata": {
    "collapsed": true
   },
   "outputs": [
    {
     "name": "stdout",
     "output_type": "stream",
     "text": [
      "<div class=\"accordion-item\"><h3 class=\"accordion-header\"><button class=\"accordion-button collapsed\" type=\"button\" data-bs-toggle=\"collapse\" data-bs-target=\"#faq-content-91\">Canadian Armed Forces Assistance to Law Enforcement and Civil Authorities</button></h3><div id=\"faq-content-91\" class=\"accordion-collapse collapse\" data-bs-parent=\"#faqlist\"><div class=\"accordion-body\"><p>Author: <strong>Lieutenant Commander Heidi Straarup</strong></p><a href=\"https://journals.lib.sfu.ca/index.php/jicw/article/view/5409\" target=\"_blank\" class=\"btn-get-started\">Access publication</a></div></div> </div><!-- # Faq item-->\n",
      "<div class=\"accordion-item\"><h3 class=\"accordion-header\"><button class=\"accordion-button collapsed\" type=\"button\" data-bs-toggle=\"collapse\" data-bs-target=\"#faq-content-105\">Interagency Collaboration and National Security</button></h3><div id=\"faq-content-105\" class=\"accordion-collapse collapse\" data-bs-parent=\"#faqlist\"><div class=\"accordion-body\"><p>Author: <strong>Brigadier-General Archilus Phillips</strong></p><a href=\"https://journals.lib.sfu.ca/index.php/jicw/article/view/2817\" target=\"_blank\" class=\"btn-get-started\">Access publication</a></div></div> </div><!-- # Faq item-->\n",
      "<div class=\"accordion-item\"><h3 class=\"accordion-header\"><button class=\"accordion-button collapsed\" type=\"button\" data-bs-toggle=\"collapse\" data-bs-target=\"#faq-content-108\">NATO’S CONCEPT FOR THE DETERRENCE AND DEFENCE OF THE EURO-ATLANTIC AREA</button></h3><div id=\"faq-content-108\" class=\"accordion-collapse collapse\" data-bs-parent=\"#faqlist\"><div class=\"accordion-body\"><p>Author: <strong>Brigadier-General Jay Janzen</strong></p><a href=\"https://journals.lib.sfu.ca/index.php/jicw/article/view/5174\" target=\"_blank\" class=\"btn-get-started\">Access publication</a></div></div> </div><!-- # Faq item-->\n",
      "<div class=\"accordion-item\"><h3 class=\"accordion-header\"><button class=\"accordion-button collapsed\" type=\"button\" data-bs-toggle=\"collapse\" data-bs-target=\"#faq-content-160\">Post-COVID World: Dealing with Future Health Crises and the Role of the National Intelligence Community\n",
      "</button></h3><div id=\"faq-content-160\" class=\"accordion-collapse collapse\" data-bs-parent=\"#faqlist\"><div class=\"accordion-body\"><p>Author: <strong>Dr. Patrick Walsh</strong></p><a href=\"https://journals.lib.sfu.ca/index.php/jicw/article/view/4199\" target=\"_blank\" class=\"btn-get-started\">Access publication</a></div></div> </div><!-- # Faq item-->\n",
      "<div class=\"accordion-item\"><h3 class=\"accordion-header\"><button class=\"accordion-button collapsed\" type=\"button\" data-bs-toggle=\"collapse\" data-bs-target=\"#faq-content-168\">WHY NATO HAS BECOME A FLASHPOINT WITH RUSSIA IN UKRAINE\n",
      "</button></h3><div id=\"faq-content-168\" class=\"accordion-collapse collapse\" data-bs-parent=\"#faqlist\"><div class=\"accordion-body\"><p>Author: <strong>Dr. Charles Kupchan</strong></p><a href=\"https://journals.lib.sfu.ca/index.php/jicw/article/view/5173\" target=\"_blank\" class=\"btn-get-started\">Access publication</a></div></div> </div><!-- # Faq item-->\n",
      "<div class=\"accordion-item\"><h3 class=\"accordion-header\"><button class=\"accordion-button collapsed\" type=\"button\" data-bs-toggle=\"collapse\" data-bs-target=\"#faq-content-191\">NATO and Canadian Responses to Russia since its Annexation of Crimea in 2014</button></h3><div id=\"faq-content-191\" class=\"accordion-collapse collapse\" data-bs-parent=\"#faqlist\"><div class=\"accordion-body\"><p>Author: <strong>Nicole Jackson</strong></p><a href=\"https://journals.lib.sfu.ca/index.php/jicw/article/view/468 \" target=\"_blank\" class=\"btn-get-started\">Access publication</a></div></div> </div><!-- # Faq item-->\n",
      "<div class=\"accordion-item\"><h3 class=\"accordion-header\"><button class=\"accordion-button collapsed\" type=\"button\" data-bs-toggle=\"collapse\" data-bs-target=\"#faq-content-254\">Canadian American Solutions to the Questions of Arctic Security</button></h3><div id=\"faq-content-254\" class=\"accordion-collapse collapse\" data-bs-parent=\"#faqlist\"><div class=\"accordion-body\"><p>Author: <strong>Dr. Robert Huebert</strong></p><a href=\"https://journals.lib.sfu.ca/index.php/jicw/article/view/4200\" target=\"_blank\" class=\"btn-get-started\">Access publication</a></div></div> </div><!-- # Faq item-->\n",
      "<div class=\"accordion-item\"><h3 class=\"accordion-header\"><button class=\"accordion-button collapsed\" type=\"button\" data-bs-toggle=\"collapse\" data-bs-target=\"#faq-content-326\">Security Cooperation: What Do We Know About Security\n",
      "Assistance?</button></h3><div id=\"faq-content-326\" class=\"accordion-collapse collapse\" data-bs-parent=\"#faqlist\"><div class=\"accordion-body\"><p>Author: <strong>Dr. Jonathan D. Caverley</strong></p><a href=\"https://drive.google.com/drive/folders/16dVzXfhZdgSnIYeCiZbgOVKc-DzYyLR5\" target=\"_blank\" class=\"btn-get-started\">Access publication</a></div></div> </div><!-- # Faq item-->\n"
     ]
    }
   ],
   "source": [
    "for index, row in joint_ops.iterrows():\n",
    "    print(build_html(row))"
   ]
  },
  {
   "cell_type": "code",
   "execution_count": 91,
   "id": "ff6bc739",
   "metadata": {
    "collapsed": true
   },
   "outputs": [
    {
     "name": "stdout",
     "output_type": "stream",
     "text": [
      "<div class=\"accordion-item\"><h3 class=\"accordion-header\"><button class=\"accordion-button collapsed\" type=\"button\" data-bs-toggle=\"collapse\" data-bs-target=\"#faq-content-106\">NATO’S CONCEPT FOR THE DETERRENCE AND DEFENCE OF THE EURO-ATLANTIC AREA</button></h3><div id=\"faq-content-106\" class=\"accordion-collapse collapse\" data-bs-parent=\"#faqlist\"><div class=\"accordion-body\"><p>Author: <strong>Brigadier-General Jay Janzen</strong></p><a href=\"https://journals.lib.sfu.ca/index.php/jicw/article/view/5174\" target=\"_blank\" class=\"btn-get-started\">Access publication</a></div></div> </div><!-- # Faq item-->\n",
      "<div class=\"accordion-item\"><h3 class=\"accordion-header\"><button class=\"accordion-button collapsed\" type=\"button\" data-bs-toggle=\"collapse\" data-bs-target=\"#faq-content-167\">WHY NATO HAS BECOME A FLASHPOINT WITH RUSSIA IN UKRAINE\n",
      "</button></h3><div id=\"faq-content-167\" class=\"accordion-collapse collapse\" data-bs-parent=\"#faqlist\"><div class=\"accordion-body\"><p>Author: <strong>Dr. Charles Kupchan</strong></p><a href=\"https://journals.lib.sfu.ca/index.php/jicw/article/view/5173\" target=\"_blank\" class=\"btn-get-started\">Access publication</a></div></div> </div><!-- # Faq item-->\n",
      "<div class=\"accordion-item\"><h3 class=\"accordion-header\"><button class=\"accordion-button collapsed\" type=\"button\" data-bs-toggle=\"collapse\" data-bs-target=\"#faq-content-192\">NATO and Canadian Responses to Russia since its Annexation of Crimea in 2014</button></h3><div id=\"faq-content-192\" class=\"accordion-collapse collapse\" data-bs-parent=\"#faqlist\"><div class=\"accordion-body\"><p>Author: <strong>Nicole Jackson</strong></p><a href=\"https://journals.lib.sfu.ca/index.php/jicw/article/view/468 \" target=\"_blank\" class=\"btn-get-started\">Access publication</a></div></div> </div><!-- # Faq item-->\n"
     ]
    }
   ],
   "source": [
    "for index, row in nato.iterrows():\n",
    "    print(build_html(row))"
   ]
  },
  {
   "cell_type": "code",
   "execution_count": 92,
   "id": "cabcfc57",
   "metadata": {
    "collapsed": true
   },
   "outputs": [
    {
     "name": "stdout",
     "output_type": "stream",
     "text": [
      "<div class=\"accordion-item\"><h3 class=\"accordion-header\"><button class=\"accordion-button collapsed\" type=\"button\" data-bs-toggle=\"collapse\" data-bs-target=\"#faq-content-73\">The Joint Intelligence Committee and Reading the Russian Mindset </button></h3><div id=\"faq-content-73\" class=\"accordion-collapse collapse\" data-bs-parent=\"#faqlist\"><div class=\"accordion-body\"><p>Author: <strong>Professor Michael Goodman</strong></p><a href=\"https://journals.lib.sfu.ca/index.php/jicw/article/view/4162\" target=\"_blank\" class=\"btn-get-started\">Access publication</a></div></div> </div><!-- # Faq item-->\n",
      "<div class=\"accordion-item\"><h3 class=\"accordion-header\"><button class=\"accordion-button collapsed\" type=\"button\" data-bs-toggle=\"collapse\" data-bs-target=\"#faq-content-78\">Canada's Defence Intelligence ToolKit</button></h3><div id=\"faq-content-78\" class=\"accordion-collapse collapse\" data-bs-parent=\"#faqlist\"><div class=\"accordion-body\"><p>Author: <strong>Lane Aker</strong></p><a href=\"https://journals.lib.sfu.ca/index.php/jicw/article/view/5408\" target=\"_blank\" class=\"btn-get-started\">Access publication</a></div></div> </div><!-- # Faq item-->\n",
      "<div class=\"accordion-item\"><h3 class=\"accordion-header\"><button class=\"accordion-button collapsed\" type=\"button\" data-bs-toggle=\"collapse\" data-bs-target=\"#faq-content-109\">NATO’S CONCEPT FOR THE DETERRENCE AND DEFENCE OF THE EURO-ATLANTIC AREA</button></h3><div id=\"faq-content-109\" class=\"accordion-collapse collapse\" data-bs-parent=\"#faqlist\"><div class=\"accordion-body\"><p>Author: <strong>Brigadier-General Jay Janzen</strong></p><a href=\"https://journals.lib.sfu.ca/index.php/jicw/article/view/5174\" target=\"_blank\" class=\"btn-get-started\">Access publication</a></div></div> </div><!-- # Faq item-->\n",
      "<div class=\"accordion-item\"><h3 class=\"accordion-header\"><button class=\"accordion-button collapsed\" type=\"button\" data-bs-toggle=\"collapse\" data-bs-target=\"#faq-content-164\">MAD* Beyond Defence : *Methodology for Assessing Disruptions\n",
      "</button></h3><div id=\"faq-content-164\" class=\"accordion-collapse collapse\" data-bs-parent=\"#faqlist\"><div class=\"accordion-body\"><p>Author: <strong>Dr. Gitanjali Adlakha-Hutcheon</strong></p><a href=\"https://journals.lib.sfu.ca/index.php/jicw/article/view/5046\" target=\"_blank\" class=\"btn-get-started\">Access publication</a></div></div> </div><!-- # Faq item-->\n"
     ]
    }
   ],
   "source": [
    "for index, row in military_intel.iterrows():\n",
    "    print(build_html(row))"
   ]
  },
  {
   "cell_type": "code",
   "execution_count": 93,
   "id": "48741585",
   "metadata": {
    "collapsed": true
   },
   "outputs": [
    {
     "name": "stdout",
     "output_type": "stream",
     "text": [
      "<div class=\"accordion-item\"><h3 class=\"accordion-header\"><button class=\"accordion-button collapsed\" type=\"button\" data-bs-toggle=\"collapse\" data-bs-target=\"#faq-content-62\">Security and Cyber Intelligence: Where is the Line?</button></h3><div id=\"faq-content-62\" class=\"accordion-collapse collapse\" data-bs-parent=\"#faqlist\"><div class=\"accordion-body\"><p>Author: <strong>Mubin Shaikh </strong></p><a href=\"https://journals.lib.sfu.ca/index.php/jicw/article/view/4339\" target=\"_blank\" class=\"btn-get-started\">Access publication</a></div></div> </div><!-- # Faq item-->\n",
      "<div class=\"accordion-item\"><h3 class=\"accordion-header\"><button class=\"accordion-button collapsed\" type=\"button\" data-bs-toggle=\"collapse\" data-bs-target=\"#faq-content-77\">Canada's Defence Intelligence ToolKit</button></h3><div id=\"faq-content-77\" class=\"accordion-collapse collapse\" data-bs-parent=\"#faqlist\"><div class=\"accordion-body\"><p>Author: <strong>Lane Aker</strong></p><a href=\"https://journals.lib.sfu.ca/index.php/jicw/article/view/5408\" target=\"_blank\" class=\"btn-get-started\">Access publication</a></div></div> </div><!-- # Faq item-->\n",
      "<div class=\"accordion-item\"><h3 class=\"accordion-header\"><button class=\"accordion-button collapsed\" type=\"button\" data-bs-toggle=\"collapse\" data-bs-target=\"#faq-content-81\">PROFESSIONALIZING AND STANDARDIZING INTELLIGENCE PRACTICE IN THE CONTEXT OF NATIONAL SECURITY</button></h3><div id=\"faq-content-81\" class=\"accordion-collapse collapse\" data-bs-parent=\"#faqlist\"><div class=\"accordion-body\"><p>Author: <strong>Roberto Mendoza\n",
      "</strong></p><a href=\"https://journals.lib.sfu.ca/index.php/jicw/article/view/5187\" target=\"_blank\" class=\"btn-get-started\">Access publication</a></div></div> </div><!-- # Faq item-->\n"
     ]
    }
   ],
   "source": [
    "for index, row in intelligence_practice.iterrows():\n",
    "    print(build_html(row))"
   ]
  },
  {
   "cell_type": "code",
   "execution_count": 94,
   "id": "56ead2f1",
   "metadata": {
    "collapsed": true
   },
   "outputs": [
    {
     "name": "stdout",
     "output_type": "stream",
     "text": [
      "<div class=\"accordion-item\"><h3 class=\"accordion-header\"><button class=\"accordion-button collapsed\" type=\"button\" data-bs-toggle=\"collapse\" data-bs-target=\"#faq-content-170\">WHY NATO HAS BECOME A FLASHPOINT WITH RUSSIA IN UKRAINE</button></h3><div id=\"faq-content-170\" class=\"accordion-collapse collapse\" data-bs-parent=\"#faqlist\"><div class=\"accordion-body\"><p>Author: <strong>Dr. Charles Kupchan</strong></p><a href=\"https://journals.lib.sfu.ca/index.php/jicw/article/view/5173\" target=\"_blank\" class=\"btn-get-started\">Access publication</a></div></div> </div><!-- # Faq item-->\n",
      "<div class=\"accordion-item\"><h3 class=\"accordion-header\"><button class=\"accordion-button collapsed\" type=\"button\" data-bs-toggle=\"collapse\" data-bs-target=\"#faq-content-307\">Why is Canada Involved in Mali?</button></h3><div id=\"faq-content-307\" class=\"accordion-collapse collapse\" data-bs-parent=\"#faqlist\"><div class=\"accordion-body\"><p>Author: <strong>Dr. Edward Akuffo</strong></p><a href=\"https://journals.lib.sfu.ca/index.php/jicw/article/view/1064\" target=\"_blank\" class=\"btn-get-started\">Access publication</a></div></div> </div><!-- # Faq item-->\n",
      "<div class=\"accordion-item\"><h3 class=\"accordion-header\"><button class=\"accordion-button collapsed\" type=\"button\" data-bs-toggle=\"collapse\" data-bs-target=\"#faq-content-309\">Canadian Intelligence Operations Overseas</button></h3><div id=\"faq-content-309\" class=\"accordion-collapse collapse\" data-bs-parent=\"#faqlist\"><div class=\"accordion-body\"><p>Author: <strong>Captain Duane Kempton</strong></p><a href=\"https://journals.lib.sfu.ca/index.php/jicw/article/view/962\" target=\"_blank\" class=\"btn-get-started\">Access publication</a></div></div> </div><!-- # Faq item-->\n"
     ]
    }
   ],
   "source": [
    "for index, row in overseas_ops.iterrows():\n",
    "    print(build_html(row))"
   ]
  },
  {
   "cell_type": "code",
   "execution_count": 95,
   "id": "e41af319",
   "metadata": {
    "collapsed": true
   },
   "outputs": [
    {
     "name": "stdout",
     "output_type": "stream",
     "text": [
      "<div class=\"accordion-item\"><h3 class=\"accordion-header\"><button class=\"accordion-button collapsed\" type=\"button\" data-bs-toggle=\"collapse\" data-bs-target=\"#faq-content-88\">Canadian Armed Forces Assistance to Law Enforcement and Civil Authorities</button></h3><div id=\"faq-content-88\" class=\"accordion-collapse collapse\" data-bs-parent=\"#faqlist\"><div class=\"accordion-body\"><p>Author: <strong>Lieutenant Commander Heidi Straarup</strong></p><a href=\"https://journals.lib.sfu.ca/index.php/jicw/article/view/5409\" target=\"_blank\" class=\"btn-get-started\">Access publication</a></div></div> </div><!-- # Faq item-->\n",
      "<div class=\"accordion-item\"><h3 class=\"accordion-header\"><button class=\"accordion-button collapsed\" type=\"button\" data-bs-toggle=\"collapse\" data-bs-target=\"#faq-content-92\">MILITARY POLICE TRAUMA AND MENTAL HEALTH SUPPORT\n",
      "</button></h3><div id=\"faq-content-92\" class=\"accordion-collapse collapse\" data-bs-parent=\"#faqlist\"><div class=\"accordion-body\"><p>Author: <strong>Master Warrant Officer John Palmer</strong></p><a href=\"https://journals.lib.sfu.ca/index.php/jicw/article/view/5198\" target=\"_blank\" class=\"btn-get-started\">Access publication</a></div></div> </div><!-- # Faq item-->\n",
      "<div class=\"accordion-item\"><h3 class=\"accordion-header\"><button class=\"accordion-button collapsed\" type=\"button\" data-bs-toggle=\"collapse\" data-bs-target=\"#faq-content-308\">Why is Canada Involved in Mali?</button></h3><div id=\"faq-content-308\" class=\"accordion-collapse collapse\" data-bs-parent=\"#faqlist\"><div class=\"accordion-body\"><p>Author: <strong>Dr. Edward Akuffo</strong></p><a href=\"https://journals.lib.sfu.ca/index.php/jicw/article/view/1064\" target=\"_blank\" class=\"btn-get-started\">Access publication</a></div></div> </div><!-- # Faq item-->\n",
      "<div class=\"accordion-item\"><h3 class=\"accordion-header\"><button class=\"accordion-button collapsed\" type=\"button\" data-bs-toggle=\"collapse\" data-bs-target=\"#faq-content-310\">Canadian Intelligence Operations Overseas</button></h3><div id=\"faq-content-310\" class=\"accordion-collapse collapse\" data-bs-parent=\"#faqlist\"><div class=\"accordion-body\"><p>Author: <strong>Captain Duane Kempton</strong></p><a href=\"https://journals.lib.sfu.ca/index.php/jicw/article/view/962\" target=\"_blank\" class=\"btn-get-started\">Access publication</a></div></div> </div><!-- # Faq item-->\n",
      "<div class=\"accordion-item\"><h3 class=\"accordion-header\"><button class=\"accordion-button collapsed\" type=\"button\" data-bs-toggle=\"collapse\" data-bs-target=\"#faq-content-324\">Security Cooperation: What Do We Know About Security\n",
      "Assistance?</button></h3><div id=\"faq-content-324\" class=\"accordion-collapse collapse\" data-bs-parent=\"#faqlist\"><div class=\"accordion-body\"><p>Author: <strong>Dr. Jonathan D. Caverley</strong></p><a href=\"https://drive.google.com/drive/folders/16dVzXfhZdgSnIYeCiZbgOVKc-DzYyLR5\" target=\"_blank\" class=\"btn-get-started\">Access publication</a></div></div> </div><!-- # Faq item-->\n"
     ]
    }
   ],
   "source": [
    "for index, row in military_ops.iterrows():\n",
    "    print(build_html(row))"
   ]
  },
  {
   "cell_type": "code",
   "execution_count": 96,
   "id": "dd42ab73",
   "metadata": {
    "collapsed": true
   },
   "outputs": [
    {
     "name": "stdout",
     "output_type": "stream",
     "text": [
      "<div class=\"accordion-item\"><h3 class=\"accordion-header\"><button class=\"accordion-button collapsed\" type=\"button\" data-bs-toggle=\"collapse\" data-bs-target=\"#faq-content-6\">Violent Transnational Social Movements and their Impact on Contemporary Social Conflict</button></h3><div id=\"faq-content-6\" class=\"accordion-collapse collapse\" data-bs-parent=\"#faqlist\"><div class=\"accordion-body\"><p>Author: <strong>Candyce Kelshall</strong></p><a href=\"https://journals.lib.sfu.ca/index.php/jicw/article/view/840\" target=\"_blank\" class=\"btn-get-started\">Access publication</a></div></div> </div><!-- # Faq item-->\n",
      "<div class=\"accordion-item\"><h3 class=\"accordion-header\"><button class=\"accordion-button collapsed\" type=\"button\" data-bs-toggle=\"collapse\" data-bs-target=\"#faq-content-8\">Soft Violence, Social Radicalisation, and Violent Transnational Social Movements (VTSMs)</button></h3><div id=\"faq-content-8\" class=\"accordion-collapse collapse\" data-bs-parent=\"#faqlist\"><div class=\"accordion-body\"><p>Author: <strong>Candyce Kelshall</strong></p><a href=\"https://journals.lib.sfu.ca/index.php/jicw/article/view/2800\" target=\"_blank\" class=\"btn-get-started\">Access publication</a></div></div> </div><!-- # Faq item-->\n",
      "<div class=\"accordion-item\"><h3 class=\"accordion-header\"><button class=\"accordion-button collapsed\" type=\"button\" data-bs-toggle=\"collapse\" data-bs-target=\"#faq-content-13\">Identity Exclusive Violent Transnational Social Movements and 5th Generation Civic Warfare</button></h3><div id=\"faq-content-13\" class=\"accordion-collapse collapse\" data-bs-parent=\"#faqlist\"><div class=\"accordion-body\"><p>Author: <strong>Candyce Kelshall</strong></p><a href=\"https://journals.lib.sfu.ca/index.php/jicw/article/view/4172 \" target=\"_blank\" class=\"btn-get-started\">Access publication</a></div></div> </div><!-- # Faq item-->\n",
      "<div class=\"accordion-item\"><h3 class=\"accordion-header\"><button class=\"accordion-button collapsed\" type=\"button\" data-bs-toggle=\"collapse\" data-bs-target=\"#faq-content-177\">MILITANT ACCELERATIONISM</button></h3><div id=\"faq-content-177\" class=\"accordion-collapse collapse\" data-bs-parent=\"#faqlist\"><div class=\"accordion-body\"><p>Author: <strong>Matt Kriner\n",
      "</strong></p><a href=\"https://journals.lib.sfu.ca/index.php/jicw/article/view/5195\" target=\"_blank\" class=\"btn-get-started\">Access publication</a></div></div> </div><!-- # Faq item-->\n",
      "<div class=\"accordion-item\"><h3 class=\"accordion-header\"><button class=\"accordion-button collapsed\" type=\"button\" data-bs-toggle=\"collapse\" data-bs-target=\"#faq-content-215\">Kekistanis and the Meme War on Social Media</button></h3><div id=\"faq-content-215\" class=\"accordion-collapse collapse\" data-bs-parent=\"#faqlist\"><div class=\"accordion-body\"><p>Author: <strong>Dr. Ahmed Al-Rawi</strong></p><a href=\"https://journals.lib.sfu.ca/index.php/jicw/article/view/2360\" target=\"_blank\" class=\"btn-get-started\">Access publication</a></div></div> </div><!-- # Faq item-->\n",
      "<div class=\"accordion-item\"><h3 class=\"accordion-header\"><button class=\"accordion-button collapsed\" type=\"button\" data-bs-toggle=\"collapse\" data-bs-target=\"#faq-content-240\">Predicting the Escalation to Violence of Online Hate Groups</button></h3><div id=\"faq-content-240\" class=\"accordion-collapse collapse\" data-bs-parent=\"#faqlist\"><div class=\"accordion-body\"><p>Author: <strong>Natalie Archutowski</strong></p><a href=\"https://journals.lib.sfu.ca/index.php/jicw/article/view/4191\" target=\"_blank\" class=\"btn-get-started\">Access publication</a></div></div> </div><!-- # Faq item-->\n",
      "<div class=\"accordion-item\"><h3 class=\"accordion-header\"><button class=\"accordion-button collapsed\" type=\"button\" data-bs-toggle=\"collapse\" data-bs-target=\"#faq-content-249\">Memes, viruses, and violence: A nation guide to managing contagious threats</button></h3><div id=\"faq-content-249\" class=\"accordion-collapse collapse\" data-bs-parent=\"#faqlist\"><div class=\"accordion-body\"><p>Author: <strong>Dr. Joel Finkelstein</strong></p><a href=\"https://journals.lib.sfu.ca/index.php/jicw/article/view/4250\" target=\"_blank\" class=\"btn-get-started\">Access publication</a></div></div> </div><!-- # Faq item-->\n"
     ]
    }
   ],
   "source": [
    "for index, row in fiveG.iterrows():\n",
    "    print(build_html(row))"
   ]
  },
  {
   "cell_type": "code",
   "execution_count": 12,
   "id": "80272db6",
   "metadata": {},
   "outputs": [],
   "source": [
    "#Public Safety tags\n",
    "crisis_management = df[df['Tag (ONE ONLY)'] == 'Crisis Management']\n",
    "data_analytics = df[df['Tag (ONE ONLY)'] == 'Data Analytics']\n",
    "critical_infra = df[df['Tag (ONE ONLY)'] == 'Critical Infrastructure']\n",
    "supply_chain = df[df['Tag (ONE ONLY)'] == 'Supply Chain Security']\n",
    "food_sec = df[df['Tag (ONE ONLY)'] == 'Food Security']\n",
    "artic_sec = df[df['Tag (ONE ONLY)'] == 'Arctic Security']\n",
    "vtsm = df[df['Tag (ONE ONLY)'] == 'Violent Transnational Social Movements (VTSM)']\n",
    "democratic_preservation = df[df['Tag (ONE ONLY)'] == 'Democratic Preservation']\n",
    "foreign_interface = df[df['Tag (ONE ONLY)'] == 'Foreign Interference']\n",
    "info_integrity = df[df['Tag (ONE ONLY)'] == 'Information Integrity']\n",
    "national_regional_sec = df[df['Tag (ONE ONLY)'] == 'National and Regional Security']\n",
    "disruptors = df[df['Tag (ONE ONLY)'] == 'Disruptors']\n",
    "\n",
    "public_safety = [\n",
    "    crisis_management,\n",
    "    data_analytics,\n",
    "    critical_infra,\n",
    "    supply_chain,\n",
    "    food_sec,\n",
    "    artic_sec,\n",
    "    vtsm,\n",
    "    democratic_preservation,\n",
    "    foreign_interface,\n",
    "    info_integrity,\n",
    "    national_regional_sec,\n",
    "    disruptors\n",
    "]"
   ]
  },
  {
   "cell_type": "code",
   "execution_count": 15,
   "id": "c83b9282",
   "metadata": {},
   "outputs": [
    {
     "name": "stdout",
     "output_type": "stream",
     "text": [
      "<div class=\"accordion-item\"><h3 class=\"accordion-header\"><button class=\"accordion-button collapsed\" type=\"button\" data-bs-toggle=\"collapse\" data-bs-target=\"#faq-content-31\">Asymmetric Attack: A Quantum of Warning</button></h3><div id=\"faq-content-31\" class=\"accordion-collapse collapse\" data-bs-parent=\"#faqlist\"><div class=\"accordion-body\"><p>Author: <strong>Alexander Butterfield</strong></p><a href=\"https://journals.lib.sfu.ca/index.php/jicw/article/view/41533\" target=\"_blank\" class=\"btn-get-started\">Access publication</a></div></div> </div><!-- # Faq item-->\n",
      "<div class=\"accordion-item\"><h3 class=\"accordion-header\"><button class=\"accordion-button collapsed\" type=\"button\" data-bs-toggle=\"collapse\" data-bs-target=\"#faq-content-137\">POLICING DURING CRISES AND IN AN ERA OF NEW CHALLENGES</button></h3><div id=\"faq-content-137\" class=\"accordion-collapse collapse\" data-bs-parent=\"#faqlist\"><div class=\"accordion-body\"><p>Author: <strong>Chief Constable Del Manak </strong></p><a href=\"https://journals.lib.sfu.ca/index.php/jicw/article/view/5205\" target=\"_blank\" class=\"btn-get-started\">Access publication</a></div></div> </div><!-- # Faq item-->\n",
      "<div class=\"accordion-item\"><h3 class=\"accordion-header\"><button class=\"accordion-button collapsed\" type=\"button\" data-bs-toggle=\"collapse\" data-bs-target=\"#faq-content-178\">RESPONDING TO CRISES: STRATEGIES FOR LAW ENFORCEMENT WHEN ASSISTING CITIZENS IN CRISIS\n",
      "</button></h3><div id=\"faq-content-178\" class=\"accordion-collapse collapse\" data-bs-parent=\"#faqlist\"><div class=\"accordion-body\"><p>Author: <strong>Dr. Dara Rampersad</strong></p><a href=\"https://journals.lib.sfu.ca/index.php/jicw/article/view/5197\" target=\"_blank\" class=\"btn-get-started\">Access publication</a></div></div> </div><!-- # Faq item-->\n"
     ]
    }
   ],
   "source": [
    "for index, row in crisis_management.iterrows():\n",
    "    print(build_html(row))"
   ]
  },
  {
   "cell_type": "code",
   "execution_count": 14,
   "id": "5668f67f",
   "metadata": {},
   "outputs": [
    {
     "name": "stdout",
     "output_type": "stream",
     "text": [
      "<div class=\"accordion-item\"><h3 class=\"accordion-header\"><button class=\"accordion-button collapsed\" type=\"button\" data-bs-toggle=\"collapse\" data-bs-target=\"#faq-content-128\">DATA & INFRASTRUCTURE SECURITY: THE RISK OF AI ENABLED CYBER ATTACKS AND QUANTUM HACKING</button></h3><div id=\"faq-content-128\" class=\"accordion-collapse collapse\" data-bs-parent=\"#faqlist\"><div class=\"accordion-body\"><p>Author: <strong>Dr. Ryan Prox</strong></p><a href=\"https://journals.lib.sfu.ca/index.php/jicw/article/view/5179\" target=\"_blank\" class=\"btn-get-started\">Access publication</a></div></div> </div><!-- # Faq item-->\n",
      "<div class=\"accordion-item\"><h3 class=\"accordion-header\"><button class=\"accordion-button collapsed\" type=\"button\" data-bs-toggle=\"collapse\" data-bs-target=\"#faq-content-173\">CANADIAN ENERGY SECURITY\n",
      "</button></h3><div id=\"faq-content-173\" class=\"accordion-collapse collapse\" data-bs-parent=\"#faqlist\"><div class=\"accordion-body\"><p>Author: <strong>Jackie Forrest</strong></p><a href=\"https://journals.lib.sfu.ca/index.php/jicw/article/view/5178\" target=\"_blank\" class=\"btn-get-started\">Access publication</a></div></div> </div><!-- # Faq item-->\n",
      "<div class=\"accordion-item\"><h3 class=\"accordion-header\"><button class=\"accordion-button collapsed\" type=\"button\" data-bs-toggle=\"collapse\" data-bs-target=\"#faq-content-264\">Canada's Energy Security in the Context of Global Instability</button></h3><div id=\"faq-content-264\" class=\"accordion-collapse collapse\" data-bs-parent=\"#faqlist\"><div class=\"accordion-body\"><p>Author: <strong>Peter Tertzakian</strong></p><a href=\"https://journals.lib.sfu.ca/index.php/jicw/article/view/5047\" target=\"_blank\" class=\"btn-get-started\">Access publication</a></div></div> </div><!-- # Faq item-->\n",
      "<div class=\"accordion-item\"><h3 class=\"accordion-header\"><button class=\"accordion-button collapsed\" type=\"button\" data-bs-toggle=\"collapse\" data-bs-target=\"#faq-content-305\">Water Security as an Emergent Opportunity in Canada</button></h3><div id=\"faq-content-305\" class=\"accordion-collapse collapse\" data-bs-parent=\"#faqlist\"><div class=\"accordion-body\"><p>Author: <strong>Dr. Zafar Adeel</strong></p><a href=\"https://journals.lib.sfu.ca/index.php/jicw/article/view/1063 \" target=\"_blank\" class=\"btn-get-started\">Access publication</a></div></div> </div><!-- # Faq item-->\n"
     ]
    }
   ],
   "source": [
    "for index, row in critical_infra.iterrows():\n",
    "    print(build_html(row))"
   ]
  },
  {
   "cell_type": "code",
   "execution_count": 11,
   "id": "929c12ea",
   "metadata": {
    "collapsed": true
   },
   "outputs": [
    {
     "name": "stdout",
     "output_type": "stream",
     "text": [
      "<div class=\"accordion-item\"><h3 class=\"accordion-header\"><button class=\"accordion-button collapsed\" type=\"button\" data-bs-toggle=\"collapse\" data-bs-target=\"#faq-content-100\">Leading in a Data Centric Society</button></h3><div id=\"faq-content-100\" class=\"accordion-collapse collapse\" data-bs-parent=\"#faqlist\"><div class=\"accordion-body\"><p>Author: <strong>Lieutenant Colonel Vincent Virk</strong></p><a href=\"https://journals.lib.sfu.ca/index.php/jicw/article/view/2529\" target=\"_blank\" class=\"btn-get-started\">Access publication</a></div></div> </div><!-- # Faq item-->\n",
      "<div class=\"accordion-item\"><h3 class=\"accordion-header\"><button class=\"accordion-button collapsed\" type=\"button\" data-bs-toggle=\"collapse\" data-bs-target=\"#faq-content-131\">DATA & INFRASTRUCTURE SECURITY: THE RISK OF AI ENABLED CYBER ATTACKS AND QUANTUM HACKING</button></h3><div id=\"faq-content-131\" class=\"accordion-collapse collapse\" data-bs-parent=\"#faqlist\"><div class=\"accordion-body\"><p>Author: <strong>Dr. Ryan Prox</strong></p><a href=\"https://journals.lib.sfu.ca/index.php/jicw/article/view/5179\" target=\"_blank\" class=\"btn-get-started\">Access publication</a></div></div> </div><!-- # Faq item-->\n",
      "<div class=\"accordion-item\"><h3 class=\"accordion-header\"><button class=\"accordion-button collapsed\" type=\"button\" data-bs-toggle=\"collapse\" data-bs-target=\"#faq-content-145\">Policing in the 21st Century\n",
      "</button></h3><div id=\"faq-content-145\" class=\"accordion-collapse collapse\" data-bs-parent=\"#faqlist\"><div class=\"accordion-body\"><p>Author: <strong>Assistant Commissioner Dwayne McDonald</strong></p><a href=\"https://journals.lib.sfu.ca/index.php/jicw/article/view/27699\" target=\"_blank\" class=\"btn-get-started\">Access publication</a></div></div> </div><!-- # Faq item-->\n",
      "<div class=\"accordion-item\"><h3 class=\"accordion-header\"><button class=\"accordion-button collapsed\" type=\"button\" data-bs-toggle=\"collapse\" data-bs-target=\"#faq-content-154\">CYBER SECURITY, DATA PROTECTION, AND PRIVACY IN A CONTESTED GEO-POLITICAL ENVIRONMENT\n",
      "</button></h3><div id=\"faq-content-154\" class=\"accordion-collapse collapse\" data-bs-parent=\"#faqlist\"><div class=\"accordion-body\"><p>Author: <strong>Aaron Shull\n",
      "</strong></p><a href=\"https://journals.lib.sfu.ca/index.php/jicw/article/view/5214\" target=\"_blank\" class=\"btn-get-started\">Access publication</a></div></div> </div><!-- # Faq item-->\n",
      "<div class=\"accordion-item\"><h3 class=\"accordion-header\"><button class=\"accordion-button collapsed\" type=\"button\" data-bs-toggle=\"collapse\" data-bs-target=\"#faq-content-295\">Big Data Surveillance: Privacy and Trust Implications</button></h3><div id=\"faq-content-295\" class=\"accordion-collapse collapse\" data-bs-parent=\"#faqlist\"><div class=\"accordion-body\"><p>Author: <strong>Dr. Valerie Steeves</strong></p><a href=\"https://journals.lib.sfu.ca/index.php/jicw/article/view/3751\" target=\"_blank\" class=\"btn-get-started\">Access publication</a></div></div> </div><!-- # Faq item-->\n",
      "<div class=\"accordion-item\"><h3 class=\"accordion-header\"><button class=\"accordion-button collapsed\" type=\"button\" data-bs-toggle=\"collapse\" data-bs-target=\"#faq-content-296\">Data Analytics and Security Policy: The New Paradigm?</button></h3><div id=\"faq-content-296\" class=\"accordion-collapse collapse\" data-bs-parent=\"#faqlist\"><div class=\"accordion-body\"><p>Author: <strong>Mark Masongsong</strong></p><a href=\"https://journals.lib.sfu.ca/index.php/jicw/article/view/2357\" target=\"_blank\" class=\"btn-get-started\">Access publication</a></div></div> </div><!-- # Faq item-->\n",
      "<div class=\"accordion-item\"><h3 class=\"accordion-header\"><button class=\"accordion-button collapsed\" type=\"button\" data-bs-toggle=\"collapse\" data-bs-target=\"#faq-content-297\">Data Analytics and Public Safety</button></h3><div id=\"faq-content-297\" class=\"accordion-collapse collapse\" data-bs-parent=\"#faqlist\"><div class=\"accordion-body\"><p>Author: <strong>Mark Masongsong</strong></p><a href=\"https://journals.lib.sfu.ca/index.php/jicw/article/view/2530 \" target=\"_blank\" class=\"btn-get-started\">Access publication</a></div></div> </div><!-- # Faq item-->\n",
      "<div class=\"accordion-item\"><h3 class=\"accordion-header\"><button class=\"accordion-button collapsed\" type=\"button\" data-bs-toggle=\"collapse\" data-bs-target=\"#faq-content-298\">UNCONVENTIONAL DATA USAGE FOR THREAT RESILIENCE: A CASE STUDY</button></h3><div id=\"faq-content-298\" class=\"accordion-collapse collapse\" data-bs-parent=\"#faqlist\"><div class=\"accordion-body\"><p>Author: <strong>Mark Masongsong</strong></p><a href=\"https://journals.lib.sfu.ca/index.php/jicw/article/view/5213\" target=\"_blank\" class=\"btn-get-started\">Access publication</a></div></div> </div><!-- # Faq item-->\n",
      "<div class=\"accordion-item\"><h3 class=\"accordion-header\"><button class=\"accordion-button collapsed\" type=\"button\" data-bs-toggle=\"collapse\" data-bs-target=\"#faq-content-320\">Separating the nice from the nasty: Constructive and toxic comments online</button></h3><div id=\"faq-content-320\" class=\"accordion-collapse collapse\" data-bs-parent=\"#faqlist\"><div class=\"accordion-body\"><p>Author: <strong>Dr. Maite Taboada</strong></p><a href=\"https://drive.google.com/drive/folders/1u_ebyGI7-IsvE256dd57myU1hdkc8LvY\" target=\"_blank\" class=\"btn-get-started\">Access publication</a></div></div> </div><!-- # Faq item-->\n",
      "<div class=\"accordion-item\"><h3 class=\"accordion-header\"><button class=\"accordion-button collapsed\" type=\"button\" data-bs-toggle=\"collapse\" data-bs-target=\"#faq-content-327\">Data is Dangerous: Comparing the Risks that the United States, Canada and Germany See in Data Troves</button></h3><div id=\"faq-content-327\" class=\"accordion-collapse collapse\" data-bs-parent=\"#faqlist\"><div class=\"accordion-body\"><p>Author: <strong>Dr. Susan Aaronson</strong></p><a href=\"https://drive.google.com/drive/folders/1J3wVxSQ-EpkjuKp-vjW2PZejT46Jq7Lb\" target=\"_blank\" class=\"btn-get-started\">Access publication</a></div></div> </div><!-- # Faq item-->\n"
     ]
    }
   ],
   "source": [
    "for index, row in data_analytics.iterrows():\n",
    "    print(build_html(row))"
   ]
  },
  {
   "cell_type": "code",
   "execution_count": 12,
   "id": "d43e3dd5",
   "metadata": {
    "collapsed": true
   },
   "outputs": [
    {
     "name": "stdout",
     "output_type": "stream",
     "text": [
      "<div class=\"accordion-item\"><h3 class=\"accordion-header\"><button class=\"accordion-button collapsed\" type=\"button\" data-bs-toggle=\"collapse\" data-bs-target=\"#faq-content-171\">CANADIAN ENERGY SECURITY\n",
      "</button></h3><div id=\"faq-content-171\" class=\"accordion-collapse collapse\" data-bs-parent=\"#faqlist\"><div class=\"accordion-body\"><p>Author: <strong>Jackie Forrest</strong></p><a href=\"https://journals.lib.sfu.ca/index.php/jicw/article/view/5178\" target=\"_blank\" class=\"btn-get-started\">Access publication</a></div></div> </div><!-- # Faq item-->\n",
      "<div class=\"accordion-item\"><h3 class=\"accordion-header\"><button class=\"accordion-button collapsed\" type=\"button\" data-bs-toggle=\"collapse\" data-bs-target=\"#faq-content-262\">Canada's Energy Security in the Context of Global Instability</button></h3><div id=\"faq-content-262\" class=\"accordion-collapse collapse\" data-bs-parent=\"#faqlist\"><div class=\"accordion-body\"><p>Author: <strong>Peter Tertzakian</strong></p><a href=\"https://journals.lib.sfu.ca/index.php/jicw/article/view/5047\" target=\"_blank\" class=\"btn-get-started\">Access publication</a></div></div> </div><!-- # Faq item-->\n",
      "<div class=\"accordion-item\"><h3 class=\"accordion-header\"><button class=\"accordion-button collapsed\" type=\"button\" data-bs-toggle=\"collapse\" data-bs-target=\"#faq-content-306\">Water Security as an Emergent Opportunity in Canada</button></h3><div id=\"faq-content-306\" class=\"accordion-collapse collapse\" data-bs-parent=\"#faqlist\"><div class=\"accordion-body\"><p>Author: <strong>Dr. Zafar Adeel</strong></p><a href=\"https://journals.lib.sfu.ca/index.php/jicw/article/view/1063 \" target=\"_blank\" class=\"btn-get-started\">Access publication</a></div></div> </div><!-- # Faq item-->\n"
     ]
    }
   ],
   "source": [
    "for index, row in supply_chain.iterrows():\n",
    "    print(build_html(row))"
   ]
  },
  {
   "cell_type": "code",
   "execution_count": 14,
   "id": "9bbef3bc",
   "metadata": {},
   "outputs": [],
   "source": [
    "for index, row in food_sec.iterrows():\n",
    "    print(build_html(row))"
   ]
  },
  {
   "cell_type": "code",
   "execution_count": 9,
   "id": "3ef6d129",
   "metadata": {},
   "outputs": [
    {
     "name": "stdout",
     "output_type": "stream",
     "text": [
      "<div class=\"accordion-item\"><h3 class=\"accordion-header\"><button class=\"accordion-button collapsed\" type=\"button\" data-bs-toggle=\"collapse\" data-bs-target=\"#faq-content-194\">Arctic Security and Defence in a Competitive World</button></h3><div id=\"faq-content-194\" class=\"accordion-collapse collapse\" data-bs-parent=\"#faqlist\"><div class=\"accordion-body\"><p>Author: <strong>Dr. Andrea Charron</strong></p><a href=\"https://journals.lib.sfu.ca/index.php/jicw/article/view/4154\" target=\"_blank\" class=\"btn-get-started\">Access publication</a></div></div> </div><!-- # Faq item-->\n",
      "<div class=\"accordion-item\"><h3 class=\"accordion-header\"><button class=\"accordion-button collapsed\" type=\"button\" data-bs-toggle=\"collapse\" data-bs-target=\"#faq-content-253\">Canadian American Solutions to the Questions of Arctic Security</button></h3><div id=\"faq-content-253\" class=\"accordion-collapse collapse\" data-bs-parent=\"#faqlist\"><div class=\"accordion-body\"><p>Author: <strong>Dr. Robert Huebert</strong></p><a href=\"https://journals.lib.sfu.ca/index.php/jicw/article/view/4200\" target=\"_blank\" class=\"btn-get-started\">Access publication</a></div></div> </div><!-- # Faq item-->\n",
      "<div class=\"accordion-item\"><h3 class=\"accordion-header\"><button class=\"accordion-button collapsed\" type=\"button\" data-bs-toggle=\"collapse\" data-bs-target=\"#faq-content-255\">Health security, environmental security, and hard security in the Arctic: A complex relationship</button></h3><div id=\"faq-content-255\" class=\"accordion-collapse collapse\" data-bs-parent=\"#faqlist\"><div class=\"accordion-body\"><p>Author: <strong>Dr. Robert Huebert</strong></p><a href=\"https://journals.lib.sfu.ca/index.php/jicw/article/view/4267\" target=\"_blank\" class=\"btn-get-started\">Access publication</a></div></div> </div><!-- # Faq item-->\n"
     ]
    }
   ],
   "source": [
    "for index, row in artic_sec.iterrows():\n",
    "    print(build_html(row))"
   ]
  },
  {
   "cell_type": "code",
   "execution_count": 20,
   "id": "7e279cb9",
   "metadata": {
    "collapsed": true
   },
   "outputs": [
    {
     "name": "stdout",
     "output_type": "stream",
     "text": [
      "<div class=\"accordion-item\"><h3 class=\"accordion-header\"><button class=\"accordion-button collapsed\" type=\"button\" data-bs-toggle=\"collapse\" data-bs-target=\"#faq-content-3\">Violent Transnational Social Movements and their Impact on Contemporary Social Conflict</button></h3><div id=\"faq-content-3\" class=\"accordion-collapse collapse\" data-bs-parent=\"#faqlist\"><div class=\"accordion-body\"><p>Author: <strong>Candyce Kelshall</strong></p><a href=\"https://journals.lib.sfu.ca/index.php/jicw/article/view/840\" target=\"_blank\" class=\"btn-get-started\">Access publication</a></div></div> </div><!-- # Faq item-->\n",
      "<div class=\"accordion-item\"><h3 class=\"accordion-header\"><button class=\"accordion-button collapsed\" type=\"button\" data-bs-toggle=\"collapse\" data-bs-target=\"#faq-content-9\">Soft Violence, Social Radicalisation, and Violent Transnational Social Movements (VTSMs)</button></h3><div id=\"faq-content-9\" class=\"accordion-collapse collapse\" data-bs-parent=\"#faqlist\"><div class=\"accordion-body\"><p>Author: <strong>Candyce Kelshall</strong></p><a href=\"https://journals.lib.sfu.ca/index.php/jicw/article/view/2800\" target=\"_blank\" class=\"btn-get-started\">Access publication</a></div></div> </div><!-- # Faq item-->\n",
      "<div class=\"accordion-item\"><h3 class=\"accordion-header\"><button class=\"accordion-button collapsed\" type=\"button\" data-bs-toggle=\"collapse\" data-bs-target=\"#faq-content-12\">Concept of Soft Violence in Critical Security Studies</button></h3><div id=\"faq-content-12\" class=\"accordion-collapse collapse\" data-bs-parent=\"#faqlist\"><div class=\"accordion-body\"><p>Author: <strong>Candyce Kelshall</strong></p><a href=\"https://journals.lib.sfu.ca/index.php/jicw/article/view/3755\" target=\"_blank\" class=\"btn-get-started\">Access publication</a></div></div> </div><!-- # Faq item-->\n",
      "<div class=\"accordion-item\"><h3 class=\"accordion-header\"><button class=\"accordion-button collapsed\" type=\"button\" data-bs-toggle=\"collapse\" data-bs-target=\"#faq-content-14\">Identity Exclusive Violent Transnational Social Movements and 5th Generation Civic Warfare</button></h3><div id=\"faq-content-14\" class=\"accordion-collapse collapse\" data-bs-parent=\"#faqlist\"><div class=\"accordion-body\"><p>Author: <strong>Candyce Kelshall</strong></p><a href=\"https://journals.lib.sfu.ca/index.php/jicw/article/view/4172 \" target=\"_blank\" class=\"btn-get-started\">Access publication</a></div></div> </div><!-- # Faq item-->\n",
      "<div class=\"accordion-item\"><h3 class=\"accordion-header\"><button class=\"accordion-button collapsed\" type=\"button\" data-bs-toggle=\"collapse\" data-bs-target=\"#faq-content-72\">Radicalization Convoy: Concerns Of Domestic Extremism In Canada</button></h3><div id=\"faq-content-72\" class=\"accordion-collapse collapse\" data-bs-parent=\"#faqlist\"><div class=\"accordion-body\"><p>Author: <strong>Mubin Shaikh </strong></p><a href=\"https://journals.lib.sfu.ca/index.php/jicw/article/view/5404\" target=\"_blank\" class=\"btn-get-started\">Access publication</a></div></div> </div><!-- # Faq item-->\n",
      "<div class=\"accordion-item\"><h3 class=\"accordion-header\"><button class=\"accordion-button collapsed\" type=\"button\" data-bs-toggle=\"collapse\" data-bs-target=\"#faq-content-216\">Kekistanis and the Meme War on Social Media</button></h3><div id=\"faq-content-216\" class=\"accordion-collapse collapse\" data-bs-parent=\"#faqlist\"><div class=\"accordion-body\"><p>Author: <strong>Dr. Ahmed Al-Rawi</strong></p><a href=\"https://journals.lib.sfu.ca/index.php/jicw/article/view/2360\" target=\"_blank\" class=\"btn-get-started\">Access publication</a></div></div> </div><!-- # Faq item-->\n",
      "<div class=\"accordion-item\"><h3 class=\"accordion-header\"><button class=\"accordion-button collapsed\" type=\"button\" data-bs-toggle=\"collapse\" data-bs-target=\"#faq-content-242\">Predicting the Escalation to Violence of Online Hate Groups</button></h3><div id=\"faq-content-242\" class=\"accordion-collapse collapse\" data-bs-parent=\"#faqlist\"><div class=\"accordion-body\"><p>Author: <strong>Natalie Archutowski</strong></p><a href=\"https://journals.lib.sfu.ca/index.php/jicw/article/view/4191\" target=\"_blank\" class=\"btn-get-started\">Access publication</a></div></div> </div><!-- # Faq item-->\n",
      "<div class=\"accordion-item\"><h3 class=\"accordion-header\"><button class=\"accordion-button collapsed\" type=\"button\" data-bs-toggle=\"collapse\" data-bs-target=\"#faq-content-251\">Memes, viruses, and violence: A nation guide to managing contagious threats</button></h3><div id=\"faq-content-251\" class=\"accordion-collapse collapse\" data-bs-parent=\"#faqlist\"><div class=\"accordion-body\"><p>Author: <strong>Dr. Joel Finkelstein</strong></p><a href=\"https://journals.lib.sfu.ca/index.php/jicw/article/view/4250\" target=\"_blank\" class=\"btn-get-started\">Access publication</a></div></div> </div><!-- # Faq item-->\n",
      "<div class=\"accordion-item\"><h3 class=\"accordion-header\"><button class=\"accordion-button collapsed\" type=\"button\" data-bs-toggle=\"collapse\" data-bs-target=\"#faq-content-274\">Anti-Authority and Militia Movements in Canada</button></h3><div id=\"faq-content-274\" class=\"accordion-collapse collapse\" data-bs-parent=\"#faqlist\"><div class=\"accordion-body\"><p>Author: <strong>Dr. Barbara Perry</strong></p><a href=\"https://journals.lib.sfu.ca/index.php/jicw/article/view/822 \" target=\"_blank\" class=\"btn-get-started\">Access publication</a></div></div> </div><!-- # Faq item-->\n"
     ]
    }
   ],
   "source": [
    "for index, row in vtsm.iterrows():\n",
    "    print(build_html(row))"
   ]
  },
  {
   "cell_type": "code",
   "execution_count": 16,
   "id": "cc34b22d",
   "metadata": {},
   "outputs": [
    {
     "name": "stdout",
     "output_type": "stream",
     "text": [
      "<div class=\"accordion-item\"><h3 class=\"accordion-header\"><button class=\"accordion-button collapsed\" type=\"button\" data-bs-toggle=\"collapse\" data-bs-target=\"#faq-content-52\">Path to Violence</button></h3><div id=\"faq-content-52\" class=\"accordion-collapse collapse\" data-bs-parent=\"#faqlist\"><div class=\"accordion-body\"><p>Author: <strong>John Pyrik</strong></p><a href=\"https://journals.lib.sfu.ca/index.php/jicw/article/view/1189\" target=\"_blank\" class=\"btn-get-started\">Access publication</a></div></div> </div><!-- # Faq item-->\n",
      "<div class=\"accordion-item\"><h3 class=\"accordion-header\"><button class=\"accordion-button collapsed\" type=\"button\" data-bs-toggle=\"collapse\" data-bs-target=\"#faq-content-53\">Information Power and Russia’s National Security Objectives </button></h3><div id=\"faq-content-53\" class=\"accordion-collapse collapse\" data-bs-parent=\"#faqlist\"><div class=\"accordion-body\"><p>Author: <strong>Kevin Riehle</strong></p><a href=\"https://journals.lib.sfu.ca/index.php/jicw/article/view/3791\" target=\"_blank\" class=\"btn-get-started\">Access publication</a></div></div> </div><!-- # Faq item-->\n",
      "<div class=\"accordion-item\"><h3 class=\"accordion-header\"><button class=\"accordion-button collapsed\" type=\"button\" data-bs-toggle=\"collapse\" data-bs-target=\"#faq-content-233\">DEADLY DISINFORMATION: LGBTQ CONTAGION NARRATIVES AS RADICALIZING DISINFORMATION IN RUSSIAN PROPAGANDA</button></h3><div id=\"faq-content-233\" class=\"accordion-collapse collapse\" data-bs-parent=\"#faqlist\"><div class=\"accordion-body\"><p>Author: <strong>Dr. Sophia Moskalenko</strong></p><a href=\"https://journals.lib.sfu.ca/index.php/jicw/article/view/5171\" target=\"_blank\" class=\"btn-get-started\">Access publication</a></div></div> </div><!-- # Faq item-->\n",
      "<div class=\"accordion-item\"><h3 class=\"accordion-header\"><button class=\"accordion-button collapsed\" type=\"button\" data-bs-toggle=\"collapse\" data-bs-target=\"#faq-content-244\">The Implications of the Wagner group in Africa and the Middle East</button></h3><div id=\"faq-content-244\" class=\"accordion-collapse collapse\" data-bs-parent=\"#faqlist\"><div class=\"accordion-body\"><p>Author: <strong>Royce de Melo</strong></p><a href=\"https://journals.lib.sfu.ca/index.php/jicw/article/view/5405\" target=\"_blank\" class=\"btn-get-started\">Access publication</a></div></div> </div><!-- # Faq item-->\n",
      "<div class=\"accordion-item\"><h3 class=\"accordion-header\"><button class=\"accordion-button collapsed\" type=\"button\" data-bs-toggle=\"collapse\" data-bs-target=\"#faq-content-259\">Malign Influence Operations in Narrative Warfare</button></h3><div id=\"faq-content-259\" class=\"accordion-collapse collapse\" data-bs-parent=\"#faqlist\"><div class=\"accordion-body\"><p>Author: <strong>John Daniele</strong></p><a href=\"https://journals.lib.sfu.ca/index.php/jicw/article/view/5042\" target=\"_blank\" class=\"btn-get-started\">Access publication</a></div></div> </div><!-- # Faq item-->\n"
     ]
    }
   ],
   "source": [
    "for index, row in foreign_interface.iterrows():\n",
    "    print(build_html(row))"
   ]
  },
  {
   "cell_type": "code",
   "execution_count": 21,
   "id": "9cd1a10e",
   "metadata": {
    "collapsed": true
   },
   "outputs": [
    {
     "name": "stdout",
     "output_type": "stream",
     "text": [
      "<div class=\"accordion-item\"><h3 class=\"accordion-header\"><button class=\"accordion-button collapsed\" type=\"button\" data-bs-toggle=\"collapse\" data-bs-target=\"#faq-content-16\">DISRUPTION: HIDING IN PLAIN SIGHT</button></h3><div id=\"faq-content-16\" class=\"accordion-collapse collapse\" data-bs-parent=\"#faqlist\"><div class=\"accordion-body\"><p>Author: <strong>Candyce Kelshall</strong></p><a href=\"https://journals.lib.sfu.ca/index.php/jicw/article/view/5175\" target=\"_blank\" class=\"btn-get-started\">Access publication</a></div></div> </div><!-- # Faq item-->\n",
      "<div class=\"accordion-item\"><h3 class=\"accordion-header\"><button class=\"accordion-button collapsed\" type=\"button\" data-bs-toggle=\"collapse\" data-bs-target=\"#faq-content-196\">Hate Speech In Canada: A New Democratic Threat Requiring Policy Incentives</button></h3><div id=\"faq-content-196\" class=\"accordion-collapse collapse\" data-bs-parent=\"#faqlist\"><div class=\"accordion-body\"><p>Author: <strong>Dr. Heidi Tworek</strong></p><a href=\"https://journals.lib.sfu.ca/index.php/jicw/article/view/1065\" target=\"_blank\" class=\"btn-get-started\">Access publication</a></div></div> </div><!-- # Faq item-->\n",
      "<div class=\"accordion-item\"><h3 class=\"accordion-header\"><button class=\"accordion-button collapsed\" type=\"button\" data-bs-toggle=\"collapse\" data-bs-target=\"#faq-content-209\">Introduction to special issue - Security and the Centrality of Jurisdiction</button></h3><div id=\"faq-content-209\" class=\"accordion-collapse collapse\" data-bs-parent=\"#faqlist\"><div class=\"accordion-body\"><p>Author: <strong>Dr. Erin Gibbs Van Brunschot</strong></p><a href=\"https://journals.lib.sfu.ca/index.php/jicw/article/view/5129 \" target=\"_blank\" class=\"btn-get-started\">Access publication</a></div></div> </div><!-- # Faq item-->\n",
      "<div class=\"accordion-item\"><h3 class=\"accordion-header\"><button class=\"accordion-button collapsed\" type=\"button\" data-bs-toggle=\"collapse\" data-bs-target=\"#faq-content-210\">Jurisdiction and Security</button></h3><div id=\"faq-content-210\" class=\"accordion-collapse collapse\" data-bs-parent=\"#faqlist\"><div class=\"accordion-body\"><p>Author: <strong>Dr. Erin Gibbs Van Brunschot</strong></p><a href=\"https://journals.lib.sfu.ca/index.php/jicw/article/view/5035\" target=\"_blank\" class=\"btn-get-started\">Access publication</a></div></div> </div><!-- # Faq item-->\n",
      "<div class=\"accordion-item\"><h3 class=\"accordion-header\"><button class=\"accordion-button collapsed\" type=\"button\" data-bs-toggle=\"collapse\" data-bs-target=\"#faq-content-245\">The Implications of the Wagner group in Africa and the Middle East</button></h3><div id=\"faq-content-245\" class=\"accordion-collapse collapse\" data-bs-parent=\"#faqlist\"><div class=\"accordion-body\"><p>Author: <strong>Royce de Melo</strong></p><a href=\"https://journals.lib.sfu.ca/index.php/jicw/article/view/5405\" target=\"_blank\" class=\"btn-get-started\">Access publication</a></div></div> </div><!-- # Faq item-->\n",
      "<div class=\"accordion-item\"><h3 class=\"accordion-header\"><button class=\"accordion-button collapsed\" type=\"button\" data-bs-toggle=\"collapse\" data-bs-target=\"#faq-content-256\">Domestic Russian politics and comparative democratization</button></h3><div id=\"faq-content-256\" class=\"accordion-collapse collapse\" data-bs-parent=\"#faqlist\"><div class=\"accordion-body\"><p>Author: <strong>Dr. Lisa Sundstrom</strong></p><a href=\"https://journals.lib.sfu.ca/index.php/jicw/article/view/4280\" target=\"_blank\" class=\"btn-get-started\">Access publication</a></div></div> </div><!-- # Faq item-->\n",
      "<div class=\"accordion-item\"><h3 class=\"accordion-header\"><button class=\"accordion-button collapsed\" type=\"button\" data-bs-toggle=\"collapse\" data-bs-target=\"#faq-content-275\">Anti-Authority and Militia Movements in Canada</button></h3><div id=\"faq-content-275\" class=\"accordion-collapse collapse\" data-bs-parent=\"#faqlist\"><div class=\"accordion-body\"><p>Author: <strong>Dr. Barbara Perry</strong></p><a href=\"https://journals.lib.sfu.ca/index.php/jicw/article/view/822 \" target=\"_blank\" class=\"btn-get-started\">Access publication</a></div></div> </div><!-- # Faq item-->\n"
     ]
    }
   ],
   "source": [
    "for index, row in democratic_preservation.iterrows():\n",
    "    print(build_html(row))"
   ]
  },
  {
   "cell_type": "code",
   "execution_count": 17,
   "id": "cf688192",
   "metadata": {
    "collapsed": true
   },
   "outputs": [
    {
     "name": "stdout",
     "output_type": "stream",
     "text": [
      "<div class=\"accordion-item\"><h3 class=\"accordion-header\"><button class=\"accordion-button collapsed\" type=\"button\" data-bs-toggle=\"collapse\" data-bs-target=\"#faq-content-27\">Information Through the Lens of Safety and Security</button></h3><div id=\"faq-content-27\" class=\"accordion-collapse collapse\" data-bs-parent=\"#faqlist\"><div class=\"accordion-body\"><p>Author: <strong>Dr. Patrick Neal</strong></p><a href=\"https://journals.lib.sfu.ca/index.php/jicw/article/view/5407\" target=\"_blank\" class=\"btn-get-started\">Access publication</a></div></div> </div><!-- # Faq item-->\n",
      "<div class=\"accordion-item\"><h3 class=\"accordion-header\"><button class=\"accordion-button collapsed\" type=\"button\" data-bs-toggle=\"collapse\" data-bs-target=\"#faq-content-35\">Information Integrity Lab and the Importance of Continuing Digital Education for Intelligence </button></h3><div id=\"faq-content-35\" class=\"accordion-collapse collapse\" data-bs-parent=\"#faqlist\"><div class=\"accordion-body\"><p>Author: <strong>Alan Jones</strong></p><a href=\"https://journals.lib.sfu.ca/index.php/jicw/article/view/5186\" target=\"_blank\" class=\"btn-get-started\">Access publication</a></div></div> </div><!-- # Faq item-->\n",
      "<div class=\"accordion-item\"><h3 class=\"accordion-header\"><button class=\"accordion-button collapsed\" type=\"button\" data-bs-toggle=\"collapse\" data-bs-target=\"#faq-content-45\">Extremist Propaganda and the 'Politics of the Internet' </button></h3><div id=\"faq-content-45\" class=\"accordion-collapse collapse\" data-bs-parent=\"#faqlist\"><div class=\"accordion-body\"><p>Author: <strong>Dr. Julian Richards</strong></p><a href=\"https://journals.lib.sfu.ca/index.php/jicw/article/view/2798\" target=\"_blank\" class=\"btn-get-started\">Access publication</a></div></div> </div><!-- # Faq item-->\n",
      "<div class=\"accordion-item\"><h3 class=\"accordion-header\"><button class=\"accordion-button collapsed\" type=\"button\" data-bs-toggle=\"collapse\" data-bs-target=\"#faq-content-48\">Lessons Learned in Intelligence Analysis</button></h3><div id=\"faq-content-48\" class=\"accordion-collapse collapse\" data-bs-parent=\"#faqlist\"><div class=\"accordion-body\"><p>Author: <strong>John Pyrik</strong></p><a href=\"https://journals.lib.sfu.ca/index.php/jicw/article/view/651\" target=\"_blank\" class=\"btn-get-started\">Access publication</a></div></div> </div><!-- # Faq item-->\n",
      "<div class=\"accordion-item\"><h3 class=\"accordion-header\"><button class=\"accordion-button collapsed\" type=\"button\" data-bs-toggle=\"collapse\" data-bs-target=\"#faq-content-54\">Information Power and Russia’s National Security Objectives </button></h3><div id=\"faq-content-54\" class=\"accordion-collapse collapse\" data-bs-parent=\"#faqlist\"><div class=\"accordion-body\"><p>Author: <strong>Kevin Riehle</strong></p><a href=\"https://journals.lib.sfu.ca/index.php/jicw/article/view/3791\" target=\"_blank\" class=\"btn-get-started\">Access publication</a></div></div> </div><!-- # Faq item-->\n",
      "<div class=\"accordion-item\"><h3 class=\"accordion-header\"><button class=\"accordion-button collapsed\" type=\"button\" data-bs-toggle=\"collapse\" data-bs-target=\"#faq-content-112\">Policing During COVID-19: Perspectives from MET Police, UK</button></h3><div id=\"faq-content-112\" class=\"accordion-collapse collapse\" data-bs-parent=\"#faqlist\"><div class=\"accordion-body\"><p>Author: <strong>Deputy Assistant Commissioner Lucy D'Orsi</strong></p><a href=\"https://journals.lib.sfu.ca/index.php/jicw/article/view/2778\" target=\"_blank\" class=\"btn-get-started\">Access publication</a></div></div> </div><!-- # Faq item-->\n",
      "<div class=\"accordion-item\"><h3 class=\"accordion-header\"><button class=\"accordion-button collapsed\" type=\"button\" data-bs-toggle=\"collapse\" data-bs-target=\"#faq-content-175\">INTERSECTIONS OF MASS MEDIA, TERRORISM, AND POLICY RESPONSE: HOW MASS MEDIATED REPRESENTATIONS OF TERRORISM MAY INFLUENCE COUNTERTERRORIST POLICIES\n",
      "</button></h3><div id=\"faq-content-175\" class=\"accordion-collapse collapse\" data-bs-parent=\"#faqlist\"><div class=\"accordion-body\"><p>Author: <strong>Dr. Brigitte Nacos</strong></p><a href=\"https://journals.lib.sfu.ca/index.php/jicw/article/view/5182\" target=\"_blank\" class=\"btn-get-started\">Access publication</a></div></div> </div><!-- # Faq item-->\n",
      "<div class=\"accordion-item\"><h3 class=\"accordion-header\"><button class=\"accordion-button collapsed\" type=\"button\" data-bs-toggle=\"collapse\" data-bs-target=\"#faq-content-198\">MEDIA/DIGITAL LITERACY IN AN ERA OF DISINFORMATION</button></h3><div id=\"faq-content-198\" class=\"accordion-collapse collapse\" data-bs-parent=\"#faqlist\"><div class=\"accordion-body\"><p>Author: <strong>Dr. Heidi Tworek</strong></p><a href=\"https://journals.lib.sfu.ca/index.php/jicw/article/view/5211\" target=\"_blank\" class=\"btn-get-started\">Access publication</a></div></div> </div><!-- # Faq item-->\n",
      "<div class=\"accordion-item\"><h3 class=\"accordion-header\"><button class=\"accordion-button collapsed\" type=\"button\" data-bs-toggle=\"collapse\" data-bs-target=\"#faq-content-222\">Radicalization in the Age of Social Media: Mass Identity Manipulations (MIMs)</button></h3><div id=\"faq-content-222\" class=\"accordion-collapse collapse\" data-bs-parent=\"#faqlist\"><div class=\"accordion-body\"><p>Author: <strong>Dr. Sophia Moskalenko</strong></p><a href=\"https://journals.lib.sfu.ca/index.php/jicw/article/view/2539 \" target=\"_blank\" class=\"btn-get-started\">Access publication</a></div></div> </div><!-- # Faq item-->\n",
      "<div class=\"accordion-item\"><h3 class=\"accordion-header\"><button class=\"accordion-button collapsed\" type=\"button\" data-bs-toggle=\"collapse\" data-bs-target=\"#faq-content-223\">Evolution of QAnon & Radicalization by Conspiracy Theories</button></h3><div id=\"faq-content-223\" class=\"accordion-collapse collapse\" data-bs-parent=\"#faqlist\"><div class=\"accordion-body\"><p>Author: <strong>Dr. Sophia Moskalenko</strong></p><a href=\"https://journals.lib.sfu.ca/index.php/jicw/article/view/3756\" target=\"_blank\" class=\"btn-get-started\">Access publication</a></div></div> </div><!-- # Faq item-->\n",
      "<div class=\"accordion-item\"><h3 class=\"accordion-header\"><button class=\"accordion-button collapsed\" type=\"button\" data-bs-toggle=\"collapse\" data-bs-target=\"#faq-content-232\">DEADLY DISINFORMATION: LGBTQ CONTAGION NARRATIVES AS RADICALIZING DISINFORMATION IN RUSSIAN PROPAGANDA</button></h3><div id=\"faq-content-232\" class=\"accordion-collapse collapse\" data-bs-parent=\"#faqlist\"><div class=\"accordion-body\"><p>Author: <strong>Dr. Sophia Moskalenko</strong></p><a href=\"https://journals.lib.sfu.ca/index.php/jicw/article/view/5171\" target=\"_blank\" class=\"btn-get-started\">Access publication</a></div></div> </div><!-- # Faq item-->\n",
      "<div class=\"accordion-item\"><h3 class=\"accordion-header\"><button class=\"accordion-button collapsed\" type=\"button\" data-bs-toggle=\"collapse\" data-bs-target=\"#faq-content-236\">Memes and Media's Role in Radicalization</button></h3><div id=\"faq-content-236\" class=\"accordion-collapse collapse\" data-bs-parent=\"#faqlist\"><div class=\"accordion-body\"><p>Author: <strong>Tina Askanius</strong></p><a href=\"https://journals.lib.sfu.ca/index.php/jicw/article/view/3753\" target=\"_blank\" class=\"btn-get-started\">Access publication</a></div></div> </div><!-- # Faq item-->\n",
      "<div class=\"accordion-item\"><h3 class=\"accordion-header\"><button class=\"accordion-button collapsed\" type=\"button\" data-bs-toggle=\"collapse\" data-bs-target=\"#faq-content-257\">Domestic Russian politics and comparative democratization</button></h3><div id=\"faq-content-257\" class=\"accordion-collapse collapse\" data-bs-parent=\"#faqlist\"><div class=\"accordion-body\"><p>Author: <strong>Dr. Lisa Sundstrom</strong></p><a href=\"https://journals.lib.sfu.ca/index.php/jicw/article/view/4280\" target=\"_blank\" class=\"btn-get-started\">Access publication</a></div></div> </div><!-- # Faq item-->\n",
      "<div class=\"accordion-item\"><h3 class=\"accordion-header\"><button class=\"accordion-button collapsed\" type=\"button\" data-bs-toggle=\"collapse\" data-bs-target=\"#faq-content-260\">Malign Influence Operations in Narrative Warfare</button></h3><div id=\"faq-content-260\" class=\"accordion-collapse collapse\" data-bs-parent=\"#faqlist\"><div class=\"accordion-body\"><p>Author: <strong>John Daniele</strong></p><a href=\"https://journals.lib.sfu.ca/index.php/jicw/article/view/5042\" target=\"_blank\" class=\"btn-get-started\">Access publication</a></div></div> </div><!-- # Faq item-->\n",
      "<div class=\"accordion-item\"><h3 class=\"accordion-header\"><button class=\"accordion-button collapsed\" type=\"button\" data-bs-toggle=\"collapse\" data-bs-target=\"#faq-content-269\">Radicalization and Violent Extremism in the Era of COVID-19</button></h3><div id=\"faq-content-269\" class=\"accordion-collapse collapse\" data-bs-parent=\"#faqlist\"><div class=\"accordion-body\"><p>Author: <strong>Dr. Garth Davies</strong></p><a href=\"https://journals.lib.sfu.ca/index.php/jicw/article/view/2824 \" target=\"_blank\" class=\"btn-get-started\">Access publication</a></div></div> </div><!-- # Faq item-->\n",
      "<div class=\"accordion-item\"><h3 class=\"accordion-header\"><button class=\"accordion-button collapsed\" type=\"button\" data-bs-toggle=\"collapse\" data-bs-target=\"#faq-content-277\">Social Cohesion and Conflict Dynamics on Social Media</button></h3><div id=\"faq-content-277\" class=\"accordion-collapse collapse\" data-bs-parent=\"#faqlist\"><div class=\"accordion-body\"><p>Author: <strong>Dr. Lisa Schirch</strong></p><a href=\"https://journals.lib.sfu.ca/index.php/jicw/article/view/2953\" target=\"_blank\" class=\"btn-get-started\">Access publication</a></div></div> </div><!-- # Faq item-->\n",
      "<div class=\"accordion-item\"><h3 class=\"accordion-header\"><button class=\"accordion-button collapsed\" type=\"button\" data-bs-toggle=\"collapse\" data-bs-target=\"#faq-content-280\">The Use of Memes and Satire by the Alt-right and Gen Z Activists – Exclusion vs Inclusion</button></h3><div id=\"faq-content-280\" class=\"accordion-collapse collapse\" data-bs-parent=\"#faqlist\"><div class=\"accordion-body\"><p>Author: <strong>Dr. Viveca S. Greene</strong></p><a href=\"https://journals.lib.sfu.ca/index.php/jicw/article/view/2818\" target=\"_blank\" class=\"btn-get-started\">Access publication</a></div></div> </div><!-- # Faq item-->\n",
      "<div class=\"accordion-item\"><h3 class=\"accordion-header\"><button class=\"accordion-button collapsed\" type=\"button\" data-bs-toggle=\"collapse\" data-bs-target=\"#faq-content-289\">The Weaponization of Deep Fakes: Threats and Responses</button></h3><div id=\"faq-content-289\" class=\"accordion-collapse collapse\" data-bs-parent=\"#faqlist\"><div class=\"accordion-body\"><p>Author: <strong>Dr. Hany Farid</strong></p><a href=\"https://journals.lib.sfu.ca/index.php/jicw/article/view/3720\" target=\"_blank\" class=\"btn-get-started\">Access publication</a></div></div> </div><!-- # Faq item-->\n",
      "<div class=\"accordion-item\"><h3 class=\"accordion-header\"><button class=\"accordion-button collapsed\" type=\"button\" data-bs-toggle=\"collapse\" data-bs-target=\"#faq-content-291\">Detecting and Combating Deep Fakes</button></h3><div id=\"faq-content-291\" class=\"accordion-collapse collapse\" data-bs-parent=\"#faqlist\"><div class=\"accordion-body\"><p>Author: <strong>Dr. Hany Farid</strong></p><a href=\"https://journals.lib.sfu.ca/index.php/jicw/article/view/2752 \" target=\"_blank\" class=\"btn-get-started\">Access publication</a></div></div> </div><!-- # Faq item-->\n",
      "<div class=\"accordion-item\"><h3 class=\"accordion-header\"><button class=\"accordion-button collapsed\" type=\"button\" data-bs-toggle=\"collapse\" data-bs-target=\"#faq-content-300\">COVID-19: China's Foreign Policy in the South China Sea</button></h3><div id=\"faq-content-300\" class=\"accordion-collapse collapse\" data-bs-parent=\"#faqlist\"><div class=\"accordion-body\"><p>Author: <strong>Brett Witthoeft</strong></p><a href=\"https://journals.lib.sfu.ca/index.php/jicw/article/view/2408\" target=\"_blank\" class=\"btn-get-started\">Access publication</a></div></div> </div><!-- # Faq item-->\n",
      "<div class=\"accordion-item\"><h3 class=\"accordion-header\"><button class=\"accordion-button collapsed\" type=\"button\" data-bs-toggle=\"collapse\" data-bs-target=\"#faq-content-317\">Cyber Security in an Information Warfare Age</button></h3><div id=\"faq-content-317\" class=\"accordion-collapse collapse\" data-bs-parent=\"#faqlist\"><div class=\"accordion-body\"><p>Author: <strong>Steven Pearce</strong></p><a href=\"https://journals.lib.sfu.ca/index.php/jicw/article/view/652\" target=\"_blank\" class=\"btn-get-started\">Access publication</a></div></div> </div><!-- # Faq item-->\n"
     ]
    }
   ],
   "source": [
    "for index, row in info_integrity.iterrows():\n",
    "    print(build_html(row))"
   ]
  },
  {
   "cell_type": "code",
   "execution_count": 18,
   "id": "996c0b7f",
   "metadata": {
    "collapsed": true
   },
   "outputs": [
    {
     "name": "stdout",
     "output_type": "stream",
     "text": [
      "<div class=\"accordion-item\"><h3 class=\"accordion-header\"><button class=\"accordion-button collapsed\" type=\"button\" data-bs-toggle=\"collapse\" data-bs-target=\"#faq-content-5\">Violent Transnational Social Movements and their Impact on Contemporary Social Conflict</button></h3><div id=\"faq-content-5\" class=\"accordion-collapse collapse\" data-bs-parent=\"#faqlist\"><div class=\"accordion-body\"><p>Author: <strong>Candyce Kelshall</strong></p><a href=\"https://journals.lib.sfu.ca/index.php/jicw/article/view/840\" target=\"_blank\" class=\"btn-get-started\">Access publication</a></div></div> </div><!-- # Faq item-->\n",
      "<div class=\"accordion-item\"><h3 class=\"accordion-header\"><button class=\"accordion-button collapsed\" type=\"button\" data-bs-toggle=\"collapse\" data-bs-target=\"#faq-content-28\">Information Through the Lens of Safety and Security</button></h3><div id=\"faq-content-28\" class=\"accordion-collapse collapse\" data-bs-parent=\"#faqlist\"><div class=\"accordion-body\"><p>Author: <strong>Dr. Patrick Neal</strong></p><a href=\"https://journals.lib.sfu.ca/index.php/jicw/article/view/5407\" target=\"_blank\" class=\"btn-get-started\">Access publication</a></div></div> </div><!-- # Faq item-->\n",
      "<div class=\"accordion-item\"><h3 class=\"accordion-header\"><button class=\"accordion-button collapsed\" type=\"button\" data-bs-toggle=\"collapse\" data-bs-target=\"#faq-content-34\">National Security and Parliamentary Review Four Years On: Is it Working?</button></h3><div id=\"faq-content-34\" class=\"accordion-collapse collapse\" data-bs-parent=\"#faqlist\"><div class=\"accordion-body\"><p>Author: <strong>Honourable David McGuinty</strong></p><a href=\"https://journals.lib.sfu.ca/index.php/jicw/article/view/3068\" target=\"_blank\" class=\"btn-get-started\">Access publication</a></div></div> </div><!-- # Faq item-->\n",
      "<div class=\"accordion-item\"><h3 class=\"accordion-header\"><button class=\"accordion-button collapsed\" type=\"button\" data-bs-toggle=\"collapse\" data-bs-target=\"#faq-content-55\">Information Power and Russia’s National Security Objectives </button></h3><div id=\"faq-content-55\" class=\"accordion-collapse collapse\" data-bs-parent=\"#faqlist\"><div class=\"accordion-body\"><p>Author: <strong>Kevin Riehle</strong></p><a href=\"https://journals.lib.sfu.ca/index.php/jicw/article/view/3791\" target=\"_blank\" class=\"btn-get-started\">Access publication</a></div></div> </div><!-- # Faq item-->\n",
      "<div class=\"accordion-item\"><h3 class=\"accordion-header\"><button class=\"accordion-button collapsed\" type=\"button\" data-bs-toggle=\"collapse\" data-bs-target=\"#faq-content-74\">The Joint Intelligence Committee and Reading the Russian Mindset </button></h3><div id=\"faq-content-74\" class=\"accordion-collapse collapse\" data-bs-parent=\"#faqlist\"><div class=\"accordion-body\"><p>Author: <strong>Professor Michael Goodman</strong></p><a href=\"https://journals.lib.sfu.ca/index.php/jicw/article/view/4162\" target=\"_blank\" class=\"btn-get-started\">Access publication</a></div></div> </div><!-- # Faq item-->\n",
      "<div class=\"accordion-item\"><h3 class=\"accordion-header\"><button class=\"accordion-button collapsed\" type=\"button\" data-bs-toggle=\"collapse\" data-bs-target=\"#faq-content-75\">Jurisdictional Challenges in the 21st Century Security Environment: Subnational Design-Basis Threats</button></h3><div id=\"faq-content-75\" class=\"accordion-collapse collapse\" data-bs-parent=\"#faqlist\"><div class=\"accordion-body\"><p>Author: <strong>Dr. Bill McAuley</strong></p><a href=\"https://journals.lib.sfu.ca/index.php/jicw/article/view/2749 \" target=\"_blank\" class=\"btn-get-started\">Access publication</a></div></div> </div><!-- # Faq item-->\n",
      "<div class=\"accordion-item\"><h3 class=\"accordion-header\"><button class=\"accordion-button collapsed\" type=\"button\" data-bs-toggle=\"collapse\" data-bs-target=\"#faq-content-76\">Canada's Defence Intelligence ToolKit</button></h3><div id=\"faq-content-76\" class=\"accordion-collapse collapse\" data-bs-parent=\"#faqlist\"><div class=\"accordion-body\"><p>Author: <strong>Lane Aker</strong></p><a href=\"https://journals.lib.sfu.ca/index.php/jicw/article/view/5408\" target=\"_blank\" class=\"btn-get-started\">Access publication</a></div></div> </div><!-- # Faq item-->\n",
      "<div class=\"accordion-item\"><h3 class=\"accordion-header\"><button class=\"accordion-button collapsed\" type=\"button\" data-bs-toggle=\"collapse\" data-bs-target=\"#faq-content-79\">Equity, Diversity, and Inclusion in National Security Intelligence\n",
      "</button></h3><div id=\"faq-content-79\" class=\"accordion-collapse collapse\" data-bs-parent=\"#faqlist\"><div class=\"accordion-body\"><p>Author: <strong>Artur Wilczynski\n",
      "</strong></p><a href=\"https://journals.lib.sfu.ca/index.php/jicw/article/view/4197\" target=\"_blank\" class=\"btn-get-started\">Access publication</a></div></div> </div><!-- # Faq item-->\n",
      "<div class=\"accordion-item\"><h3 class=\"accordion-header\"><button class=\"accordion-button collapsed\" type=\"button\" data-bs-toggle=\"collapse\" data-bs-target=\"#faq-content-80\">PROFESSIONALIZING AND STANDARDIZING INTELLIGENCE PRACTICE IN THE CONTEXT OF NATIONAL SECURITY</button></h3><div id=\"faq-content-80\" class=\"accordion-collapse collapse\" data-bs-parent=\"#faqlist\"><div class=\"accordion-body\"><p>Author: <strong>Roberto Mendoza\n",
      "</strong></p><a href=\"https://journals.lib.sfu.ca/index.php/jicw/article/view/5187\" target=\"_blank\" class=\"btn-get-started\">Access publication</a></div></div> </div><!-- # Faq item-->\n",
      "<div class=\"accordion-item\"><h3 class=\"accordion-header\"><button class=\"accordion-button collapsed\" type=\"button\" data-bs-toggle=\"collapse\" data-bs-target=\"#faq-content-102\">Interagency Collaboration and National Security</button></h3><div id=\"faq-content-102\" class=\"accordion-collapse collapse\" data-bs-parent=\"#faqlist\"><div class=\"accordion-body\"><p>Author: <strong>Brigadier-General Archilus Phillips</strong></p><a href=\"https://journals.lib.sfu.ca/index.php/jicw/article/view/2817\" target=\"_blank\" class=\"btn-get-started\">Access publication</a></div></div> </div><!-- # Faq item-->\n",
      "<div class=\"accordion-item\"><h3 class=\"accordion-header\"><button class=\"accordion-button collapsed\" type=\"button\" data-bs-toggle=\"collapse\" data-bs-target=\"#faq-content-149\">Illicit Drugs & the Impact of Canadian Organized Crime Groups</button></h3><div id=\"faq-content-149\" class=\"accordion-collapse collapse\" data-bs-parent=\"#faqlist\"><div class=\"accordion-body\"><p>Author: <strong>Chief Constable Mike Serr</strong></p><a href=\"https://journals.lib.sfu.ca/index.php/jicw/article/view/1190\" target=\"_blank\" class=\"btn-get-started\">Access publication</a></div></div> </div><!-- # Faq item-->\n",
      "<div class=\"accordion-item\"><h3 class=\"accordion-header\"><button class=\"accordion-button collapsed\" type=\"button\" data-bs-toggle=\"collapse\" data-bs-target=\"#faq-content-172\">CANADIAN ENERGY SECURITY\n",
      "</button></h3><div id=\"faq-content-172\" class=\"accordion-collapse collapse\" data-bs-parent=\"#faqlist\"><div class=\"accordion-body\"><p>Author: <strong>Jackie Forrest</strong></p><a href=\"https://journals.lib.sfu.ca/index.php/jicw/article/view/5178\" target=\"_blank\" class=\"btn-get-started\">Access publication</a></div></div> </div><!-- # Faq item-->\n",
      "<div class=\"accordion-item\"><h3 class=\"accordion-header\"><button class=\"accordion-button collapsed\" type=\"button\" data-bs-toggle=\"collapse\" data-bs-target=\"#faq-content-189\">Resiliency to Vulnerabilities and Violence in the Caribbean</button></h3><div id=\"faq-content-189\" class=\"accordion-collapse collapse\" data-bs-parent=\"#faqlist\"><div class=\"accordion-body\"><p>Author: <strong>Andy Knight</strong></p><a href=\"https://journals.lib.sfu.ca/index.php/jicw/article/view/5057\" target=\"_blank\" class=\"btn-get-started\">Access publication</a></div></div> </div><!-- # Faq item-->\n",
      "<div class=\"accordion-item\"><h3 class=\"accordion-header\"><button class=\"accordion-button collapsed\" type=\"button\" data-bs-toggle=\"collapse\" data-bs-target=\"#faq-content-200\">The Conflation of Organized Crime and Terrorism in Venezuela</button></h3><div id=\"faq-content-200\" class=\"accordion-collapse collapse\" data-bs-parent=\"#faqlist\"><div class=\"accordion-body\"><p>Author: <strong>Victoria Dittmar</strong></p><a href=\"https://journals.lib.sfu.ca/index.php/jicw/article/view/1187\" target=\"_blank\" class=\"btn-get-started\">Access publication</a></div></div> </div><!-- # Faq item-->\n",
      "<div class=\"accordion-item\"><h3 class=\"accordion-header\"><button class=\"accordion-button collapsed\" type=\"button\" data-bs-toggle=\"collapse\" data-bs-target=\"#faq-content-206\">Organized Crime Groups in Latin America and TREX-Hybridity</button></h3><div id=\"faq-content-206\" class=\"accordion-collapse collapse\" data-bs-parent=\"#faqlist\"><div class=\"accordion-body\"><p>Author: <strong>Victoria Dittmar</strong></p><a href=\"https://journals.lib.sfu.ca/index.php/jicw/article/view/2799\" target=\"_blank\" class=\"btn-get-started\">Access publication</a></div></div> </div><!-- # Faq item-->\n",
      "<div class=\"accordion-item\"><h3 class=\"accordion-header\"><button class=\"accordion-button collapsed\" type=\"button\" data-bs-toggle=\"collapse\" data-bs-target=\"#faq-content-208\">Introduction to special issue - Security and the Centrality of Jurisdiction</button></h3><div id=\"faq-content-208\" class=\"accordion-collapse collapse\" data-bs-parent=\"#faqlist\"><div class=\"accordion-body\"><p>Author: <strong>Dr. Erin Gibbs Van Brunschot</strong></p><a href=\"https://journals.lib.sfu.ca/index.php/jicw/article/view/5129 \" target=\"_blank\" class=\"btn-get-started\">Access publication</a></div></div> </div><!-- # Faq item-->\n",
      "<div class=\"accordion-item\"><h3 class=\"accordion-header\"><button class=\"accordion-button collapsed\" type=\"button\" data-bs-toggle=\"collapse\" data-bs-target=\"#faq-content-211\">Jurisdiction and Security</button></h3><div id=\"faq-content-211\" class=\"accordion-collapse collapse\" data-bs-parent=\"#faqlist\"><div class=\"accordion-body\"><p>Author: <strong>Dr. Erin Gibbs Van Brunschot</strong></p><a href=\"https://journals.lib.sfu.ca/index.php/jicw/article/view/5035\" target=\"_blank\" class=\"btn-get-started\">Access publication</a></div></div> </div><!-- # Faq item-->\n",
      "<div class=\"accordion-item\"><h3 class=\"accordion-header\"><button class=\"accordion-button collapsed\" type=\"button\" data-bs-toggle=\"collapse\" data-bs-target=\"#faq-content-213\">Does Canada have anything in the way of a strategic warning intelligence culture (and does it need one)?</button></h3><div id=\"faq-content-213\" class=\"accordion-collapse collapse\" data-bs-parent=\"#faqlist\"><div class=\"accordion-body\"><p>Author: <strong>John Gilmour</strong></p><a href=\"https://journals.lib.sfu.ca/index.php/jicw/article/view/3623\" target=\"_blank\" class=\"btn-get-started\">Access publication</a></div></div> </div><!-- # Faq item-->\n",
      "<div class=\"accordion-item\"><h3 class=\"accordion-header\"><button class=\"accordion-button collapsed\" type=\"button\" data-bs-toggle=\"collapse\" data-bs-target=\"#faq-content-246\">The Implications of the Wagner group in Africa and the Middle East</button></h3><div id=\"faq-content-246\" class=\"accordion-collapse collapse\" data-bs-parent=\"#faqlist\"><div class=\"accordion-body\"><p>Author: <strong>Royce de Melo</strong></p><a href=\"https://journals.lib.sfu.ca/index.php/jicw/article/view/5405\" target=\"_blank\" class=\"btn-get-started\">Access publication</a></div></div> </div><!-- # Faq item-->\n",
      "<div class=\"accordion-item\"><h3 class=\"accordion-header\"><button class=\"accordion-button collapsed\" type=\"button\" data-bs-toggle=\"collapse\" data-bs-target=\"#faq-content-263\">Canada's Energy Security in the Context of Global Instability</button></h3><div id=\"faq-content-263\" class=\"accordion-collapse collapse\" data-bs-parent=\"#faqlist\"><div class=\"accordion-body\"><p>Author: <strong>Peter Tertzakian</strong></p><a href=\"https://journals.lib.sfu.ca/index.php/jicw/article/view/5047\" target=\"_blank\" class=\"btn-get-started\">Access publication</a></div></div> </div><!-- # Faq item-->\n",
      "<div class=\"accordion-item\"><h3 class=\"accordion-header\"><button class=\"accordion-button collapsed\" type=\"button\" data-bs-toggle=\"collapse\" data-bs-target=\"#faq-content-268\">Radicalization and Violent Extremism in the Era of COVID-19</button></h3><div id=\"faq-content-268\" class=\"accordion-collapse collapse\" data-bs-parent=\"#faqlist\"><div class=\"accordion-body\"><p>Author: <strong>Dr. Garth Davies</strong></p><a href=\"https://journals.lib.sfu.ca/index.php/jicw/article/view/2824 \" target=\"_blank\" class=\"btn-get-started\">Access publication</a></div></div> </div><!-- # Faq item-->\n",
      "<div class=\"accordion-item\"><h3 class=\"accordion-header\"><button class=\"accordion-button collapsed\" type=\"button\" data-bs-toggle=\"collapse\" data-bs-target=\"#faq-content-301\">COVID-19: China's Foreign Policy in the South China Sea</button></h3><div id=\"faq-content-301\" class=\"accordion-collapse collapse\" data-bs-parent=\"#faqlist\"><div class=\"accordion-body\"><p>Author: <strong>Brett Witthoeft</strong></p><a href=\"https://journals.lib.sfu.ca/index.php/jicw/article/view/2408\" target=\"_blank\" class=\"btn-get-started\">Access publication</a></div></div> </div><!-- # Faq item-->\n",
      "<div class=\"accordion-item\"><h3 class=\"accordion-header\"><button class=\"accordion-button collapsed\" type=\"button\" data-bs-toggle=\"collapse\" data-bs-target=\"#faq-content-302\">The Protective Power of Behavioural Threat Assessment (& Management) (BTAM)</button></h3><div id=\"faq-content-302\" class=\"accordion-collapse collapse\" data-bs-parent=\"#faqlist\"><div class=\"accordion-body\"><p>Author: <strong>Andrea Ringrose</strong></p><a href=\"https://journals.lib.sfu.ca/index.php/jicw/article/view/2409 \" target=\"_blank\" class=\"btn-get-started\">Access publication</a></div></div> </div><!-- # Faq item-->\n",
      "<div class=\"accordion-item\"><h3 class=\"accordion-header\"><button class=\"accordion-button collapsed\" type=\"button\" data-bs-toggle=\"collapse\" data-bs-target=\"#faq-content-303\">Intrastate Warfare</button></h3><div id=\"faq-content-303\" class=\"accordion-collapse collapse\" data-bs-parent=\"#faqlist\"><div class=\"accordion-body\"><p>Author: <strong>Dr. Arjun Chowdhurry</strong></p><a href=\"https://journals.lib.sfu.ca/index.php/jicw/article/view/2411 \" target=\"_blank\" class=\"btn-get-started\">Access publication</a></div></div> </div><!-- # Faq item-->\n"
     ]
    }
   ],
   "source": [
    "for index, row in national_regional_sec.iterrows():\n",
    "    print(build_html(row))"
   ]
  },
  {
   "cell_type": "code",
   "execution_count": 19,
   "id": "ec6837f1",
   "metadata": {
    "collapsed": true
   },
   "outputs": [
    {
     "name": "stdout",
     "output_type": "stream",
     "text": [
      "<div class=\"accordion-item\"><h3 class=\"accordion-header\"><button class=\"accordion-button collapsed\" type=\"button\" data-bs-toggle=\"collapse\" data-bs-target=\"#faq-content-4\">Violent Transnational Social Movements and their Impact on Contemporary Social Conflict</button></h3><div id=\"faq-content-4\" class=\"accordion-collapse collapse\" data-bs-parent=\"#faqlist\"><div class=\"accordion-body\"><p>Author: <strong>Candyce Kelshall</strong></p><a href=\"https://journals.lib.sfu.ca/index.php/jicw/article/view/840\" target=\"_blank\" class=\"btn-get-started\">Access publication</a></div></div> </div><!-- # Faq item-->\n",
      "<div class=\"accordion-item\"><h3 class=\"accordion-header\"><button class=\"accordion-button collapsed\" type=\"button\" data-bs-toggle=\"collapse\" data-bs-target=\"#faq-content-10\">Soft Violence, Social Radicalisation, and Violent Transnational Social Movements (VTSMs)</button></h3><div id=\"faq-content-10\" class=\"accordion-collapse collapse\" data-bs-parent=\"#faqlist\"><div class=\"accordion-body\"><p>Author: <strong>Candyce Kelshall</strong></p><a href=\"https://journals.lib.sfu.ca/index.php/jicw/article/view/2800\" target=\"_blank\" class=\"btn-get-started\">Access publication</a></div></div> </div><!-- # Faq item-->\n",
      "<div class=\"accordion-item\"><h3 class=\"accordion-header\"><button class=\"accordion-button collapsed\" type=\"button\" data-bs-toggle=\"collapse\" data-bs-target=\"#faq-content-18\">DISRUPTION: HIDING IN PLAIN SIGHT</button></h3><div id=\"faq-content-18\" class=\"accordion-collapse collapse\" data-bs-parent=\"#faqlist\"><div class=\"accordion-body\"><p>Author: <strong>Candyce Kelshall</strong></p><a href=\"https://journals.lib.sfu.ca/index.php/jicw/article/view/5175\" target=\"_blank\" class=\"btn-get-started\">Access publication</a></div></div> </div><!-- # Faq item-->\n",
      "<div class=\"accordion-item\"><h3 class=\"accordion-header\"><button class=\"accordion-button collapsed\" type=\"button\" data-bs-toggle=\"collapse\" data-bs-target=\"#faq-content-161\">Invisible Insecurity\n",
      "</button></h3><div id=\"faq-content-161\" class=\"accordion-collapse collapse\" data-bs-parent=\"#faqlist\"><div class=\"accordion-body\"><p>Author: <strong>Dr. Gitanjali Adlakha-Hutcheon</strong></p><a href=\"https://journals.lib.sfu.ca/index.php/jicw/article/view/5410\" target=\"_blank\" class=\"btn-get-started\">Access publication</a></div></div> </div><!-- # Faq item-->\n",
      "<div class=\"accordion-item\"><h3 class=\"accordion-header\"><button class=\"accordion-button collapsed\" type=\"button\" data-bs-toggle=\"collapse\" data-bs-target=\"#faq-content-162\">DO DISRUPTION, IDEATION, AND INNOVATION FEED ONE ANOTHER?\n",
      "</button></h3><div id=\"faq-content-162\" class=\"accordion-collapse collapse\" data-bs-parent=\"#faqlist\"><div class=\"accordion-body\"><p>Author: <strong>Dr. Gitanjali Adlakha-Hutcheon</strong></p><a href=\"https://journals.lib.sfu.ca/index.php/jicw/article/view/5176\" target=\"_blank\" class=\"btn-get-started\">Access publication</a></div></div> </div><!-- # Faq item-->\n",
      "<div class=\"accordion-item\"><h3 class=\"accordion-header\"><button class=\"accordion-button collapsed\" type=\"button\" data-bs-toggle=\"collapse\" data-bs-target=\"#faq-content-163\">MAD* Beyond Defence : *Methodology for Assessing Disruptions\n",
      "</button></h3><div id=\"faq-content-163\" class=\"accordion-collapse collapse\" data-bs-parent=\"#faqlist\"><div class=\"accordion-body\"><p>Author: <strong>Dr. Gitanjali Adlakha-Hutcheon</strong></p><a href=\"https://journals.lib.sfu.ca/index.php/jicw/article/view/5046\" target=\"_blank\" class=\"btn-get-started\">Access publication</a></div></div> </div><!-- # Faq item-->\n",
      "<div class=\"accordion-item\"><h3 class=\"accordion-header\"><button class=\"accordion-button collapsed\" type=\"button\" data-bs-toggle=\"collapse\" data-bs-target=\"#faq-content-199\">Why Are Violent Non-State Actors Able to Persist in the Context of the Modern State? The Case of the Maras in the Northern Triangle</button></h3><div id=\"faq-content-199\" class=\"accordion-collapse collapse\" data-bs-parent=\"#faqlist\"><div class=\"accordion-body\"><p>Author: <strong>Victoria Dittmar</strong></p><a href=\"https://journals.lib.sfu.ca/index.php/jicw/article/view/524 \" target=\"_blank\" class=\"btn-get-started\">Access publication</a></div></div> </div><!-- # Faq item-->\n",
      "<div class=\"accordion-item\"><h3 class=\"accordion-header\"><button class=\"accordion-button collapsed\" type=\"button\" data-bs-toggle=\"collapse\" data-bs-target=\"#faq-content-203\">The Conflation of Organized Crime and Terrorism in Venezuela</button></h3><div id=\"faq-content-203\" class=\"accordion-collapse collapse\" data-bs-parent=\"#faqlist\"><div class=\"accordion-body\"><p>Author: <strong>Victoria Dittmar</strong></p><a href=\"https://journals.lib.sfu.ca/index.php/jicw/article/view/1187\" target=\"_blank\" class=\"btn-get-started\">Access publication</a></div></div> </div><!-- # Faq item-->\n",
      "<div class=\"accordion-item\"><h3 class=\"accordion-header\"><button class=\"accordion-button collapsed\" type=\"button\" data-bs-toggle=\"collapse\" data-bs-target=\"#faq-content-204\">Organized Crime Groups in Latin America and TREX-Hybridity</button></h3><div id=\"faq-content-204\" class=\"accordion-collapse collapse\" data-bs-parent=\"#faqlist\"><div class=\"accordion-body\"><p>Author: <strong>Victoria Dittmar</strong></p><a href=\"https://journals.lib.sfu.ca/index.php/jicw/article/view/2799\" target=\"_blank\" class=\"btn-get-started\">Access publication</a></div></div> </div><!-- # Faq item-->\n",
      "<div class=\"accordion-item\"><h3 class=\"accordion-header\"><button class=\"accordion-button collapsed\" type=\"button\" data-bs-toggle=\"collapse\" data-bs-target=\"#faq-content-221\">Radicalization in the Age of Social Media: Mass Identity Manipulations (MIMs)</button></h3><div id=\"faq-content-221\" class=\"accordion-collapse collapse\" data-bs-parent=\"#faqlist\"><div class=\"accordion-body\"><p>Author: <strong>Dr. Sophia Moskalenko</strong></p><a href=\"https://journals.lib.sfu.ca/index.php/jicw/article/view/2539 \" target=\"_blank\" class=\"btn-get-started\">Access publication</a></div></div> </div><!-- # Faq item-->\n",
      "<div class=\"accordion-item\"><h3 class=\"accordion-header\"><button class=\"accordion-button collapsed\" type=\"button\" data-bs-toggle=\"collapse\" data-bs-target=\"#faq-content-224\">Evolution of QAnon & Radicalization by Conspiracy Theories</button></h3><div id=\"faq-content-224\" class=\"accordion-collapse collapse\" data-bs-parent=\"#faqlist\"><div class=\"accordion-body\"><p>Author: <strong>Dr. Sophia Moskalenko</strong></p><a href=\"https://journals.lib.sfu.ca/index.php/jicw/article/view/3756\" target=\"_blank\" class=\"btn-get-started\">Access publication</a></div></div> </div><!-- # Faq item-->\n",
      "<div class=\"accordion-item\"><h3 class=\"accordion-header\"><button class=\"accordion-button collapsed\" type=\"button\" data-bs-toggle=\"collapse\" data-bs-target=\"#faq-content-238\">Gen Z as Security Content Creators: Recreating the Terms of the Social Contract</button></h3><div id=\"faq-content-238\" class=\"accordion-collapse collapse\" data-bs-parent=\"#faqlist\"><div class=\"accordion-body\"><p>Author: <strong>Natalie Archutowski</strong></p><a href=\"https://journals.lib.sfu.ca/index.php/jicw/article/view/2809\" target=\"_blank\" class=\"btn-get-started\">Access publication</a></div></div> </div><!-- # Faq item-->\n",
      "<div class=\"accordion-item\"><h3 class=\"accordion-header\"><button class=\"accordion-button collapsed\" type=\"button\" data-bs-toggle=\"collapse\" data-bs-target=\"#faq-content-250\">Memes, viruses, and violence: A nation guide to managing contagious threats</button></h3><div id=\"faq-content-250\" class=\"accordion-collapse collapse\" data-bs-parent=\"#faqlist\"><div class=\"accordion-body\"><p>Author: <strong>Dr. Joel Finkelstein</strong></p><a href=\"https://journals.lib.sfu.ca/index.php/jicw/article/view/4250\" target=\"_blank\" class=\"btn-get-started\">Access publication</a></div></div> </div><!-- # Faq item-->\n",
      "<div class=\"accordion-item\"><h3 class=\"accordion-header\"><button class=\"accordion-button collapsed\" type=\"button\" data-bs-toggle=\"collapse\" data-bs-target=\"#faq-content-261\">Malign Influence Operations in Narrative Warfare</button></h3><div id=\"faq-content-261\" class=\"accordion-collapse collapse\" data-bs-parent=\"#faqlist\"><div class=\"accordion-body\"><p>Author: <strong>John Daniele</strong></p><a href=\"https://journals.lib.sfu.ca/index.php/jicw/article/view/5042\" target=\"_blank\" class=\"btn-get-started\">Access publication</a></div></div> </div><!-- # Faq item-->\n",
      "<div class=\"accordion-item\"><h3 class=\"accordion-header\"><button class=\"accordion-button collapsed\" type=\"button\" data-bs-toggle=\"collapse\" data-bs-target=\"#faq-content-276\">Social Cohesion and Conflict Dynamics on Social Media</button></h3><div id=\"faq-content-276\" class=\"accordion-collapse collapse\" data-bs-parent=\"#faqlist\"><div class=\"accordion-body\"><p>Author: <strong>Dr. Lisa Schirch</strong></p><a href=\"https://journals.lib.sfu.ca/index.php/jicw/article/view/2953\" target=\"_blank\" class=\"btn-get-started\">Access publication</a></div></div> </div><!-- # Faq item-->\n",
      "<div class=\"accordion-item\"><h3 class=\"accordion-header\"><button class=\"accordion-button collapsed\" type=\"button\" data-bs-toggle=\"collapse\" data-bs-target=\"#faq-content-278\">The Use of Memes and Satire by the Alt-right and Gen Z Activists – Exclusion vs Inclusion</button></h3><div id=\"faq-content-278\" class=\"accordion-collapse collapse\" data-bs-parent=\"#faqlist\"><div class=\"accordion-body\"><p>Author: <strong>Dr. Viveca S. Greene</strong></p><a href=\"https://journals.lib.sfu.ca/index.php/jicw/article/view/2818\" target=\"_blank\" class=\"btn-get-started\">Access publication</a></div></div> </div><!-- # Faq item-->\n",
      "<div class=\"accordion-item\"><h3 class=\"accordion-header\"><button class=\"accordion-button collapsed\" type=\"button\" data-bs-toggle=\"collapse\" data-bs-target=\"#faq-content-316\">Cyber Security in an Information Warfare Age</button></h3><div id=\"faq-content-316\" class=\"accordion-collapse collapse\" data-bs-parent=\"#faqlist\"><div class=\"accordion-body\"><p>Author: <strong>Steven Pearce</strong></p><a href=\"https://journals.lib.sfu.ca/index.php/jicw/article/view/652\" target=\"_blank\" class=\"btn-get-started\">Access publication</a></div></div> </div><!-- # Faq item-->\n",
      "<div class=\"accordion-item\"><h3 class=\"accordion-header\"><button class=\"accordion-button collapsed\" type=\"button\" data-bs-toggle=\"collapse\" data-bs-target=\"#faq-content-321\">Neo-Medievalism, Security And A New Social Contract</button></h3><div id=\"faq-content-321\" class=\"accordion-collapse collapse\" data-bs-parent=\"#faqlist\"><div class=\"accordion-body\"><p>Author: <strong>John Rapley</strong></p><a href=\"https://soundcloud.com/casisvancouver/episode-12-neo-medievalism-security-and-a-new-social-contract\" target=\"_blank\" class=\"btn-get-started\">Access publication</a></div></div> </div><!-- # Faq item-->\n"
     ]
    }
   ],
   "source": [
    "for index, row in disruptors.iterrows():\n",
    "    print(build_html(row))"
   ]
  }
 ],
 "metadata": {
  "kernelspec": {
   "display_name": "Python 3 (ipykernel)",
   "language": "python",
   "name": "python3"
  },
  "language_info": {
   "codemirror_mode": {
    "name": "ipython",
    "version": 3
   },
   "file_extension": ".py",
   "mimetype": "text/x-python",
   "name": "python",
   "nbconvert_exporter": "python",
   "pygments_lexer": "ipython3",
   "version": "3.10.6"
  }
 },
 "nbformat": 4,
 "nbformat_minor": 5
}
